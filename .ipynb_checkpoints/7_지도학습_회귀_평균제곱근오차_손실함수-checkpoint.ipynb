{
 "cells": [
  {
   "cell_type": "markdown",
   "metadata": {
    "colab_type": "text",
    "id": "3fZRb57Jgiqo"
   },
   "source": [
    "# 주제\n",
    "\n",
    "- 영화에 대한 고객들의 평가 데이터를 가지고, 분석, 예측등등 회귀모델을 통해서 구현\n",
    "- 회귀의 평가 지표를 사용\n",
    "- 특성들의 배치와 조합에 따라 지표는 다르게 나올수 있다 => 데이터를 준비하는 과정에 순서, 사용하는 특성 종류등도 영향을 미친다"
   ]
  },
  {
   "cell_type": "code",
   "execution_count": 1,
   "metadata": {
    "colab": {},
    "colab_type": "code",
    "id": "d588MAcA3v0l"
   },
   "outputs": [],
   "source": [
    "import numpy as np\n",
    "import pandas as pd"
   ]
  },
  {
   "cell_type": "markdown",
   "metadata": {
    "colab_type": "text",
    "id": "FVBsV_UqyIOj"
   },
   "source": [
    "# 데이터 로드"
   ]
  },
  {
   "cell_type": "markdown",
   "metadata": {
    "colab_type": "text",
    "id": "jjSMQSLTyKz8"
   },
   "source": [
    "## 고객정보로드"
   ]
  },
  {
   "cell_type": "code",
   "execution_count": 2,
   "metadata": {
    "colab": {
     "base_uri": "https://localhost:8080/",
     "height": 110
    },
    "colab_type": "code",
    "id": "OpE5ZsmRgIxA",
    "outputId": "14ab9de0-e8de-4b6a-8e68-bf98c6650a63"
   },
   "outputs": [
    {
     "data": {
      "text/html": [
       "<div>\n",
       "<style scoped>\n",
       "    .dataframe tbody tr th:only-of-type {\n",
       "        vertical-align: middle;\n",
       "    }\n",
       "\n",
       "    .dataframe tbody tr th {\n",
       "        vertical-align: top;\n",
       "    }\n",
       "\n",
       "    .dataframe thead th {\n",
       "        text-align: right;\n",
       "    }\n",
       "</style>\n",
       "<table border=\"1\" class=\"dataframe\">\n",
       "  <thead>\n",
       "    <tr style=\"text-align: right;\">\n",
       "      <th></th>\n",
       "      <th>1</th>\n",
       "      <th>24</th>\n",
       "      <th>M</th>\n",
       "      <th>technician</th>\n",
       "      <th>85711</th>\n",
       "    </tr>\n",
       "  </thead>\n",
       "  <tbody>\n",
       "    <tr>\n",
       "      <td>0</td>\n",
       "      <td>2</td>\n",
       "      <td>53</td>\n",
       "      <td>F</td>\n",
       "      <td>other</td>\n",
       "      <td>94043</td>\n",
       "    </tr>\n",
       "    <tr>\n",
       "      <td>1</td>\n",
       "      <td>3</td>\n",
       "      <td>23</td>\n",
       "      <td>M</td>\n",
       "      <td>writer</td>\n",
       "      <td>32067</td>\n",
       "    </tr>\n",
       "  </tbody>\n",
       "</table>\n",
       "</div>"
      ],
      "text/plain": [
       "   1  24  M technician  85711\n",
       "0  2  53  F      other  94043\n",
       "1  3  23  M     writer  32067"
      ]
     },
     "execution_count": 2,
     "metadata": {},
     "output_type": "execute_result"
    }
   ],
   "source": [
    "# 고객 정보 로드\n",
    "users = pd.read_csv('./content/ml-100k/u.user', sep='|')\n",
    "users.head(2)\n",
    "# 그냥 데이터를 올려보니 1번 데이터가 컬럼으로 올라갔다->누락\n",
    "# 컬럼을 지정하여서 데이터를 읽어야 한다"
   ]
  },
  {
   "cell_type": "code",
   "execution_count": 3,
   "metadata": {
    "colab": {
     "base_uri": "https://localhost:8080/",
     "height": 35
    },
    "colab_type": "code",
    "id": "9x2I1JDLh_e-",
    "outputId": "2761b816-566e-466d-ceea-7378d52947f3"
   },
   "outputs": [
    {
     "data": {
      "text/plain": [
       "['uid', 'age', 's', 'job', 'zip_code']"
      ]
     },
     "execution_count": 3,
     "metadata": {},
     "output_type": "execute_result"
    }
   ],
   "source": [
    "# 컬럼\n",
    "cols = ['uid','age','s','job','zip_code']\n",
    "cols"
   ]
  },
  {
   "cell_type": "code",
   "execution_count": 4,
   "metadata": {
    "colab": {
     "base_uri": "https://localhost:8080/",
     "height": 110
    },
    "colab_type": "code",
    "id": "a6PAoq5hhi2v",
    "outputId": "ab474a7b-fb9d-4eae-c788-a384c11a858f"
   },
   "outputs": [
    {
     "data": {
      "text/html": [
       "<div>\n",
       "<style scoped>\n",
       "    .dataframe tbody tr th:only-of-type {\n",
       "        vertical-align: middle;\n",
       "    }\n",
       "\n",
       "    .dataframe tbody tr th {\n",
       "        vertical-align: top;\n",
       "    }\n",
       "\n",
       "    .dataframe thead th {\n",
       "        text-align: right;\n",
       "    }\n",
       "</style>\n",
       "<table border=\"1\" class=\"dataframe\">\n",
       "  <thead>\n",
       "    <tr style=\"text-align: right;\">\n",
       "      <th></th>\n",
       "      <th>uid</th>\n",
       "      <th>age</th>\n",
       "      <th>s</th>\n",
       "      <th>job</th>\n",
       "      <th>zip_code</th>\n",
       "    </tr>\n",
       "  </thead>\n",
       "  <tbody>\n",
       "    <tr>\n",
       "      <td>0</td>\n",
       "      <td>1</td>\n",
       "      <td>24</td>\n",
       "      <td>M</td>\n",
       "      <td>technician</td>\n",
       "      <td>85711</td>\n",
       "    </tr>\n",
       "    <tr>\n",
       "      <td>1</td>\n",
       "      <td>2</td>\n",
       "      <td>53</td>\n",
       "      <td>F</td>\n",
       "      <td>other</td>\n",
       "      <td>94043</td>\n",
       "    </tr>\n",
       "  </tbody>\n",
       "</table>\n",
       "</div>"
      ],
      "text/plain": [
       "   uid  age  s         job zip_code\n",
       "0    1   24  M  technician    85711\n",
       "1    2   53  F       other    94043"
      ]
     },
     "execution_count": 4,
     "metadata": {},
     "output_type": "execute_result"
    }
   ],
   "source": [
    "# 컬럼명을 지정하여 데이터로드\n",
    "users = pd.read_csv('./content/ml-100k/u.user', sep='|', \n",
    "                    names=cols)\n",
    "users.head(2) "
   ]
  },
  {
   "cell_type": "markdown",
   "metadata": {
    "colab_type": "text",
    "id": "4Zhe5brIySsa"
   },
   "source": [
    "## 영화정보로드"
   ]
  },
  {
   "cell_type": "code",
   "execution_count": 5,
   "metadata": {
    "colab": {
     "base_uri": "https://localhost:8080/",
     "height": 144
    },
    "colab_type": "code",
    "id": "Tn9P6Rm-wdIN",
    "outputId": "61d6ac3b-e514-4336-c280-98a02dc93461"
   },
   "outputs": [
    {
     "data": {
      "text/html": [
       "<div>\n",
       "<style scoped>\n",
       "    .dataframe tbody tr th:only-of-type {\n",
       "        vertical-align: middle;\n",
       "    }\n",
       "\n",
       "    .dataframe tbody tr th {\n",
       "        vertical-align: top;\n",
       "    }\n",
       "\n",
       "    .dataframe thead th {\n",
       "        text-align: right;\n",
       "    }\n",
       "</style>\n",
       "<table border=\"1\" class=\"dataframe\">\n",
       "  <thead>\n",
       "    <tr style=\"text-align: right;\">\n",
       "      <th></th>\n",
       "      <th>mid</th>\n",
       "      <th>title</th>\n",
       "      <th>release_date</th>\n",
       "      <th>video_release_date</th>\n",
       "      <th>url</th>\n",
       "    </tr>\n",
       "  </thead>\n",
       "  <tbody>\n",
       "    <tr>\n",
       "      <td>0</td>\n",
       "      <td>1</td>\n",
       "      <td>Toy Story (1995)</td>\n",
       "      <td>01-Jan-1995</td>\n",
       "      <td>NaN</td>\n",
       "      <td>http://us.imdb.com/M/title-exact?Toy%20Story%2...</td>\n",
       "    </tr>\n",
       "    <tr>\n",
       "      <td>1</td>\n",
       "      <td>2</td>\n",
       "      <td>GoldenEye (1995)</td>\n",
       "      <td>01-Jan-1995</td>\n",
       "      <td>NaN</td>\n",
       "      <td>http://us.imdb.com/M/title-exact?GoldenEye%20(...</td>\n",
       "    </tr>\n",
       "  </tbody>\n",
       "</table>\n",
       "</div>"
      ],
      "text/plain": [
       "   mid             title release_date  video_release_date  \\\n",
       "0    1  Toy Story (1995)  01-Jan-1995                 NaN   \n",
       "1    2  GoldenEye (1995)  01-Jan-1995                 NaN   \n",
       "\n",
       "                                                 url  \n",
       "0  http://us.imdb.com/M/title-exact?Toy%20Story%2...  \n",
       "1  http://us.imdb.com/M/title-exact?GoldenEye%20(...  "
      ]
     },
     "execution_count": 5,
     "metadata": {},
     "output_type": "execute_result"
    }
   ],
   "source": [
    "# 영화 정보 로드\n",
    "cols = ['mid','title','release_date','video_release_date','url']\n",
    "movies = pd.read_csv('./content/ml-100k/u.item', sep='|', \n",
    "          encoding='latin1', names=cols, usecols=range(5))\n",
    "movies.head(2)"
   ]
  },
  {
   "cell_type": "code",
   "execution_count": 6,
   "metadata": {
    "colab": {
     "base_uri": "https://localhost:8080/",
     "height": 35
    },
    "colab_type": "code",
    "id": "sDhzpUoBx2il",
    "outputId": "62f319ab-8fb0-4194-d973-8d70348d662b"
   },
   "outputs": [
    {
     "data": {
      "text/plain": [
       "((1682, 5), (943, 5))"
      ]
     },
     "execution_count": 6,
     "metadata": {},
     "output_type": "execute_result"
    }
   ],
   "source": [
    "movies.shape, users.shape"
   ]
  },
  {
   "cell_type": "markdown",
   "metadata": {
    "colab_type": "text",
    "id": "JVsbevt_yWFy"
   },
   "source": [
    "## 평점정보로드"
   ]
  },
  {
   "cell_type": "code",
   "execution_count": 7,
   "metadata": {
    "colab": {
     "base_uri": "https://localhost:8080/",
     "height": 110
    },
    "colab_type": "code",
    "id": "i2FsrN_iiYNg",
    "outputId": "d4ef635b-60a8-44e6-c826-01424819af07"
   },
   "outputs": [
    {
     "data": {
      "text/html": [
       "<div>\n",
       "<style scoped>\n",
       "    .dataframe tbody tr th:only-of-type {\n",
       "        vertical-align: middle;\n",
       "    }\n",
       "\n",
       "    .dataframe tbody tr th {\n",
       "        vertical-align: top;\n",
       "    }\n",
       "\n",
       "    .dataframe thead th {\n",
       "        text-align: right;\n",
       "    }\n",
       "</style>\n",
       "<table border=\"1\" class=\"dataframe\">\n",
       "  <thead>\n",
       "    <tr style=\"text-align: right;\">\n",
       "      <th></th>\n",
       "      <th>uid</th>\n",
       "      <th>mid</th>\n",
       "      <th>rating</th>\n",
       "      <th>date</th>\n",
       "    </tr>\n",
       "  </thead>\n",
       "  <tbody>\n",
       "    <tr>\n",
       "      <td>0</td>\n",
       "      <td>196</td>\n",
       "      <td>242</td>\n",
       "      <td>3</td>\n",
       "      <td>881250949</td>\n",
       "    </tr>\n",
       "    <tr>\n",
       "      <td>1</td>\n",
       "      <td>186</td>\n",
       "      <td>302</td>\n",
       "      <td>3</td>\n",
       "      <td>891717742</td>\n",
       "    </tr>\n",
       "  </tbody>\n",
       "</table>\n",
       "</div>"
      ],
      "text/plain": [
       "   uid  mid  rating       date\n",
       "0  196  242       3  881250949\n",
       "1  186  302       3  891717742"
      ]
     },
     "execution_count": 7,
     "metadata": {},
     "output_type": "execute_result"
    }
   ],
   "source": [
    "cols = ['uid','mid','rating','date']\n",
    "ratings=pd.read_csv('./content/ml-100k/u.data',sep='\\t',names=cols) \n",
    "ratings.head(2)\n",
    "# 881250949 -> 1970.01.01 00:00:00초부터 현재까지 진행된시간+9시간\n",
    "#              시간형식 => long => yyyyMMdd hhmmss\n",
    "# 881250949 :  -> yyyyMMdd hhmmss : \n",
    "# 시간 정보가 직관적이지 않다 직관적인 시간정보로 변환"
   ]
  },
  {
   "cell_type": "code",
   "execution_count": 8,
   "metadata": {
    "colab": {
     "base_uri": "https://localhost:8080/",
     "height": 110
    },
    "colab_type": "code",
    "id": "00QRAfJSyEYE",
    "outputId": "8d00f17b-ac9a-4d35-bd55-62c04d0494dd"
   },
   "outputs": [
    {
     "data": {
      "text/html": [
       "<div>\n",
       "<style scoped>\n",
       "    .dataframe tbody tr th:only-of-type {\n",
       "        vertical-align: middle;\n",
       "    }\n",
       "\n",
       "    .dataframe tbody tr th {\n",
       "        vertical-align: top;\n",
       "    }\n",
       "\n",
       "    .dataframe thead th {\n",
       "        text-align: right;\n",
       "    }\n",
       "</style>\n",
       "<table border=\"1\" class=\"dataframe\">\n",
       "  <thead>\n",
       "    <tr style=\"text-align: right;\">\n",
       "      <th></th>\n",
       "      <th>uid</th>\n",
       "      <th>mid</th>\n",
       "      <th>rating</th>\n",
       "      <th>date</th>\n",
       "    </tr>\n",
       "  </thead>\n",
       "  <tbody>\n",
       "    <tr>\n",
       "      <td>0</td>\n",
       "      <td>196</td>\n",
       "      <td>242</td>\n",
       "      <td>3</td>\n",
       "      <td>1997-12-04 15:55:49</td>\n",
       "    </tr>\n",
       "    <tr>\n",
       "      <td>1</td>\n",
       "      <td>186</td>\n",
       "      <td>302</td>\n",
       "      <td>3</td>\n",
       "      <td>1998-04-04 19:22:22</td>\n",
       "    </tr>\n",
       "  </tbody>\n",
       "</table>\n",
       "</div>"
      ],
      "text/plain": [
       "   uid  mid  rating                date\n",
       "0  196  242       3 1997-12-04 15:55:49\n",
       "1  186  302       3 1998-04-04 19:22:22"
      ]
     },
     "execution_count": 8,
     "metadata": {},
     "output_type": "execute_result"
    }
   ],
   "source": [
    "# date 컬럼의 값을 변경하여서 원 구조에 다시 적용\n",
    "ratings['date'] = pd.to_datetime( ratings['date'], unit='s' )\n",
    "ratings.head(2)"
   ]
  },
  {
   "cell_type": "code",
   "execution_count": 9,
   "metadata": {
    "colab": {
     "base_uri": "https://localhost:8080/",
     "height": 35
    },
    "colab_type": "code",
    "id": "sC6Dt8UZyEay",
    "outputId": "7c8a3ab9-7bcb-4e7d-bcc6-53e9d3832415"
   },
   "outputs": [
    {
     "data": {
      "text/plain": [
       "(100000, 4)"
      ]
     },
     "execution_count": 9,
     "metadata": {},
     "output_type": "execute_result"
    }
   ],
   "source": [
    "ratings.shape"
   ]
  },
  {
   "cell_type": "markdown",
   "metadata": {
    "colab_type": "text",
    "id": "k6TfpYlL1_lj"
   },
   "source": [
    "# 데이터 준비, 분석\n",
    "\n",
    "- 품질향상\n",
    "- 시각화\n",
    "- 통찰(일부진행가능)"
   ]
  },
  {
   "cell_type": "markdown",
   "metadata": {
    "colab_type": "text",
    "id": "cJoN5lle5F9q"
   },
   "source": [
    "## 3개의 데이터를 한개의 DF로 병합"
   ]
  },
  {
   "cell_type": "code",
   "execution_count": 10,
   "metadata": {
    "colab": {
     "base_uri": "https://localhost:8080/",
     "height": 134
    },
    "colab_type": "code",
    "id": "3jWMcxH5yEdT",
    "outputId": "0002794a-a012-4895-b16d-1d86f2371e43"
   },
   "outputs": [
    {
     "data": {
      "text/html": [
       "<div>\n",
       "<style scoped>\n",
       "    .dataframe tbody tr th:only-of-type {\n",
       "        vertical-align: middle;\n",
       "    }\n",
       "\n",
       "    .dataframe tbody tr th {\n",
       "        vertical-align: top;\n",
       "    }\n",
       "\n",
       "    .dataframe thead th {\n",
       "        text-align: right;\n",
       "    }\n",
       "</style>\n",
       "<table border=\"1\" class=\"dataframe\">\n",
       "  <thead>\n",
       "    <tr style=\"text-align: right;\">\n",
       "      <th></th>\n",
       "      <th>mid</th>\n",
       "      <th>title</th>\n",
       "      <th>release_date</th>\n",
       "      <th>video_release_date</th>\n",
       "      <th>url</th>\n",
       "      <th>uid</th>\n",
       "      <th>rating</th>\n",
       "      <th>date</th>\n",
       "    </tr>\n",
       "  </thead>\n",
       "  <tbody>\n",
       "    <tr>\n",
       "      <td>0</td>\n",
       "      <td>1</td>\n",
       "      <td>Toy Story (1995)</td>\n",
       "      <td>01-Jan-1995</td>\n",
       "      <td>NaN</td>\n",
       "      <td>http://us.imdb.com/M/title-exact?Toy%20Story%2...</td>\n",
       "      <td>308</td>\n",
       "      <td>4</td>\n",
       "      <td>1998-02-17 17:28:52</td>\n",
       "    </tr>\n",
       "  </tbody>\n",
       "</table>\n",
       "</div>"
      ],
      "text/plain": [
       "   mid             title release_date  video_release_date  \\\n",
       "0    1  Toy Story (1995)  01-Jan-1995                 NaN   \n",
       "\n",
       "                                                 url  uid  rating  \\\n",
       "0  http://us.imdb.com/M/title-exact?Toy%20Story%2...  308       4   \n",
       "\n",
       "                 date  \n",
       "0 1998-02-17 17:28:52  "
      ]
     },
     "execution_count": 10,
     "metadata": {},
     "output_type": "execute_result"
    }
   ],
   "source": [
    "# DataFrame이 1개 이상으로 존재한다 -> 필연적 -> 병합과정\n",
    "# merge, concat등\n",
    "# movies + ratings 순으로 병합\n",
    "movies_ratings = pd.merge(movies ,ratings)\n",
    "movies_ratings.head(1)"
   ]
  },
  {
   "cell_type": "code",
   "execution_count": 11,
   "metadata": {
    "colab": {
     "base_uri": "https://localhost:8080/",
     "height": 35
    },
    "colab_type": "code",
    "id": "rKtl1Dns4G86",
    "outputId": "edd586ce-f9d5-44cf-e22f-9c25575fc980"
   },
   "outputs": [
    {
     "data": {
      "text/plain": [
       "(100000, 8)"
      ]
     },
     "execution_count": 11,
     "metadata": {},
     "output_type": "execute_result"
    }
   ],
   "source": [
    "# 평점 데이터를 기준으로 병합 완성\n",
    "movies_ratings.shape"
   ]
  },
  {
   "cell_type": "code",
   "execution_count": 12,
   "metadata": {
    "colab": {
     "base_uri": "https://localhost:8080/",
     "height": 134
    },
    "colab_type": "code",
    "id": "UtWZ84qh4Rm4",
    "outputId": "1f96df50-a7fa-4b4e-83e6-b213601041f5"
   },
   "outputs": [
    {
     "data": {
      "text/html": [
       "<div>\n",
       "<style scoped>\n",
       "    .dataframe tbody tr th:only-of-type {\n",
       "        vertical-align: middle;\n",
       "    }\n",
       "\n",
       "    .dataframe tbody tr th {\n",
       "        vertical-align: top;\n",
       "    }\n",
       "\n",
       "    .dataframe thead th {\n",
       "        text-align: right;\n",
       "    }\n",
       "</style>\n",
       "<table border=\"1\" class=\"dataframe\">\n",
       "  <thead>\n",
       "    <tr style=\"text-align: right;\">\n",
       "      <th></th>\n",
       "      <th>mid</th>\n",
       "      <th>title</th>\n",
       "      <th>release_date</th>\n",
       "      <th>video_release_date</th>\n",
       "      <th>url</th>\n",
       "      <th>uid</th>\n",
       "      <th>rating</th>\n",
       "      <th>date</th>\n",
       "      <th>age</th>\n",
       "      <th>s</th>\n",
       "      <th>job</th>\n",
       "      <th>zip_code</th>\n",
       "    </tr>\n",
       "  </thead>\n",
       "  <tbody>\n",
       "    <tr>\n",
       "      <td>0</td>\n",
       "      <td>1</td>\n",
       "      <td>Toy Story (1995)</td>\n",
       "      <td>01-Jan-1995</td>\n",
       "      <td>NaN</td>\n",
       "      <td>http://us.imdb.com/M/title-exact?Toy%20Story%2...</td>\n",
       "      <td>308</td>\n",
       "      <td>4</td>\n",
       "      <td>1998-02-17 17:28:52</td>\n",
       "      <td>60</td>\n",
       "      <td>M</td>\n",
       "      <td>retired</td>\n",
       "      <td>95076</td>\n",
       "    </tr>\n",
       "  </tbody>\n",
       "</table>\n",
       "</div>"
      ],
      "text/plain": [
       "   mid             title release_date  video_release_date  \\\n",
       "0    1  Toy Story (1995)  01-Jan-1995                 NaN   \n",
       "\n",
       "                                                 url  uid  rating  \\\n",
       "0  http://us.imdb.com/M/title-exact?Toy%20Story%2...  308       4   \n",
       "\n",
       "                 date  age  s      job zip_code  \n",
       "0 1998-02-17 17:28:52   60  M  retired    95076  "
      ]
     },
     "execution_count": 12,
     "metadata": {},
     "output_type": "execute_result"
    }
   ],
   "source": [
    "movies_ratings_users = pd.merge(movies_ratings, users)\n",
    "movies_ratings_users.head(1)"
   ]
  },
  {
   "cell_type": "code",
   "execution_count": 13,
   "metadata": {
    "colab": {
     "base_uri": "https://localhost:8080/",
     "height": 35
    },
    "colab_type": "code",
    "id": "VZXvrWU14026",
    "outputId": "be5baae2-f6b6-4499-cfe5-87737fc13494"
   },
   "outputs": [
    {
     "data": {
      "text/plain": [
       "(100000, 12)"
      ]
     },
     "execution_count": 13,
     "metadata": {},
     "output_type": "execute_result"
    }
   ],
   "source": [
    "movies_ratings_users.shape"
   ]
  },
  {
   "cell_type": "markdown",
   "metadata": {
    "colab_type": "text",
    "id": "KZ9GQ3gw5T3j"
   },
   "source": [
    "## 데이터 살펴보기\n",
    "\n",
    "- 특성, 성향등의 데이터의 특징을 확인"
   ]
  },
  {
   "cell_type": "code",
   "execution_count": 14,
   "metadata": {
    "colab": {},
    "colab_type": "code",
    "id": "cQTFo2-M-g28"
   },
   "outputs": [],
   "source": [
    "movie_datas = movies_ratings_users[:]"
   ]
  },
  {
   "cell_type": "code",
   "execution_count": 15,
   "metadata": {
    "colab": {
     "base_uri": "https://localhost:8080/",
     "height": 212
    },
    "colab_type": "code",
    "id": "3K8Cfql34384",
    "outputId": "12b42cee-286e-4751-c4f8-380e8c62701a"
   },
   "outputs": [
    {
     "data": {
      "text/plain": [
       "Star Wars (1977)                 583\n",
       "Contact (1997)                   509\n",
       "Fargo (1996)                     508\n",
       "Return of the Jedi (1983)        507\n",
       "Liar Liar (1997)                 485\n",
       "English Patient, The (1996)      481\n",
       "Scream (1996)                    478\n",
       "Toy Story (1995)                 452\n",
       "Air Force One (1997)             431\n",
       "Independence Day (ID4) (1996)    429\n",
       "Name: title, dtype: int64"
      ]
     },
     "execution_count": 15,
     "metadata": {},
     "output_type": "execute_result"
    }
   ],
   "source": [
    "# 평가를 가장 많이 받은 작품 상위 10개\n",
    "# 작품별, 평가수를 구해라 -> 내림차순 정렬 -> 상위 10\n",
    "# value_counts() 값의 빈도를 계산해서, 정렬(기본값), 내림차순(기본값)\n",
    "movie_datas.title.value_counts()[:10]"
   ]
  },
  {
   "cell_type": "code",
   "execution_count": 16,
   "metadata": {
    "colab": {
     "base_uri": "https://localhost:8080/",
     "height": 35
    },
    "colab_type": "code",
    "id": "8m_sEvlS-soE",
    "outputId": "660d690d-3a6a-4963-bf04-73550a53ab37"
   },
   "outputs": [
    {
     "data": {
      "text/plain": [
       "pandas.core.series.Series"
      ]
     },
     "execution_count": 16,
     "metadata": {},
     "output_type": "execute_result"
    }
   ],
   "source": [
    "tmp = movie_datas.title.value_counts()[-5:]\n",
    "type(tmp)"
   ]
  },
  {
   "cell_type": "code",
   "execution_count": 17,
   "metadata": {
    "colab": {
     "base_uri": "https://localhost:8080/",
     "height": 123
    },
    "colab_type": "code",
    "id": "-qdmX6CZ_0Wj",
    "outputId": "e9072d8d-edc9-477f-ec24-c4f71fe51fcc"
   },
   "outputs": [
    {
     "data": {
      "text/plain": [
       "Bird of Prey (1996)                   1\n",
       "T-Men (1947)                          1\n",
       "Object of My Affection, The (1998)    1\n",
       "Girls Town (1996)                     1\n",
       "Farmer & Chase (1995)                 1\n",
       "Name: title, dtype: int64"
      ]
     },
     "execution_count": 17,
     "metadata": {},
     "output_type": "execute_result"
    }
   ],
   "source": [
    "tmp"
   ]
  },
  {
   "cell_type": "code",
   "execution_count": 18,
   "metadata": {
    "colab": {
     "base_uri": "https://localhost:8080/",
     "height": 35
    },
    "colab_type": "code",
    "id": "_PFd65Rq_Vh2",
    "outputId": "ac022448-f3c0-4524-89cc-de400a0bc5e7"
   },
   "outputs": [
    {
     "data": {
      "text/plain": [
       "7.966706302021404"
      ]
     },
     "execution_count": 18,
     "metadata": {},
     "output_type": "execute_result"
    }
   ],
   "source": [
    "# 조건         : 평가 개수가 1개인 영화만\n",
    "# 결과 or 수행 : 모아라\n",
    "# 조건식\n",
    "tmp = movie_datas.title.value_counts()\n",
    "#res = tmp[  tmp <= 10  ]\n",
    "res = tmp[  tmp == 1  ]\n",
    "\n",
    "# 전체 데이터중에 평점이 1개만 존재하는 영화의 비율\n",
    "res.shape[0]/movies.shape[0]*100\n",
    "# 통찰 => 평점은 특정 평가 개수 이상 존재할 경우만 인정 (검토)\n",
    "# 임계값 설정 => 평점 개수 몇개 이상!!"
   ]
  },
  {
   "cell_type": "code",
   "execution_count": 19,
   "metadata": {
    "colab": {
     "base_uri": "https://localhost:8080/",
     "height": 172
    },
    "colab_type": "code",
    "id": "XFDlXBzzBod3",
    "outputId": "055ea13f-6f66-43e0-d13f-9921bc9763b8"
   },
   "outputs": [
    {
     "data": {
      "text/html": [
       "<div>\n",
       "<style scoped>\n",
       "    .dataframe tbody tr th:only-of-type {\n",
       "        vertical-align: middle;\n",
       "    }\n",
       "\n",
       "    .dataframe tbody tr th {\n",
       "        vertical-align: top;\n",
       "    }\n",
       "\n",
       "    .dataframe thead tr th {\n",
       "        text-align: left;\n",
       "    }\n",
       "\n",
       "    .dataframe thead tr:last-of-type th {\n",
       "        text-align: right;\n",
       "    }\n",
       "</style>\n",
       "<table border=\"1\" class=\"dataframe\">\n",
       "  <thead>\n",
       "    <tr>\n",
       "      <th></th>\n",
       "      <th colspan=\"2\" halign=\"left\">rating</th>\n",
       "    </tr>\n",
       "    <tr>\n",
       "      <th></th>\n",
       "      <th>size</th>\n",
       "      <th>mean</th>\n",
       "    </tr>\n",
       "    <tr>\n",
       "      <th>title</th>\n",
       "      <th></th>\n",
       "      <th></th>\n",
       "    </tr>\n",
       "  </thead>\n",
       "  <tbody>\n",
       "    <tr>\n",
       "      <td>'Til There Was You (1997)</td>\n",
       "      <td>9</td>\n",
       "      <td>2.333333</td>\n",
       "    </tr>\n",
       "    <tr>\n",
       "      <td>1-900 (1994)</td>\n",
       "      <td>5</td>\n",
       "      <td>2.600000</td>\n",
       "    </tr>\n",
       "  </tbody>\n",
       "</table>\n",
       "</div>"
      ],
      "text/plain": [
       "                          rating          \n",
       "                            size      mean\n",
       "title                                     \n",
       "'Til There Was You (1997)      9  2.333333\n",
       "1-900 (1994)                   5  2.600000"
      ]
     },
     "execution_count": 19,
     "metadata": {},
     "output_type": "execute_result"
    }
   ],
   "source": [
    "# 제목 기준으로 데이터를 배치, 평가의 개수, 평균평점 2개를 feature로 \n",
    "# 가지는 데이터 프레임을 생성하시오\n",
    "# 인덱스 : 영화제목, 컬럼:평가개수, 평균평점\n",
    "# rating : 1차 레벨 컬럼\n",
    "# [np.size, np.mean] : 2차 레벨 컬럼\n",
    "movie_state = movie_datas.groupby('title').agg( { \n",
    "                'rating':[np.size, np.mean] } )\n",
    "movie_state.head(2)"
   ]
  },
  {
   "cell_type": "code",
   "execution_count": 20,
   "metadata": {
    "colab": {
     "base_uri": "https://localhost:8080/",
     "height": 35
    },
    "colab_type": "code",
    "id": "U2_JfaKCE3cV",
    "outputId": "a1151002-a203-4bc5-d050-39acd40e84e0"
   },
   "outputs": [
    {
     "data": {
      "text/plain": [
       "((1664, 2), (1682, 5))"
      ]
     },
     "execution_count": 20,
     "metadata": {},
     "output_type": "execute_result"
    }
   ],
   "source": [
    "# 영화 원본 데이터 대비, 평가수가 0개인 데이터는 누락되었을수도 있다\n",
    "movie_state.shape, movies.shape"
   ]
  },
  {
   "cell_type": "code",
   "execution_count": 21,
   "metadata": {
    "colab": {
     "base_uri": "https://localhost:8080/",
     "height": 88
    },
    "colab_type": "code",
    "id": "mGNJd8VXHZUj",
    "outputId": "f0dabc9a-791d-40cc-89a7-166028958761"
   },
   "outputs": [
    {
     "data": {
      "text/plain": [
       "title\n",
       "'Til There Was You (1997)    9\n",
       "1-900 (1994)                 5\n",
       "Name: size, dtype: int64"
      ]
     },
     "execution_count": 21,
     "metadata": {},
     "output_type": "execute_result"
    }
   ],
   "source": [
    "movie_state.rating['size'][:2]"
   ]
  },
  {
   "cell_type": "code",
   "execution_count": 22,
   "metadata": {
    "colab": {},
    "colab_type": "code",
    "id": "4NfBsuLNFtVt"
   },
   "outputs": [],
   "source": [
    "# 이런 영화들 중에 평가가 100개이상만 모아라 \n",
    "movies_100_over = movie_state[ movie_state['rating']['size'] >=100 ]"
   ]
  },
  {
   "cell_type": "code",
   "execution_count": 23,
   "metadata": {
    "colab": {
     "base_uri": "https://localhost:8080/",
     "height": 172
    },
    "colab_type": "code",
    "id": "AxhuvxExHk9n",
    "outputId": "642233bc-9419-4f12-c3f4-aae35bbd0a1e"
   },
   "outputs": [
    {
     "data": {
      "text/html": [
       "<div>\n",
       "<style scoped>\n",
       "    .dataframe tbody tr th:only-of-type {\n",
       "        vertical-align: middle;\n",
       "    }\n",
       "\n",
       "    .dataframe tbody tr th {\n",
       "        vertical-align: top;\n",
       "    }\n",
       "\n",
       "    .dataframe thead tr th {\n",
       "        text-align: left;\n",
       "    }\n",
       "\n",
       "    .dataframe thead tr:last-of-type th {\n",
       "        text-align: right;\n",
       "    }\n",
       "</style>\n",
       "<table border=\"1\" class=\"dataframe\">\n",
       "  <thead>\n",
       "    <tr>\n",
       "      <th></th>\n",
       "      <th colspan=\"2\" halign=\"left\">rating</th>\n",
       "    </tr>\n",
       "    <tr>\n",
       "      <th></th>\n",
       "      <th>size</th>\n",
       "      <th>mean</th>\n",
       "    </tr>\n",
       "    <tr>\n",
       "      <th>title</th>\n",
       "      <th></th>\n",
       "      <th></th>\n",
       "    </tr>\n",
       "  </thead>\n",
       "  <tbody>\n",
       "    <tr>\n",
       "      <td>Close Shave, A (1995)</td>\n",
       "      <td>112</td>\n",
       "      <td>4.491071</td>\n",
       "    </tr>\n",
       "    <tr>\n",
       "      <td>Schindler's List (1993)</td>\n",
       "      <td>298</td>\n",
       "      <td>4.466443</td>\n",
       "    </tr>\n",
       "  </tbody>\n",
       "</table>\n",
       "</div>"
      ],
      "text/plain": [
       "                        rating          \n",
       "                          size      mean\n",
       "title                                   \n",
       "Close Shave, A (1995)      112  4.491071\n",
       "Schindler's List (1993)    298  4.466443"
      ]
     },
     "execution_count": 23,
     "metadata": {},
     "output_type": "execute_result"
    }
   ],
   "source": [
    "# 평가 개수가 100개인 데이터만 모아서, 평점 기준 정렬\n",
    "tmp = movies_100_over.sort_values( by=[ ('rating','mean') ],\n",
    "                                  ascending=False )\n",
    "tmp.head(2)"
   ]
  },
  {
   "cell_type": "code",
   "execution_count": 24,
   "metadata": {
    "colab": {
     "base_uri": "https://localhost:8080/",
     "height": 172
    },
    "colab_type": "code",
    "id": "ZuxR7u2WH0Yl",
    "outputId": "eca0ff00-6565-4dbd-92cc-35b38e20f0bd"
   },
   "outputs": [
    {
     "data": {
      "text/html": [
       "<div>\n",
       "<style scoped>\n",
       "    .dataframe tbody tr th:only-of-type {\n",
       "        vertical-align: middle;\n",
       "    }\n",
       "\n",
       "    .dataframe tbody tr th {\n",
       "        vertical-align: top;\n",
       "    }\n",
       "\n",
       "    .dataframe thead tr th {\n",
       "        text-align: left;\n",
       "    }\n",
       "\n",
       "    .dataframe thead tr:last-of-type th {\n",
       "        text-align: right;\n",
       "    }\n",
       "</style>\n",
       "<table border=\"1\" class=\"dataframe\">\n",
       "  <thead>\n",
       "    <tr>\n",
       "      <th></th>\n",
       "      <th colspan=\"2\" halign=\"left\">rating</th>\n",
       "    </tr>\n",
       "    <tr>\n",
       "      <th></th>\n",
       "      <th>size</th>\n",
       "      <th>mean</th>\n",
       "    </tr>\n",
       "    <tr>\n",
       "      <th>title</th>\n",
       "      <th></th>\n",
       "      <th></th>\n",
       "    </tr>\n",
       "  </thead>\n",
       "  <tbody>\n",
       "    <tr>\n",
       "      <td>Jungle2Jungle (1997)</td>\n",
       "      <td>132</td>\n",
       "      <td>2.439394</td>\n",
       "    </tr>\n",
       "    <tr>\n",
       "      <td>Cable Guy, The (1996)</td>\n",
       "      <td>106</td>\n",
       "      <td>2.339623</td>\n",
       "    </tr>\n",
       "  </tbody>\n",
       "</table>\n",
       "</div>"
      ],
      "text/plain": [
       "                      rating          \n",
       "                        size      mean\n",
       "title                                 \n",
       "Jungle2Jungle (1997)     132  2.439394\n",
       "Cable Guy, The (1996)    106  2.339623"
      ]
     },
     "execution_count": 24,
     "metadata": {},
     "output_type": "execute_result"
    }
   ],
   "source": [
    "tmp.tail(2)"
   ]
  },
  {
   "cell_type": "code",
   "execution_count": 25,
   "metadata": {
    "colab": {
     "base_uri": "https://localhost:8080/",
     "height": 141
    },
    "colab_type": "code",
    "id": "paUdq5u9IA-F",
    "outputId": "c8da0747-3589-4f99-d0c5-7d08463ee38c"
   },
   "outputs": [
    {
     "data": {
      "text/plain": [
       "uid\n",
       "1    272\n",
       "2     62\n",
       "3     54\n",
       "4     24\n",
       "5    175\n",
       "dtype: int64"
      ]
     },
     "execution_count": 25,
     "metadata": {},
     "output_type": "execute_result"
    }
   ],
   "source": [
    "# 회원이 평가를 얼마나 했는가 기준점으로 확인\n",
    "# 사용자별 평가 횟수\n",
    "tmp = movie_datas.groupby('uid').size()\n",
    "tmp[:5]"
   ]
  },
  {
   "cell_type": "code",
   "execution_count": 26,
   "metadata": {
    "colab": {},
    "colab_type": "code",
    "id": "oxe5SzpfLRiX"
   },
   "outputs": [],
   "source": [
    "from matplotlib import pyplot as plt"
   ]
  },
  {
   "cell_type": "code",
   "execution_count": 27,
   "metadata": {
    "colab": {
     "base_uri": "https://localhost:8080/",
     "height": 88
    },
    "colab_type": "code",
    "id": "3jC1MS0EMeAv",
    "outputId": "2e2b76f3-bf24-48fd-cd7c-1e145656d3fc"
   },
   "outputs": [
    {
     "data": {
      "text/plain": [
       "uid\n",
       "405    737\n",
       "655    685\n",
       "dtype: int64"
      ]
     },
     "execution_count": 27,
     "metadata": {},
     "output_type": "execute_result"
    }
   ],
   "source": [
    "tmp.sort_values( ascending=False ).head(2)"
   ]
  },
  {
   "cell_type": "code",
   "execution_count": 28,
   "metadata": {
    "colab": {
     "base_uri": "https://localhost:8080/",
     "height": 283
    },
    "colab_type": "code",
    "id": "UdcbFjw_LRlG",
    "outputId": "c86085df-69bf-4131-8dd8-2bcc3e40da79"
   },
   "outputs": [
    {
     "data": {
      "text/plain": [
       "<matplotlib.axes._subplots.AxesSubplot at 0x1a5ccfc1b88>"
      ]
     },
     "execution_count": 28,
     "metadata": {},
     "output_type": "execute_result"
    },
    {
     "data": {
      "image/png": "[encoded data removed]",
      "text/plain": [
       "<Figure size 432x288 with 1 Axes>"
      ]
     },
     "metadata": {},
     "output_type": "display_data"
    }
   ],
   "source": [
    "plt.style.use('ggplot')\n",
    "tmp.sort_values( ascending=False ).hist()\n",
    "# \"지프의 법칙\"을따르는 데이터 굴곡 모양이다. 롱테일분포\n",
    "# 영화의 평가 개수가 많으면 많을수록 1개만 평가한 데이터도 많아진다"
   ]
  },
  {
   "cell_type": "code",
   "execution_count": 29,
   "metadata": {
    "colab": {
     "base_uri": "https://localhost:8080/",
     "height": 419
    },
    "colab_type": "code",
    "id": "J82re4MRLRn-",
    "outputId": "2c352476-6920-4854-e593-fd2924eca482"
   },
   "outputs": [
    {
     "data": {
      "text/html": [
       "<div>\n",
       "<style scoped>\n",
       "    .dataframe tbody tr th:only-of-type {\n",
       "        vertical-align: middle;\n",
       "    }\n",
       "\n",
       "    .dataframe tbody tr th {\n",
       "        vertical-align: top;\n",
       "    }\n",
       "\n",
       "    .dataframe thead tr th {\n",
       "        text-align: left;\n",
       "    }\n",
       "\n",
       "    .dataframe thead tr:last-of-type th {\n",
       "        text-align: right;\n",
       "    }\n",
       "</style>\n",
       "<table border=\"1\" class=\"dataframe\">\n",
       "  <thead>\n",
       "    <tr>\n",
       "      <th></th>\n",
       "      <th colspan=\"2\" halign=\"left\">rating</th>\n",
       "    </tr>\n",
       "    <tr>\n",
       "      <th></th>\n",
       "      <th>size</th>\n",
       "      <th>mean</th>\n",
       "    </tr>\n",
       "    <tr>\n",
       "      <th>uid</th>\n",
       "      <th></th>\n",
       "      <th></th>\n",
       "    </tr>\n",
       "  </thead>\n",
       "  <tbody>\n",
       "    <tr>\n",
       "      <td>1</td>\n",
       "      <td>272</td>\n",
       "      <td>3.610294</td>\n",
       "    </tr>\n",
       "    <tr>\n",
       "      <td>2</td>\n",
       "      <td>62</td>\n",
       "      <td>3.709677</td>\n",
       "    </tr>\n",
       "    <tr>\n",
       "      <td>3</td>\n",
       "      <td>54</td>\n",
       "      <td>2.796296</td>\n",
       "    </tr>\n",
       "    <tr>\n",
       "      <td>4</td>\n",
       "      <td>24</td>\n",
       "      <td>4.333333</td>\n",
       "    </tr>\n",
       "    <tr>\n",
       "      <td>5</td>\n",
       "      <td>175</td>\n",
       "      <td>2.874286</td>\n",
       "    </tr>\n",
       "    <tr>\n",
       "      <td>6</td>\n",
       "      <td>211</td>\n",
       "      <td>3.635071</td>\n",
       "    </tr>\n",
       "    <tr>\n",
       "      <td>7</td>\n",
       "      <td>403</td>\n",
       "      <td>3.965261</td>\n",
       "    </tr>\n",
       "    <tr>\n",
       "      <td>8</td>\n",
       "      <td>59</td>\n",
       "      <td>3.796610</td>\n",
       "    </tr>\n",
       "    <tr>\n",
       "      <td>9</td>\n",
       "      <td>22</td>\n",
       "      <td>4.272727</td>\n",
       "    </tr>\n",
       "    <tr>\n",
       "      <td>10</td>\n",
       "      <td>184</td>\n",
       "      <td>4.206522</td>\n",
       "    </tr>\n",
       "  </tbody>\n",
       "</table>\n",
       "</div>"
      ],
      "text/plain": [
       "    rating          \n",
       "      size      mean\n",
       "uid                 \n",
       "1      272  3.610294\n",
       "2       62  3.709677\n",
       "3       54  2.796296\n",
       "4       24  4.333333\n",
       "5      175  2.874286\n",
       "6      211  3.635071\n",
       "7      403  3.965261\n",
       "8       59  3.796610\n",
       "9       22  4.272727\n",
       "10     184  4.206522"
      ]
     },
     "execution_count": 29,
     "metadata": {},
     "output_type": "execute_result"
    }
   ],
   "source": [
    "# 사용자별 평가 회수, 평균\n",
    "user_state = movie_datas.groupby('uid').agg({'rating':[np.size, np.mean]})\n",
    "user_state.head(10)"
   ]
  },
  {
   "cell_type": "code",
   "execution_count": 30,
   "metadata": {
    "colab": {
     "base_uri": "https://localhost:8080/",
     "height": 295
    },
    "colab_type": "code",
    "id": "sSw9huIJLRqm",
    "outputId": "eafa64e3-0630-4395-aeac-e531bffc9d25"
   },
   "outputs": [
    {
     "data": {
      "text/html": [
       "<div>\n",
       "<style scoped>\n",
       "    .dataframe tbody tr th:only-of-type {\n",
       "        vertical-align: middle;\n",
       "    }\n",
       "\n",
       "    .dataframe tbody tr th {\n",
       "        vertical-align: top;\n",
       "    }\n",
       "\n",
       "    .dataframe thead th {\n",
       "        text-align: right;\n",
       "    }\n",
       "</style>\n",
       "<table border=\"1\" class=\"dataframe\">\n",
       "  <thead>\n",
       "    <tr style=\"text-align: right;\">\n",
       "      <th></th>\n",
       "      <th>size</th>\n",
       "      <th>mean</th>\n",
       "    </tr>\n",
       "  </thead>\n",
       "  <tbody>\n",
       "    <tr>\n",
       "      <td>count</td>\n",
       "      <td>943.000000</td>\n",
       "      <td>943.000000</td>\n",
       "    </tr>\n",
       "    <tr>\n",
       "      <td>mean</td>\n",
       "      <td>106.044539</td>\n",
       "      <td>3.588191</td>\n",
       "    </tr>\n",
       "    <tr>\n",
       "      <td>std</td>\n",
       "      <td>100.931743</td>\n",
       "      <td>0.445233</td>\n",
       "    </tr>\n",
       "    <tr>\n",
       "      <td>min</td>\n",
       "      <td>20.000000</td>\n",
       "      <td>1.491954</td>\n",
       "    </tr>\n",
       "    <tr>\n",
       "      <td>25%</td>\n",
       "      <td>33.000000</td>\n",
       "      <td>3.323054</td>\n",
       "    </tr>\n",
       "    <tr>\n",
       "      <td>50%</td>\n",
       "      <td>65.000000</td>\n",
       "      <td>3.620690</td>\n",
       "    </tr>\n",
       "    <tr>\n",
       "      <td>75%</td>\n",
       "      <td>148.000000</td>\n",
       "      <td>3.869565</td>\n",
       "    </tr>\n",
       "    <tr>\n",
       "      <td>max</td>\n",
       "      <td>737.000000</td>\n",
       "      <td>4.869565</td>\n",
       "    </tr>\n",
       "  </tbody>\n",
       "</table>\n",
       "</div>"
      ],
      "text/plain": [
       "             size        mean\n",
       "count  943.000000  943.000000\n",
       "mean   106.044539    3.588191\n",
       "std    100.931743    0.445233\n",
       "min     20.000000    1.491954\n",
       "25%     33.000000    3.323054\n",
       "50%     65.000000    3.620690\n",
       "75%    148.000000    3.869565\n",
       "max    737.000000    4.869565"
      ]
     },
     "execution_count": 30,
     "metadata": {},
     "output_type": "execute_result"
    }
   ],
   "source": [
    "user_state.rating.describe()\n",
    "# 최저,최고 점수는 편중되어 있는것으로 보인다"
   ]
  },
  {
   "cell_type": "markdown",
   "metadata": {
    "colab_type": "text",
    "id": "iHCy5uEJN_FG"
   },
   "source": [
    "# 데이터 모델링\n",
    "\n",
    "- libFM을 python으로 wapping한 fastFM 제품\n",
    "사용\n",
    "- fastFM은 리눅스(우분트 추천), 맥에서 설치가 가능"
   ]
  },
  {
   "cell_type": "code",
   "execution_count": null,
   "metadata": {
    "colab": {
     "base_uri": "https://localhost:8080/",
     "height": 214
    },
    "colab_type": "code",
    "id": "74IH9hMiQnuA",
    "outputId": "5703512e-68b3-43af-ff8b-b2eb77056c04"
   },
   "outputs": [],
   "source": [
    "! pip install fastFM"
   ]
  },
  {
   "cell_type": "markdown",
   "metadata": {
    "colab_type": "text",
    "id": "-55wgiRJOcUY"
   },
   "source": [
    "## fastFM\n",
    "\n",
    "- 설치\n",
    "  - ! pip install fastFM\n",
    "\n",
    "- 알고리즘을 만들고 싶다 -> 1~2~3년 (연구기관, 대기업등 진행) -> 논문\n",
    "  - 언어 : C / C++등 랭귀지 + 수학적 증명\n",
    "  - 파이썬 래핑 : Cython 사용가능\n",
    "  - 파이썬 라이브러리 제작\n",
    "\n",
    "- 사용이유\n",
    "  - 특성 사이의 영향을 주고 받는 상호 작용 개념을 계산에 적용하여 처리할수 있다(조합, 순서등도 성능을 개선하는데 관여된다)\n",
    "  - 범주형 변수를 더미(파생)변수로 변환하여 범주간 상호작용성도 계산에 사용할수 있다\n",
    "  - 회귀, 분류\n",
    "  - 행렬 인수 분해 머신기능을 탑재하고 있다\n",
    "\n",
    "- 제공 알고리즘\n",
    "  - ALS  : 교대 최소 제곱법\n",
    "    - 장점 : 예측 시간 빠름. 파라미터수 적다 \n",
    "    - 단점 : 규제하면서 학습처리\n",
    "  - SGD  : 확률적 경사 하강법\n",
    "    - 장점 : 예측 시간 빠름, 대규모 데이터를 빠르게 학습할수 있다\n",
    "    - 단점 : 규제, 하이퍼라라미터가 많다\n",
    "  - MCMC : 마로코프 연쇄 몬테카롤로\n",
    "    - 장점 : 하이퍼파라미터 작다 \n",
    "    - 단점 : 학습 속도 느리다\n"
   ]
  },
  {
   "cell_type": "markdown",
   "metadata": {
    "colab_type": "text",
    "id": "0xWZdLLVQ8bH"
   },
   "source": [
    "## 가상데이터를 이용하여 기능 확인"
   ]
  },
  {
   "cell_type": "code",
   "execution_count": null,
   "metadata": {
    "colab": {},
    "colab_type": "code",
    "id": "bop1JeN9LRtn"
   },
   "outputs": [],
   "source": [
    "from sklearn.feature_extraction import DictVectorizer\n",
    "import numpy as np"
   ]
  },
  {
   "cell_type": "code",
   "execution_count": null,
   "metadata": {
    "colab": {},
    "colab_type": "code",
    "id": "Zb47dinVN-cZ"
   },
   "outputs": [],
   "source": [
    "from fastFM import als\n",
    "from sklearn.model_selection import learning_curve"
   ]
  },
  {
   "cell_type": "code",
   "execution_count": null,
   "metadata": {
    "colab": {},
    "colab_type": "code",
    "id": "qu-qDEuyN-e1"
   },
   "outputs": [],
   "source": [
    "# DictVectorizer => 문자열을 백터화 \n",
    "v = DictVectorizer()"
   ]
  },
  {
   "cell_type": "code",
   "execution_count": null,
   "metadata": {
    "colab": {
     "base_uri": "https://localhost:8080/",
     "height": 88
    },
    "colab_type": "code",
    "id": "jDHf8utEN-hj",
    "outputId": "c2a80076-6572-4c6a-a23f-512d9ebc576c"
   },
   "outputs": [],
   "source": [
    "train = [\n",
    "  { 'user':'1', 'item':'5',  'age':19 },\n",
    "  { 'user':'2', 'item':'43', 'age':33 },\n",
    "  { 'user':'3', 'item':'20', 'age':55 },\n",
    "  { 'user':'4', 'item':'10', 'age':20 }\n",
    "]\n",
    "train"
   ]
  },
  {
   "cell_type": "code",
   "execution_count": null,
   "metadata": {
    "colab": {
     "base_uri": "https://localhost:8080/",
     "height": 88
    },
    "colab_type": "code",
    "id": "9_Q4ZW-CRgHx",
    "outputId": "38c4fcba-7623-4907-f6eb-2b8564d54d48"
   },
   "outputs": [],
   "source": [
    "# 데이터를 백터화하여 수치로 표현\n",
    "X = v.fit_transform( train )\n",
    "# 수치는 그대로 둔다\n",
    "# 문자열을 범주형 변수로 취급되어, 총 케이스수만큼 컬럼이 생성,\n",
    "# 0으로 채운뒤에 독립된값에 1으로 부여식으로 데이터가 변환, \n",
    "# 순서는 중요하지않다\n",
    "X.toarray()"
   ]
  },
  {
   "cell_type": "code",
   "execution_count": null,
   "metadata": {
    "colab": {},
    "colab_type": "code",
    "id": "3gv82STNRgKW"
   },
   "outputs": [],
   "source": [
    "# y 제공 => 평점\n",
    "# user1은 5.0부여, user2는 1.0부여, user3은 2.0을 부여...\n",
    "y = np.array( [ 5.0, 1.0, 2.0, 4.0 ] )"
   ]
  },
  {
   "cell_type": "code",
   "execution_count": null,
   "metadata": {
    "colab": {},
    "colab_type": "code",
    "id": "OziO4LANTy1J"
   },
   "outputs": [],
   "source": [
    "# 알고리즘 생성\n",
    "fm = als.FMRegression( n_iter=1000, init_stdev=0.1, rank=2, l2_reg_w=0.1, l2_reg_V=0.5)"
   ]
  },
  {
   "cell_type": "code",
   "execution_count": null,
   "metadata": {
    "colab": {
     "base_uri": "https://localhost:8080/",
     "height": 52
    },
    "colab_type": "code",
    "id": "3b_ebmUeUYJh",
    "outputId": "23289d34-ea2e-4522-f780-a4ba40865b71"
   },
   "outputs": [],
   "source": [
    "# 훈련\n",
    "fm.fit(X, y)"
   ]
  },
  {
   "cell_type": "code",
   "execution_count": null,
   "metadata": {
    "colab": {
     "base_uri": "https://localhost:8080/",
     "height": 35
    },
    "colab_type": "code",
    "id": "quA72-QZRgNA",
    "outputId": "58a9a7d5-f361-423f-9fcf-187ce50793c5"
   },
   "outputs": [],
   "source": [
    "# 예측 ; 나이가 24살인데 아이템 10번을 보고 평점을 몇점줄까?\n",
    "data = {'user':'5', 'item':'10', 'age':24}\n",
    "fm.predict( v.transform(data) )"
   ]
  },
  {
   "cell_type": "markdown",
   "metadata": {
    "colab_type": "text",
    "id": "iuZJmq5BL762"
   },
   "source": [
    "## 학습에 필요한 데이터 준비 \n",
    "\n",
    "- ua.base (훈련용), ua.test (테스트용)"
   ]
  },
  {
   "cell_type": "code",
   "execution_count": null,
   "metadata": {
    "colab": {},
    "colab_type": "code",
    "id": "-97EIizxRgPm"
   },
   "outputs": [],
   "source": [
    "# ua.base\n",
    "# uid, mid, rating, ts 이렇게 구성되어 있다\n",
    "# 데이터 => [ {'uid':'1', 'mid':'100'}, .... ]\n",
    "# 레이블 => [ 1.0, 3.0, 5.0,... ] => [ 1.0 3.0 5.0 ... ]\n",
    "# 이렇게 결과물이 나오도록 함수 or 구현하시오"
   ]
  },
  {
   "cell_type": "code",
   "execution_count": null,
   "metadata": {
    "colab": {
     "base_uri": "https://localhost:8080/",
     "height": 1000
    },
    "colab_type": "code",
    "id": "2A9GflVJZFOV",
    "outputId": "c403abba-7dd4-4613-c777-e56342141d66"
   },
   "outputs": [],
   "source": [
    "def loadData( filename, dir='./content/ml-100k' ):\n",
    "  data  = list()\n",
    "  array = list()    \n",
    "  with open( f'{dir}/{filename}' ) as f:    \n",
    "    for line in f:      \n",
    "      uid, mid, rating, _ = line.split('\\t')      \n",
    "      data.append( {'uid':uid, 'mid':mid } )\n",
    "      array.append( float(rating) )      \n",
    "  return ( data, np.array(array) )\n",
    "loadData( 'ua.base' ) # ua.test"
   ]
  },
  {
   "cell_type": "code",
   "execution_count": null,
   "metadata": {
    "colab": {
     "base_uri": "https://localhost:8080/",
     "height": 35
    },
    "colab_type": "code",
    "id": "-NhrMjlWYpbP",
    "outputId": "ff8dda23-a378-453a-f0bd-d4b22032d92b"
   },
   "outputs": [],
   "source": [
    "def loadData( filename, dir='./content/ml-100k' ):\n",
    "  data  = list()\n",
    "  array = list()    \n",
    "  with open( f'{dir}/{filename}' ) as f:    \n",
    "    for line in f:      \n",
    "      uid, mid, rating, _ = line.split('\\t')      \n",
    "      data.append( {'uid':uid, 'mid':mid } )\n",
    "      array.append( float(rating) )\n",
    "      break\n",
    "      pass\n",
    "    pass\n",
    "  return ( data, np.array(array) )\n",
    "loadData( 'ua.base' ) # ua.test"
   ]
  },
  {
   "cell_type": "code",
   "execution_count": null,
   "metadata": {
    "colab": {
     "base_uri": "https://localhost:8080/",
     "height": 52
    },
    "colab_type": "code",
    "id": "8g_RKsDuWa8d",
    "outputId": "63c5c9e0-9966-497f-f988-cd2322b2e5d2"
   },
   "outputs": [],
   "source": [
    "def loadData( filename, dir='./content/ml-100k' ):\n",
    "  data  = list()\n",
    "  array = list()  \n",
    "  # 파일을 읽어서(한줄씩) => 바로 원하는 형태로 처리\n",
    "  with open( f'{dir}/{filename}' ) as f:\n",
    "    # 한줄씩 읽는다 \n",
    "    for line in f:\n",
    "      #print( line.split('\\t') )\n",
    "      # 데이터 추출\n",
    "      uid, mid, rating, _ = line.split('\\t')\n",
    "      # 데이터를 모양에 맞춰서 추가\n",
    "      print( type(uid), type(mid)  )\n",
    "      #data.append( {'uid':'1', 'mid':'100'} )\n",
    "      data.append( {'uid':uid, 'mid':mid } )\n",
    "      break\n",
    "      pass\n",
    "    pass\n",
    "\n",
    "  return ( data, np.array(array) )\n",
    "loadData( 'ua.base' ) # ua.test"
   ]
  },
  {
   "cell_type": "code",
   "execution_count": null,
   "metadata": {
    "colab": {
     "base_uri": "https://localhost:8080/",
     "height": 35
    },
    "colab_type": "code",
    "id": "5UvJUni0WEeP",
    "outputId": "d659b115-e321-4671-837b-4391daa76fd8"
   },
   "outputs": [],
   "source": [
    "def loadData( filename, dir='./content/ml-100k' ):\n",
    "  data  = list()\n",
    "  array = list()  \n",
    "  \n",
    "  return ( data, np.array(array) )\n",
    "loadData( 'ua.base' ) # ua.test"
   ]
  },
  {
   "cell_type": "code",
   "execution_count": null,
   "metadata": {
    "colab": {
     "base_uri": "https://localhost:8080/",
     "height": 35
    },
    "colab_type": "code",
    "id": "hM-GKf9tVMuO",
    "outputId": "d659b115-e321-4671-837b-4391daa76fd8"
   },
   "outputs": [],
   "source": [
    "def loadData( filename, dir='./content/ml-100k' ):\n",
    "  data  = [ {'uid':'1', 'mid':'100'} ]\n",
    "  array = np.array( [ 1.0, 3.0, 5.0 ] )\n",
    "  \n",
    "  return ( data, array )\n",
    "loadData( 'ua.base' ) # ua.test"
   ]
  },
  {
   "cell_type": "code",
   "execution_count": null,
   "metadata": {
    "colab": {},
    "colab_type": "code",
    "id": "p1hiNtnmLSlE"
   },
   "outputs": [],
   "source": [
    "def loadData( filename, dir='./content/ml-100k' ):\n",
    "  pass\n",
    "loadData( 'ua.base' ) # ua.test"
   ]
  },
  {
   "cell_type": "markdown",
   "metadata": {
    "colab_type": "text",
    "id": "C-sBj8E1Zk5B"
   },
   "source": [
    "### 데이터 로드"
   ]
  },
  {
   "cell_type": "code",
   "execution_count": null,
   "metadata": {
    "colab": {},
    "colab_type": "code",
    "id": "qfFh1W6tLSnZ"
   },
   "outputs": [],
   "source": [
    "X_train, y_train = loadData( 'ua.base' )# 훈련용\n",
    "X_test,  y_test  = loadData( 'ua.test' )# 테스트용"
   ]
  },
  {
   "cell_type": "code",
   "execution_count": null,
   "metadata": {
    "colab": {
     "base_uri": "https://localhost:8080/",
     "height": 35
    },
    "colab_type": "code",
    "id": "-y0OffRdZ6UK",
    "outputId": "bc1286ef-66ef-4033-978c-2293d838f0f5"
   },
   "outputs": [],
   "source": [
    "# 훈련용 데이터의 크기\n",
    "len(X_train), y_train.shape"
   ]
  },
  {
   "cell_type": "code",
   "execution_count": null,
   "metadata": {
    "colab": {
     "base_uri": "https://localhost:8080/",
     "height": 35
    },
    "colab_type": "code",
    "id": "_xck8tzNZ-HC",
    "outputId": "e4bd7f8b-8304-4c09-8999-5a33ba54e138"
   },
   "outputs": [],
   "source": [
    "# 테스트용 데이터의 크기\n",
    "len(X_test), y_test.shape"
   ]
  },
  {
   "cell_type": "code",
   "execution_count": null,
   "metadata": {
    "colab": {},
    "colab_type": "code",
    "id": "Skk03KdCLSp2"
   },
   "outputs": [],
   "source": [
    "# 훈련용 데이터의 백터화\n",
    "v = DictVectorizer()"
   ]
  },
  {
   "cell_type": "code",
   "execution_count": null,
   "metadata": {
    "colab": {
     "base_uri": "https://localhost:8080/",
     "height": 35
    },
    "colab_type": "code",
    "id": "rKitR5FOLSsb",
    "outputId": "2dbb67ae-aa2d-4fbb-a00c-2f04917774ce"
   },
   "outputs": [],
   "source": [
    "X_train_v = v.fit_transform( X_train )\n",
    "X_train_v.shape, type(X_train_v)"
   ]
  },
  {
   "cell_type": "code",
   "execution_count": null,
   "metadata": {
    "colab": {
     "base_uri": "https://localhost:8080/",
     "height": 141
    },
    "colab_type": "code",
    "id": "Wx6vM5LaN-kO",
    "outputId": "96c53b9c-2432-41e4-f474-ee823902f4e1"
   },
   "outputs": [],
   "source": [
    "# 값확인\n",
    "X_train_v.toarray()"
   ]
  },
  {
   "cell_type": "code",
   "execution_count": null,
   "metadata": {
    "colab": {
     "base_uri": "https://localhost:8080/",
     "height": 35
    },
    "colab_type": "code",
    "id": "tRurQ4Vmar-2",
    "outputId": "ad6318a2-f0cb-4af9-9b50-a2eb2d363ed3"
   },
   "outputs": [],
   "source": [
    "X_test_v = v.transform( X_test )\n",
    "X_test_v.shape, type(X_test_v)"
   ]
  },
  {
   "cell_type": "code",
   "execution_count": null,
   "metadata": {
    "colab": {
     "base_uri": "https://localhost:8080/",
     "height": 141
    },
    "colab_type": "code",
    "id": "HGHJUy3-bI7O",
    "outputId": "5a9b6368-ad2b-4ea9-9b12-b56e1627621d"
   },
   "outputs": [],
   "source": [
    "X_test_v.toarray()"
   ]
  },
  {
   "cell_type": "code",
   "execution_count": null,
   "metadata": {
    "colab": {},
    "colab_type": "code",
    "id": "UrX9bLJqcAWL"
   },
   "outputs": [],
   "source": [
    "from sklearn.model_selection import train_test_split"
   ]
  },
  {
   "cell_type": "code",
   "execution_count": null,
   "metadata": {
    "colab": {},
    "colab_type": "code",
    "id": "sYc7oCNHbLZs"
   },
   "outputs": [],
   "source": [
    "# 사용 데이터는 \n",
    "# X_train, y_train  => 훈련용으로 사용 => split 처리 9:1로 나눠라\n",
    "# X_test, y_test    => 예측으로 사용\n",
    "X_train_dev, X_test_dev, y_train_dev, y_test_dev = train_test_split(\n",
    "  X_train_v, y_train, test_size=0.1, random_state=1 )"
   ]
  },
  {
   "cell_type": "code",
   "execution_count": null,
   "metadata": {
    "colab": {
     "base_uri": "https://localhost:8080/",
     "height": 35
    },
    "colab_type": "code",
    "id": "MQNJyFVCcXlz",
    "outputId": "3141a444-c992-4674-d550-1544848d3c6c"
   },
   "outputs": [],
   "source": [
    "X_train_dev.shape, X_test_dev.shape"
   ]
  },
  {
   "cell_type": "markdown",
   "metadata": {
    "colab_type": "text",
    "id": "dLmDF-RadjQZ"
   },
   "source": [
    "## 훈련 및 예측,평가\n",
    "\n",
    "- MCMC\n",
    "  - 학습와 예측을 동시에 수행\n",
    "  - 실시간 적이면 SGD로 교체가 적합\n",
    "  - 파라미터 값들과, 평균제곱근오차값을 저장하여서\n",
    "  - 값들이 어떻게 수렴해가는지 시각화 하여\n",
    "  - 최적위치를 찾는다"
   ]
  },
  {
   "cell_type": "code",
   "execution_count": null,
   "metadata": {
    "colab": {},
    "colab_type": "code",
    "id": "FAwBSigUeNjR"
   },
   "outputs": [],
   "source": [
    "# MSE : 평균제곱근오차 함수 -> 회귀모델에서 평가지표중 한개\n",
    "from sklearn.metrics import mean_squared_error\n",
    "from fastFM import mcmc"
   ]
  },
  {
   "cell_type": "code",
   "execution_count": null,
   "metadata": {
    "colab": {},
    "colab_type": "code",
    "id": "FtfgYdWCeNl2"
   },
   "outputs": [],
   "source": [
    "# 1. 임계값, 하이퍼파라미터 설정(시작값, 기본값) <- 실험치를 미리 설정\n",
    "n_iter = 300 # 300회 반복\n",
    "rank   = 4   # 하이퍼파라미터가 rank*2배로 증가된다 => 고정크기(3) + 2*rank\n",
    "seed   = 123 # 난수의 시드(설정값), 시드가 고정되면 셔플 or 학습시 사용되는\n",
    "             # 난수가 일정하게 나온다 => 시간에 관계없이 동일한 결과를 산출\n",
    "             # 난수를 변경하면, 반복학습시 데이터도 변경되게 할수 있다\n",
    "             # 고정된 데이터에서 다양성을 확보할수 있다\n",
    "step_size = 1 "
   ]
  },
  {
   "cell_type": "code",
   "execution_count": null,
   "metadata": {
    "colab": {},
    "colab_type": "code",
    "id": "rR68_uC3eNoK"
   },
   "outputs": [],
   "source": [
    "# 2. 알고리즘 생성\n",
    "fm = mcmc.FMRegression( n_iter=0, rank=rank, random_state=seed )"
   ]
  },
  {
   "cell_type": "code",
   "execution_count": null,
   "metadata": {
    "colab": {
     "base_uri": "https://localhost:8080/",
     "height": 35
    },
    "colab_type": "code",
    "id": "vCN1iHOkeNqd",
    "outputId": "b206edf6-9ebc-4b80-c2f4-c0001d592347"
   },
   "outputs": [],
   "source": [
    "# 3. 학습 및 예측\n",
    "fm.fit_predict( X_train_dev, y_train_dev, X_test_dev )"
   ]
  },
  {
   "cell_type": "code",
   "execution_count": null,
   "metadata": {
    "colab": {
     "base_uri": "https://localhost:8080/",
     "height": 35
    },
    "colab_type": "code",
    "id": "xmRWybtOeNtS",
    "outputId": "ba61518d-ac17-4e6f-f6d3-629e9a964d04"
   },
   "outputs": [],
   "source": [
    "# 4. 결과치를 담는 자료구조 준비\n",
    "# 손실값 = np.sqrt(mean_squared_error()) <- 평가지표 \n",
    "rmse_test = list()\n",
    "# 하이퍼파라미터 => 배열 => 초기값은 0\n",
    "hyper_params = np.zeros( ( n_tier-1, 3 + 2*rank ), dtype=np.float64 )\n",
    "hyper_params.shape"
   ]
  },
  {
   "cell_type": "code",
   "execution_count": null,
   "metadata": {
    "colab": {
     "base_uri": "https://localhost:8080/",
     "height": 35
    },
    "colab_type": "code",
    "id": "oJbS9m_slIWC",
    "outputId": "fcd4703c-becf-4158-83e2-0d91a56e3455"
   },
   "outputs": [],
   "source": [
    "hyper_params[ 1, : ]"
   ]
  },
  {
   "cell_type": "code",
   "execution_count": null,
   "metadata": {
    "colab": {},
    "colab_type": "code",
    "id": "XqbAme5Dcb80"
   },
   "outputs": [],
   "source": [
    "# 5. n차번 수행하면서 예측 성능과, 하이퍼파라미타 수치를 저장한다\n",
    "# 인덱스와 횟수값은 별도로 관리\n",
    "for nr, i in enumerate( range(1, n_tier) ):\n",
    "  # 난수 seed 조정 -> 학습및 예측시 다양성을 확보 -> 반복학습시 동일 데이터로 \n",
    "  # 수행하는것은 의미가 없다 -> 새로운 데이터를 계속 넗어주는것이 좋다\n",
    "  # 데이터가 한정되어 있다면 => 난수를 변경해서 조합을 변경\n",
    "  fm.random_state = i*seed\n",
    "  # 학습 및 예측시, 재료 데이터의 다양성을 확보를 위해서\n",
    "  # 난수 조정, n_more_iter 조정으로 데이터의 다양성을 추구하여\n",
    "  # 항상 다른 종류의 데이터의 조합으로 학습 및 예측하겠끔 유도\n",
    "  y_pred = fm.fit_predict( X_train_dev, y_train_dev, X_test_dev, n_more_iter=step_size )\n",
    "\n",
    "  #if nr >=n_tier-3 or nr <3:\n",
    "  #  print( nr, i )\n",
    "  # hyper_prams에 파라미터 값들을 추가\n",
    "  # hyper_pram_의 0:alpha\n",
    "  # hyper_pram_의 1:lambda_w\n",
    "  # hyper_pram_의 2:mu_w\n",
    "  hyper_params[ nr, : ] = fm.hyper_param_ # [ 0.00,.... 0.88 ], (11, )\n",
    "\n",
    "  # rmse_test에 값을추가\n",
    "  rmse_test.append( np.sqrt(mean_squared_error( y_test_dev, y_pred ))  )\n",
    "\n",
    "  pass"
   ]
  },
  {
   "cell_type": "code",
   "execution_count": null,
   "metadata": {
    "colab": {
     "base_uri": "https://localhost:8080/",
     "height": 247
    },
    "colab_type": "code",
    "id": "psSR666De9zU",
    "outputId": "db71c3e2-7107-4936-b894-6f621792409a"
   },
   "outputs": [],
   "source": [
    "# 6. 결과치를 시각화하여 데이터가 수렴하는 위치를 확인\n",
    "#    수렴한다 => 더 학습해봤자 성능의 변화가 없다\n",
    "#    성능측정\n",
    "print(rmse_test[:3]), \n",
    "print(rmse_test[:-3]),\n",
    "hyper_params"
   ]
  },
  {
   "cell_type": "code",
   "execution_count": null,
   "metadata": {},
   "outputs": [],
   "source": [
    "x = np.arange( 1, n_tier )\n",
    "x"
   ]
  },
  {
   "cell_type": "code",
   "execution_count": null,
   "metadata": {},
   "outputs": [],
   "source": [
    "# 결과 데이터를 시각화 처리 \n",
    "# 2x2로 차트 배치 (선형)\n",
    "# rmse, alpha, lambda_w, mu_w를 시각화 \n",
    "from matplotlib import pyplot as plt \n",
    "\n",
    "# 차트 외관, 2x2, x축 공유, 가로가 길게 \n",
    "fig, axes = plt.subplot( nrows=2, ncols=2, sharex=True, figsize=(15,8) )\n",
    "\n",
    "# 드로잉 \n",
    "# x축 : 시도 횟수 n차, 1 ~ 299  \n",
    "axes[0,0].plot( x, rmese_test, label='rmse', color='r' )\n",
    "axes[0,0].legend()\n",
    "\n",
    "axes[0,1].plot( x, hyper_params[:,0], label='alpha', color='g' )\n",
    "axes[0,1].legend()\n",
    "\n",
    "axes[1,0].plot( x, hyper_params[:,1], label='lambda_w', color='b' )\n",
    "axes[1,0].legend()\n",
    "\n",
    "axes[1,1].plot( x, hyper_params[:,2], label='mu_w', color='r' )\n",
    "axes[1,1].legend()"
   ]
  },
  {
   "cell_type": "code",
   "execution_count": null,
   "metadata": {},
   "outputs": [],
   "source": [
    "# 초기값과 후반부 값이 너무 편차가 크다 \n",
    "# 초기값을 어느 정도 제거하고 처리하자 \n",
    "burn_in = 5\n",
    "\n",
    "from matplotlib import pyplot as plt \n",
    "\n",
    "fig, axes = plt.subplot( nrows=2, ncols=2, sharex=True, figsize=(15,8) )\n",
    "x1 = x[burn_in:]\n",
    "axes[0,0].plot( x1, rmese_test[burn_in:], label='rmse', color='r' )\n",
    "axes[0,0].legend()\n",
    "axes[0,1].plot( x1, hyper_params[burn_in:, 0], label='alpha', color='g' )\n",
    "axes[0,1].legend()\n",
    "axes[1,0].plot( x1, hyper_params[burn_in:, 1], label='lambda_w', color='b' )\n",
    "axes[1,0].legend()\n",
    "axes[1,1].plot( x1, hyper_params[burn_in:, 2], label='mu_w', color='r' )\n",
    "axes[1,1].legend()"
   ]
  },
  {
   "cell_type": "code",
   "execution_count": null,
   "metadata": {},
   "outputs": [],
   "source": [
    "# 반복횟수가 150회 이상 진행이 되면 하이퍼 파라미터들이 안정화 되어간다\n",
    "# 평균제곱근 오차의 손실함수 값의 최소값 \n",
    "print( np.min(rmse_test) )\n",
    "# 이 값을 더 줄여 보는 쪽으로 진행 \n",
    "# 횟수, 시드 고정, 랭크 값을 조정"
   ]
  },
  {
   "cell_type": "code",
   "execution_count": null,
   "metadata": {},
   "outputs": [],
   "source": [
    "n_iter = 100 # n_iter : 데이터를 훈련하는 횟수\n",
    "seed = 333\n",
    "rmse_test2 = list()\n",
    "ranks = [4,8,16,32,64]\n",
    "\n",
    "# 랭크 개수대로 반복 \n",
    "for rank in ranks : \n",
    "    # 알고리즘 새로 생성\n",
    "    # rank 를 제외한 하이퍼파라미터 고정 후 rank 변화로 rmse 값 추이 추적 \n",
    "    mcmc.FMRegression( n_iter=n_iter, rank=rank, random_state=seed )\n",
    "    # 학습 후 예측         \n",
    "    y_pred = fm.fit_predict( X_train_dev, y_train_dev, X_test_dev, n_more_iter=step_size )\n",
    "    # 손실값 = np.sqrt( mse ) # sqrt : 제곱근 계산 \n",
    "    rmse_test2.append( np.sqrt(mean_squared_error( y_test_dev, y_pred )) )\n",
    "    print( rmse_test2[-1] ) # [-1] : 방금 추가된 값 \n",
    "    # 손실함수 : 출력값과 정답의 오차를 정의하는 함수"
   ]
  },
  {
   "cell_type": "code",
   "execution_count": null,
   "metadata": {},
   "outputs": [],
   "source": [
    "plt.plot( ranks, rmse_test2, label='rmse', color='r' )\n",
    "plt.legend()"
   ]
  },
  {
   "cell_type": "code",
   "execution_count": null,
   "metadata": {},
   "outputs": [],
   "source": [
    "for i, pre in enumerate(y_pred) : \n",
    "    "
   ]
  },
  {
   "cell_type": "code",
   "execution_count": null,
   "metadata": {},
   "outputs": [],
   "source": [
    "X_test_v.shape"
   ]
  },
  {
   "cell_type": "code",
   "execution_count": null,
   "metadata": {},
   "outputs": [],
   "source": [
    "# ua.test로 준비된 데이터 => 이것을 이 모형에 넣어서 성능을 측정 \n",
    "# 하이퍼파라미터 고정값 : n_iter=300, rank=32, seed=333\n",
    "# 1. 알고리즘 생성 \n",
    "fm = mcmc.FMRegression( n_iter=300, rank=32, seed=333 )\n",
    "# 2. 훈련 및 예측 ( X_test_v )\n",
    "y_pred = fm.fit_predict( X_train_v, y_train, X_test_dev )\n",
    "# 3. rmse 출력 (평가잣대 y_test )\n",
    "np.sqrt( mean_squared_error( y_test, y_pred ) ) "
   ]
  },
  {
   "cell_type": "markdown",
   "metadata": {},
   "source": [
    "- 선응이 더 떨어졌다\n",
    "- 평점 자체가 편차가 크다\n",
    "- 평점을 정규화하여 조정 \n",
    "- StandardScaler 사용 \n",
    "- 대상\n",
    "    - y_train, y_test "
   ]
  },
  {
   "cell_type": "code",
   "execution_count": null,
   "metadata": {
    "colab": {},
    "colab_type": "code",
    "id": "pg4bjHgPfNeA"
   },
   "outputs": [],
   "source": [
    "# 7. 성능을 높이기 위해서 -> 정규화를 넣어보자 등등...\n",
    "from sklearn.preprocessing import StandardScaler "
   ]
  },
  {
   "cell_type": "code",
   "execution_count": null,
   "metadata": {},
   "outputs": [],
   "source": [
    "y_train.reshape(-1,1), y_train.reshape(-1,1).shape"
   ]
  },
  {
   "cell_type": "code",
   "execution_count": null,
   "metadata": {},
   "outputs": [],
   "source": [
    "# type(y_train), y_train.ndim"
   ]
  },
  {
   "cell_type": "code",
   "execution_count": null,
   "metadata": {},
   "outputs": [],
   "source": [
    "scaler = StandardScaler()\n",
    "# reshape(-1,1) => 함수가 2D를 원해서 형태 변경\n",
    "# ravel() => 훈련시 1D를 원하니까 데이터를 1차로 펼쳤다 \n",
    "y_train_norm = scaler.fit_trainsform( y_train.reshape(-1,1) ).ravel()"
   ]
  },
  {
   "cell_type": "code",
   "execution_count": null,
   "metadata": {},
   "outputs": [],
   "source": [
    "y_train_norm"
   ]
  },
  {
   "cell_type": "code",
   "execution_count": null,
   "metadata": {
    "colab": {},
    "colab_type": "code",
    "id": "k-W19xvFfUcx"
   },
   "outputs": [],
   "source": [
    "# 8. 컬럼의 조합 및 순서를 바꿔서 교차로 검증해 보자"
   ]
  },
  {
   "cell_type": "code",
   "execution_count": null,
   "metadata": {},
   "outputs": [],
   "source": [
    "# 정규화한 평점 정보를 가지고 수행시 성능 향상이 있는지 검토 \n",
    "fm = mcmc.FMRegression( n_iter=300, rank=32, seed=333 )\n",
    "y_pred = fm.fit_predict( X_train_v, y_train_norm, X_test_dev )\n",
    "# 예측값을 정규화 전으로 되돌린다 => 원래 값으로 복원 \n",
    "np.sqrt( mean_squared_error( y_test, scaler.inverse_transform(y_pred) ) ) \n",
    "# 약간의 성능이 개선됨 "
   ]
  },
  {
   "cell_type": "markdown",
   "metadata": {},
   "source": [
    "## 종합 "
   ]
  },
  {
   "cell_type": "code",
   "execution_count": null,
   "metadata": {},
   "outputs": [],
   "source": [
    "# 1. 임계값, 하이퍼파라미터 기본값 준비 \n",
    "n_iter = 200\n",
    "step_size = 1\n",
    "seed = 123\n",
    "rank = 32 \n",
    "\n",
    "# 알고리즘 생성 \n",
    "fm = mcmc.FMRegression( n_iter=0, rank=rank, random_state=seed )\n",
    "fm.fit_predict( X_train_v, y_train_norm, X_test_v )\n",
    "\n",
    "# 결과물 담기 \n",
    "rmse_test = list()\n",
    "hyper_params = np.zeros( ( n_iter-1, 3+2*rank ), dtype=np.float64 )\n",
    "\n",
    "# 학습 및 예측을 n_iter만큼 수행 \n",
    "for nr, i in enumerate( range(1, n_iter) ) :\n",
    "    fm.random_state = i * seed\n",
    "    y_pred = fm.fit_predict( X_train_v, y_train_norm, X_test_v, n_more_iter=step_size )\n",
    "    rmse_test.append( np, sqrt(mean_squared_error(y_test, scaler.inverse_transform(y_pred) )))\n",
    "    rmse_test.append(tmp)\n",
    "    hyper_params[nr, :] = fm.hyper_param\n",
    "    \n",
    "# 시각화 \n",
    "burn_in = 5\n",
    "x = np.arange( 1, n_iter )\n",
    "x = x * step_size  \n",
    "\n",
    "fig, axes = plt.subplot( nrows=2, ncols=2, sharex=True, figsize=(15,8) )\n",
    "\n",
    "x1 = x[burn_in:]\n",
    "\n",
    "axes[0,0].plot( x1, rmese_test[burn_in:], label='rmse', color='r' )\n",
    "axes[0,0].legend()\n",
    "axes[0,1].plot( x1, hyper_params[burn_in:, 0], label='alpha', color='g' )\n",
    "axes[0,1].legend()\n",
    "axes[1,0].plot( x1, hyper_params[burn_in:, 1], label='lambda_w', color='b' )\n",
    "axes[1,0].legend()\n",
    "axes[1,1].plot( x1, hyper_params[burn_in:, 2], label='mu_w', color='r' )\n",
    "axes[1,1].legend()\n",
    "\n",
    "# 최소값 => 78번째에서 가장 저점이 나왔다 \n",
    "print( np.min(rmse_test), np.argmin(rmse_test) )"
   ]
  },
  {
   "cell_type": "code",
   "execution_count": null,
   "metadata": {},
   "outputs": [],
   "source": [
    "hyper_params[np.array{}]"
   ]
  },
  {
   "cell_type": "markdown",
   "metadata": {},
   "source": [
    "## 컬럼을 다양하게 적용 "
   ]
  },
  {
   "cell_type": "code",
   "execution_count": null,
   "metadata": {},
   "outputs": [],
   "source": [
    "# 8. 컬럼의 조합 및 순서를 바꿔서 교차로 검증해보자 "
   ]
  },
  {
   "cell_type": "code",
   "execution_count": null,
   "metadata": {},
   "outputs": [],
   "source": [
    "movie_datas.head(2)"
   ]
  },
  {
   "cell_type": "code",
   "execution_count": null,
   "metadata": {},
   "outputs": [],
   "source": [
    "movie_datas.dtypes"
   ]
  },
  {
   "cell_type": "code",
   "execution_count": null,
   "metadata": {},
   "outputs": [],
   "source": [
    "movie_datas.columns "
   ]
  },
  {
   "cell_type": "code",
   "execution_count": null,
   "metadata": {},
   "outputs": [],
   "source": [
    "# uid, mid를 문자열 변환 \n",
    "# year라는 컬럼 추가 > date에서 yyyy를 추출하여서 문자열로 추가 \n",
    "# DataFrame에서 진행 \n",
    "\n",
    "movie_datas['uid'] = movie_datas.uid.astype(str)\n",
    "movie_datas['mid'] = movie_datas.uid.astype(str)"
   ]
  },
  {
   "cell_type": "code",
   "execution_count": null,
   "metadata": {},
   "outputs": [],
   "source": [
    "mobie_datas['year'] = movie_dates['date']"
   ]
  },
  {
   "cell_type": "code",
   "execution_count": null,
   "metadata": {},
   "outputs": [],
   "source": [
    "# 컬럼 조합 후보 (순서 중요)\n",
    "candidates_cols = [\n",
    "    ['uid','mid','age','s','year','rating'],\n",
    "    ['uid','mid','s','year','rating'], \n",
    "    ['uid','mid','age','s','rating'],\n",
    "    ['uid','mid','s','age','rating'], \n",
    "    ['uid','mid','rating']\n",
    "] "
   ]
  },
  {
   "cell_type": "code",
   "execution_count": null,
   "metadata": {},
   "outputs": [],
   "source": [
    "# 다루는 데이터 \n",
    "movie_datas.head(1)"
   ]
  },
  {
   "cell_type": "code",
   "execution_count": null,
   "metadata": {},
   "outputs": [],
   "source": []
  },
  {
   "cell_type": "code",
   "execution_count": null,
   "metadata": {},
   "outputs": [],
   "source": [
    "# 1. 임계값, 파라미터 초기값 등 설정 \n",
    "n_iter = 500\n",
    "seed = 123\n",
    "rank = 8 \n",
    "rmse_test = list()\n",
    "\n",
    "from tqdm import tqdm_notebook \n",
    "\n",
    "# 조합별로 반복 \n",
    "for column in tqdm_notebook(candidates_cols) : \n",
    "    # 누락값 제거 \n",
    "    tmp = movie_datas[ column ][:2].dropna()\n",
    "    # 입력데이터를 더미 변수(원핫인코딩, 0 or 1로 변환)\n",
    "    v = DictVectorizer()\n",
    "    # 정답을 분리 => tmp에서 rating을 제거, rating은 별도로 리스트로 보관 \n",
    "    X_multicols_train = v.fit_transform( tmp.drop('rating',axis=1).to_dict( 'records' ) )\n",
    "    # 정답 리스트만 가지고 있는 변수명 \n",
    "    y_rating_train = tmp['rating'].tolist()\n",
    "    \n",
    "    # 훈련데이터, 테스트데이터로 분류 \n",
    "    X_mc_train, X_mc_test, y_mc_train, y_mc_test = train_test_split( X_multicols_train, y_rating_train, test_size=0,1, random_state=20 )\n",
    "    \n",
    "    # 평점 정규화\n",
    "    scaler = StandardScaler()\n",
    "    y_mc_train_norm = scaler.fit_transform( np.array(y_mc_train).reshape(-1,1) ).ravel()\n",
    "    \n",
    "    # 알고리즘 생성 \n",
    "    fm = mcmc.FMRegression( n_iter=n_iter, rank=rank, random_state=seed )\n",
    "    \n",
    "    # 훈련 및 예측 \n",
    "    y_pred = fm.fit_predict( X_mc_train, y_mc_train_norm, X_mc_test )\n",
    "        \n",
    "    # rmse 계산 \n",
    "    rmse = np.sqrt(mean_squared_error( y_mc_test, scaler.inverse_transform(y_pred) ) \n",
    "    \n",
    "    # rmse을 rmse_test 추가 \n",
    "    rmse_test.append( rmse )\n",
    "\n",
    "# Rmse 시각화 "
   ]
  },
  {
   "cell_type": "code",
   "execution_count": null,
   "metadata": {},
   "outputs": [],
   "source": [
    "# 1. rating 을 제거 \n",
    "t = movie_datas.drop('rating',axis=1)\n",
    "# t.head(1)\n",
    "# 2. 형태를 [ {컬럼명:값, 컬럼명:값, ...}, {} ]\n",
    "t.to_dict( 'records' )[:10]"
   ]
  },
  {
   "cell_type": "code",
   "execution_count": null,
   "metadata": {},
   "outputs": [],
   "source": [
    "candidates_cols"
   ]
  },
  {
   "cell_type": "code",
   "execution_count": null,
   "metadata": {},
   "outputs": [],
   "source": [
    "# 시각화 \n",
    "x = np.arange( len(rmse_test) )\n",
    "bar = plt.bar( x, height=rmse_test )\n",
    "plt.xticks( x, (\"A\",\"B\",\"C\",\"D\",\"E\") )\n",
    "ply.ylim( (0.885, 0.9) )\n",
    "# 데이터 중에서 [ 'uid', 'mid', 's', 'year', 'rating' ]를 사용하는 조합이 가장 성능이 좋게 나온다(현재 임계치 기반)\n",
    "# C와 D가 동일하다 => 2개 컬럼의 순서를 맞바꾼다고 하더라도, 차이점이 발생하지 않는다 \n",
    "# -> 변경의 수를 증가하거나, 위치를 확연하게 바꿔서 실험이 필요 (실험 보완)"
   ]
  },
  {
   "cell_type": "code",
   "execution_count": null,
   "metadata": {},
   "outputs": [],
   "source": [
    "\n",
    "\n",
    "\n",
    "\n"
   ]
  },
  {
   "cell_type": "code",
   "execution_count": null,
   "metadata": {},
   "outputs": [],
   "source": []
  },
  {
   "cell_type": "code",
   "execution_count": null,
   "metadata": {},
   "outputs": [],
   "source": []
  },
  {
   "cell_type": "code",
   "execution_count": null,
   "metadata": {},
   "outputs": [],
   "source": []
  }
 ],
 "metadata": {
  "colab": {
   "collapsed_sections": [],
   "name": "7.지도학습>회귀>평균제곱근오차_손실함수.ipynb",
   "provenance": []
  },
  "kernelspec": {
   "display_name": "Python 3",
   "language": "python",
   "name": "python3"
  },
  "language_info": {
   "codemirror_mode": {
    "name": "ipython",
    "version": 3
   },
   "file_extension": ".py",
   "mimetype": "text/x-python",
   "name": "python",
   "nbconvert_exporter": "python",
   "pygments_lexer": "ipython3",
   "version": "3.7.4"
  }
 },
 "nbformat": 4,
 "nbformat_minor": 1
}
