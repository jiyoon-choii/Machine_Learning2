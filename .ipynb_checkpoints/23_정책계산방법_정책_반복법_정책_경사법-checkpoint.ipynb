{
 "cells": [
  {
   "cell_type": "markdown",
   "metadata": {
    "colab_type": "text",
    "id": "r23QZmXy89kY"
   },
   "source": [
    "# 정책 경사법을 활용한 미로게임"
   ]
  },
  {
   "cell_type": "code",
   "execution_count": 0,
   "metadata": {
    "colab": {
     "base_uri": "https://localhost:8080/",
     "height": 52
    },
    "colab_type": "code",
    "id": "xTiCOv2e9Xku",
    "outputId": "84af1284-ffe5-4ff0-bbb8-d2d47d1e94fb"
   },
   "outputs": [
    {
     "name": "stdout",
     "output_type": "stream",
     "text": [
      "\u001b[31mERROR: Invalid requirement: 'tensorflow=1.15'\n",
      "Hint: = is not a valid operator. Did you mean == ?\u001b[0m\n"
     ]
    }
   ],
   "source": [
    "# 텐서 2.0 대비\n",
    "! pip install tensorflow=1.15"
   ]
  },
  {
   "cell_type": "code",
   "execution_count": 0,
   "metadata": {
    "colab": {},
    "colab_type": "code",
    "id": "Z4iPDgVs8PfS"
   },
   "outputs": [],
   "source": [
    "# 모듈 가져오기\n",
    "import numpy as np\n",
    "import matplotlib.pyplot as plt\n",
    "%matplotlib inline\n",
    "# 애니메이션 처리\n",
    "from matplotlib import animation\n",
    "# 코렙에 html을 삽입하는 모듈\n",
    "from IPython.display import HTML"
   ]
  },
  {
   "cell_type": "code",
   "execution_count": 0,
   "metadata": {
    "colab": {},
    "colab_type": "code",
    "id": "XGOZjcYe9OE3"
   },
   "outputs": [],
   "source": [
    "# 게임 베이스 그리기 : 미로 게임판 생성\n",
    "# 미로게임판은 입구과 출구가 각각 1개만 존재\n",
    "# 바둑판 같은 사각형에 열린곳과 , 막힌곳이 존재\n",
    "# 에이전트(마우스)는 4방향으로 이동이 가능 (상:0,우:1,하:2,좌:3, 시계방향)\n",
    "# 게임판은 위에서 투시해서 직각으로 보는 뷰를 사용\n",
    "# 게임판은 3x3이다"
   ]
  },
  {
   "cell_type": "code",
   "execution_count": 0,
   "metadata": {
    "colab": {
     "base_uri": "https://localhost:8080/",
     "height": 194
    },
    "colab_type": "code",
    "id": "vPkYPnwF-7Jg",
    "outputId": "e0c6a76b-6e99-499e-f37c-e3184d125fd4"
   },
   "outputs": [
    {
     "data": {
      "image/png": "[encoded data removed]",
      "text/plain": [
       "<Figure size 216x216 with 1 Axes>"
      ]
     },
     "metadata": {
      "tags": []
     },
     "output_type": "display_data"
    }
   ],
   "source": [
    "# 미로판의 크기1\n",
    "fig = plt.figure( figsize=(3,3) )\n",
    "\n",
    "# 벽그리기\n",
    "#plt.plot( [x값들], [y값들], 칼라)\n",
    "plt.plot( [0,3], [3,3], color='k' ) # 맨 상단 가로 벽\n",
    "plt.plot( [0,3], [0,0], color='k' ) # 맨 하단 가로 벽\n",
    "plt.plot( [0,0], [0,2], color='k' ) # 왼쪽 세로 벽  -> 입구\n",
    "plt.plot( [3,3], [1,3], color='k' ) # 오른쪽 세로 벽 -> 출구\n",
    "plt.plot( [1,1], [1,2], color='k' ) # 내부벽 \n",
    "plt.plot( [2,3], [2,2], color='k' ) # 내부벽\n",
    "plt.plot( [2,1], [1,1], color='k' ) # 내부벽\n",
    "plt.plot( [2,2], [0,1], color='k' ) # 내부벽\n",
    "# 각 포인트에 숫자 표현하기 : 연속적으로 그린다\n",
    "for n in range(3):\n",
    "    for m in range(3):\n",
    "        plt.text( n+0.5, 3-m-0.5, str(n+m*3), size=20, ha='center', va='center' )\n",
    "\n",
    "# 마우스 그리기 (원)\n",
    "mouse = plt.plot( [0.5],[2.5], marker='o', color='#dadada', markersize=40 )\n",
    "\n",
    "# 눈금, 테두리 정리\n",
    "plt.tick_params( axis='both', which='both', bottom=False, top=False,\n",
    "            labelbottom=False, right=False, left=False, labelleft=False )\n",
    "\n",
    "# 화면에 보이기\n",
    "plt.box(False)\n",
    "plt.show()"
   ]
  },
  {
   "cell_type": "markdown",
   "metadata": {
    "colab_type": "text",
    "id": "1eUzRLyeJA6w"
   },
   "source": [
    "# 개요\n",
    "\n",
    "- 정책 결정의 방식\n",
    "  - 에이전트가 행동을 결정하기 위해서 최적의 정책을 구한다\n",
    "- 정책에 따라 행동\n",
    "  - 판단의 기준은 성공\n",
    "  - 이런 **성공을 얻는 행동을 많이 하도록** 정책을 갱신하는 방법\n",
    "  - 정책 경사법"
   ]
  },
  {
   "cell_type": "markdown",
   "metadata": {
    "colab_type": "text",
    "id": "ovtkdbG3JawQ"
   },
   "source": [
    "# 미션\n",
    "\n",
    "- 에이전트가 시작지점(0번 위치)에서 상우하좌로 이동, 골인 지점(8번 위치)까지 최단 경로로 이동하는 것(최단 거리 학습)"
   ]
  },
  {
   "cell_type": "markdown",
   "metadata": {
    "colab_type": "text",
    "id": "oumnEvkUJyrG"
   },
   "source": [
    "# 요소 설계\n",
    "\n",
    "|강화 학습 요소|미로 게임|\n",
    "|:--:|:--|\n",
    "|환경|미로|\n",
    "|에이전트|미로속의 mouse|\n",
    "|목적|골인 지점(8번)으로 이동, 미로탈출|\n",
    "|에피소드|골인 지점까지 도착|\n",
    "|상태|에이전트의 위치|\n",
    "|행동|상하좌우 이동|\n",
    "|보상|골인 지점까지 이동하는 행동을 중시하는 경향|\n",
    "|학습방법|정책 경사법|\n",
    "|파라미터 갱신|-정책 결정에 영향을 미친다(가중치 필터)<br>-정책은 행동에 영향을 미친다<br>-각 포인트별로 갈수 있는곳과 갈수 없는 곳에 대한 정보, 갈수 있는 곳의선택될 확률을 가지고 있다<br>-1 에피소드가 종료되면 갱신|"
   ]
  },
  {
   "cell_type": "code",
   "execution_count": 0,
   "metadata": {
    "colab": {
     "base_uri": "https://localhost:8080/",
     "height": 273
    },
    "colab_type": "code",
    "id": "BDkjInCp_93t",
    "outputId": "c8f37d92-65a4-4351-c7f1-86de25f8d8f5"
   },
   "outputs": [
    {
     "data": {
      "image/jpeg": "[encoded data removed]",
      "text/plain": [
       "<IPython.core.display.Image object>"
      ]
     },
     "execution_count": 5,
     "metadata": {
      "image/jpeg": {
       "width": "400"
      },
      "tags": []
     },
     "output_type": "execute_result"
    }
   ],
   "source": [
    "from IPython.display import Image\n",
    "Image('/content/drive/My Drive/Colab Notebooks/2기/dl_data/미로게임_학습사이클.jpg', width='400')"
   ]
  },
  {
   "cell_type": "markdown",
   "metadata": {
    "colab_type": "text",
    "id": "ZcJs3BlINBCG"
   },
   "source": [
    "# 정책\n",
    "\n",
    "- 에이전트의 상태(미로상의 위치)\n",
    "  - 이런 상태에서 특정 행동을 할 확률\n",
    "  - 매개변수 혹은 파라미터로 표현\n",
    "  - 정책을 묘사하기 위해서 각 포인트에서 취할 행동의 확률을 표현\n",
    "  - (행동을 취할 포인트개수, 행동의 개수)"
   ]
  },
  {
   "cell_type": "markdown",
   "metadata": {
    "colab_type": "text",
    "id": "5twn7WZnNqtI"
   },
   "source": [
    "|--|상|우|하|좌|\n",
    "|:--:|:--:|:--:|:--:|:--:|\n",
    "|p0|np.nan|1|1|np.nan|\n",
    "|p1|np.nan|1|1|1|\n",
    "|p2|--|--|--|--|\n",
    "|p3|--|--|--|--|\n",
    "|p4|--|--|--|--|\n",
    "|p5|--|--|--|--|\n",
    "|p6|--|--|--|--|\n",
    "|p7|--|--|--|--|\n",
    "\n"
   ]
  },
  {
   "cell_type": "markdown",
   "metadata": {
    "colab_type": "text",
    "id": "e_akZB0mPE2A"
   },
   "source": [
    "## softmax 함수를 통과시켜서 처리하면\n",
    "\n",
    "|--|상|우|하|좌|\n",
    "|:--:|:--:|:--:|:--:|:--:|\n",
    "|p0|0|0.5|0.5|0|\n",
    "|p1|0|0.333|0.333|0.333|\n",
    "|p2|--|--|--|--|\n",
    "|p3|--|--|--|--|\n",
    "|p4|--|--|--|--|\n",
    "|p5|--|--|--|--|\n",
    "|p6|--|--|--|--|\n",
    "|p7|--|--|--|--|"
   ]
  },
  {
   "cell_type": "code",
   "execution_count": 0,
   "metadata": {
    "colab": {},
    "colab_type": "code",
    "id": "XQGYPluKMZ6H"
   },
   "outputs": [],
   "source": [
    "# 파라미터 θ의 초기값 준비\n",
    "# 미로게임판을 기반으로 설계 (차후에 자동화하면 좋겟다)\n",
    "theta_0 = np.array([\n",
    "  # [상, 우, 하, 좌], \n",
    "  [ np.nan, 1, 1,np.nan ], # 0\n",
    "  [ np.nan, 1, 1,1 ], # 1\n",
    "  [ np.nan, np.nan, np.nan,1 ], # 2\n",
    "  [ 1,np.nan , 1,np.nan ], # 3\n",
    "  [1 , 1, np.nan, np.nan], # 4\n",
    "  [ np.nan, np.nan, 1, 1], # 5\n",
    "  [ 1, 1, np.nan,np.nan ], # 6\n",
    "  [ np.nan, np.nan, np.nan, 1], # 7 포인트  \n",
    "])\n",
    "# 8 포인트는 골인 지점이므로 매개변수를 고려하지 않음"
   ]
  },
  {
   "cell_type": "code",
   "execution_count": 0,
   "metadata": {
    "colab": {
     "base_uri": "https://localhost:8080/",
     "height": 159
    },
    "colab_type": "code",
    "id": "KBAx_fzTROun",
    "outputId": "1e0837c7-8bf2-408f-b1c2-8bb3690dcbb0"
   },
   "outputs": [
    {
     "data": {
      "text/plain": [
       "array([[nan,  1.,  1., nan],\n",
       "       [nan,  1.,  1.,  1.],\n",
       "       [nan, nan, nan,  1.],\n",
       "       [ 1., nan,  1., nan],\n",
       "       [ 1.,  1., nan, nan],\n",
       "       [nan, nan,  1.,  1.],\n",
       "       [ 1.,  1., nan, nan],\n",
       "       [nan, nan, nan,  1.]])"
      ]
     },
     "execution_count": 7,
     "metadata": {
      "tags": []
     },
     "output_type": "execute_result"
    }
   ],
   "source": [
    "theta_0"
   ]
  },
  {
   "cell_type": "code",
   "execution_count": 0,
   "metadata": {
    "colab": {
     "base_uri": "https://localhost:8080/",
     "height": 35
    },
    "colab_type": "code",
    "id": "liW7gTquHoL5",
    "outputId": "8cf43301-5d72-4f68-ace3-45d85deff83c"
   },
   "outputs": [
    {
     "data": {
      "text/plain": [
       "array([nan, 0.5, 0.5, nan])"
      ]
     },
     "execution_count": 18,
     "metadata": {
      "tags": []
     },
     "output_type": "execute_result"
    }
   ],
   "source": [
    "# 확률 = 개별값/전체총합\n",
    "a = theta_0[0]\n",
    "# nan을 0으로 처리하고 계산한다, 합산\n",
    "a / np.nansum(a)"
   ]
  },
  {
   "cell_type": "code",
   "execution_count": 0,
   "metadata": {
    "colab": {
     "base_uri": "https://localhost:8080/",
     "height": 52
    },
    "colab_type": "code",
    "id": "AeO5p8x0J7_D",
    "outputId": "bebdcc9e-8da6-4720-ef95-2cbe8e9c68b1"
   },
   "outputs": [
    {
     "data": {
      "text/plain": [
       "(array([       nan, 2.71828183, 2.71828183,        nan]),\n",
       " array([nan, 0.5, 0.5, nan]))"
      ]
     },
     "execution_count": 20,
     "metadata": {
      "tags": []
     },
     "output_type": "execute_result"
    }
   ],
   "source": [
    "a = theta_0[0]\n",
    "b = np.exp(a)   # 지수함수 \n",
    "b, b/np.nansum(b)"
   ]
  },
  {
   "cell_type": "code",
   "execution_count": 0,
   "metadata": {
    "colab": {
     "base_uri": "https://localhost:8080/",
     "height": 35
    },
    "colab_type": "code",
    "id": "H3KMRi_9LWpb",
    "outputId": "bed9df28-d531-4169-a0a7-9ae25f4abc35"
   },
   "outputs": [
    {
     "data": {
      "text/plain": [
       "array([0. , 0.5, 0.5, 0. ])"
      ]
     },
     "execution_count": 21,
     "metadata": {
      "tags": []
     },
     "output_type": "execute_result"
    }
   ],
   "source": [
    "# nan을 0으로 변환, nan을 수치로 변환\n",
    "np.nan_to_num(b/np.nansum(b))"
   ]
  },
  {
   "cell_type": "code",
   "execution_count": 0,
   "metadata": {
    "colab": {},
    "colab_type": "code",
    "id": "dztWndk4RPa9"
   },
   "outputs": [],
   "source": [
    "# softmax 처리 함수 구현, 사용\n",
    "# label이 다항인 경우, 3-class 이상의 분류를 목적으로 하는 딥러닝 모델의 \n",
    "# 출력층으로 보내는 활성화 함수\n",
    "# softmax을 처리한 구성원들의 총합이 1이 된다 => 행동결정의 확률\n",
    "# 0~1사이로 theta_0가 만들어져야 하위 작업을 진행\n",
    "def mySoftmax( theta ):\n",
    "  # 1. theta와 같은 크기로 배열을 생성, 초기값은 0\n",
    "  # 2. theta를 지수함수로 처리\n",
    "  pass"
   ]
  },
  {
   "cell_type": "code",
   "execution_count": 0,
   "metadata": {
    "colab": {},
    "colab_type": "code",
    "id": "ui880r-0R_Ru"
   },
   "outputs": [],
   "source": [
    "# 정책에 따른 행동 정보 획득 "
   ]
  },
  {
   "cell_type": "code",
   "execution_count": 0,
   "metadata": {
    "colab": {},
    "colab_type": "code",
    "id": "C7EYCoerSHL1"
   },
   "outputs": [],
   "source": [
    "# 행동에 따른 다음 상태(위치 정보) 획득"
   ]
  },
  {
   "cell_type": "code",
   "execution_count": 0,
   "metadata": {
    "colab": {},
    "colab_type": "code",
    "id": "nQyFhuyvSLxu"
   },
   "outputs": [],
   "source": [
    "# 시뮬레이션 준비"
   ]
  },
  {
   "cell_type": "code",
   "execution_count": 0,
   "metadata": {
    "colab": {},
    "colab_type": "code",
    "id": "nFWFcb_QSQJ-"
   },
   "outputs": [],
   "source": [
    "# 정책경사법을 적용한, 파라미터 θ 갱신 처리(핵심)"
   ]
  },
  {
   "cell_type": "code",
   "execution_count": 0,
   "metadata": {
    "colab": {},
    "colab_type": "code",
    "id": "InivCwbkSeTG"
   },
   "outputs": [],
   "source": [
    "# 에피소드 반복 처리(1000번)"
   ]
  },
  {
   "cell_type": "code",
   "execution_count": 0,
   "metadata": {
    "colab": {},
    "colab_type": "code",
    "id": "qeCPRi66Shce"
   },
   "outputs": [],
   "source": [
    "  # 최단거리 이동 시뮬레이션 드로잉(자동연출)"
   ]
  }
 ],
 "metadata": {
  "colab": {
   "collapsed_sections": [],
   "name": "23.정책계산방법>정책 반복법>정책 경사법.ipynb",
   "provenance": []
  },
  "kernelspec": {
   "display_name": "Python 3",
   "language": "python",
   "name": "python3"
  },
  "language_info": {
   "codemirror_mode": {
    "name": "ipython",
    "version": 3
   },
   "file_extension": ".py",
   "mimetype": "text/x-python",
   "name": "python",
   "nbconvert_exporter": "python",
   "pygments_lexer": "ipython3",
   "version": "3.7.4"
  }
 },
 "nbformat": 4,
 "nbformat_minor": 1
}
