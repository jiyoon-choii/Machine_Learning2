{
 "cells": [
  {
   "cell_type": "markdown",
   "metadata": {},
   "source": [
    "# 머신러닝>지도학습>분류>성능평가지표 "
   ]
  },
  {
   "cell_type": "markdown",
   "metadata": {},
   "source": [
    "- 통계학의 혼동행렬이라는 항목을 이용하여 평가 \n",
    "- 예측값이 실제 관측값을 얼마나 정확하게 예측하였는지 보여주는 행렬 \n",
    "    - ex ) 암을 예측하였다. 실제로 양성이었는가? 음성이었는가? "
   ]
  },
  {
   "cell_type": "markdown",
   "metadata": {},
   "source": [
    "# 혼동행렬(오차행렬)"
   ]
  },
  {
   "cell_type": "markdown",
   "metadata": {},
   "source": [
    "- Positive : P\n",
    "- Negative : N\n",
    "- 실제로 병이 있다고 예측했다 : True : T\n",
    "- 실제로 병이 없다고 예측했다 : False : F"
   ]
  },
  {
   "cell_type": "markdown",
   "metadata": {},
   "source": [
    "**거꾸로 봐야함 (ex- T->P 가 아니라 P->T로)**\n",
    "- TP 상황 \n",
    "    - 병이 있다고 예측하였는데, 실제로 병이 있었다\n",
    "    - TP (긍정한 것이 참이 되었다)  \n",
    "      \n",
    "\n",
    "- TN 상황\n",
    "    - 병이 없다고 예측하였는데, 실제로 병이 없었다 \n",
    "    - TN (부정한 것이 참이 되었다) \n",
    "      \n",
    "\n",
    "- FP 상황 \n",
    "    - 병이 있을 것 같다고 예측하였는데, 실제로 병이 없었다\n",
    "    - FP (긍정한 것이 부정 되었다) \n",
    "    - 1형 오류 \n",
    "      \n",
    "\n",
    "- FN 상황\n",
    "    - 병이 없을 것 같다고 예측하였는데, 실제로 병이 있었다 \n",
    "    - FN (부정한 것이 부정 되었다) \n",
    "    - 2형 오류 \n",
    "      \n",
    "\n",
    "- 정밀도 ( P : Precision ) \n",
    "    - 병이 있다고 예측을 하였는데, 실제로 병이 있는 비율, 정답율 \n",
    "    - TP / ( TP + FP ) \n",
    "    \n",
    "\n",
    "- 재현율 ( R : Recall, 민감도, 참긍정률) \n",
    "    - 실제 병이 있는 데이터 중 참,긍정 비율 \n",
    "    - TP : ( TP + FN ) \n",
    "      \n",
    "\n",
    "- F1 점수 \n",
    "    - 정밀도와 재현율의 조화평균\n",
    "    - F1 = 2 / ( 1/P + 1/R ) \n",
    "  \n",
    "\n",
    "- 특이성 \n",
    "    - 실제 병이 없는 전체 데이터 중에 예측이 참 부정의 비율 \n",
    "    - TN / ( TN + FP) \n",
    "      \n",
    "\n",
    "- 곡선하 면적 ( ROC : Area under curve), AUC \n",
    "    - 참 긍정 비율과 거짓 긍정 비율 사이를 기술/표현 \n",
    "    - 1 - 특이성 \n",
    "  "
   ]
  },
  {
   "cell_type": "markdown",
   "metadata": {},
   "source": [
    "# 다중 클래스에서 클래스 전체 평균 산출법\n",
    "\n",
    "- 클래스 = 레이블 = 종속변수\n",
    "- 속성 = 피쳐 = 독립변수 \n",
    "\n",
    "#### 데이터가 카테고리로 나누어 지면 Micro Average / Macro Average로 \n",
    "####  값이 한 곳에 편중되어 있을 때 두 평균값 간 차이가 난다 \n",
    "- 마이크로 평균 #전체값들의 평균\n",
    "    - 모든 클래스의 결과를 합쳐서 전체를 평가한다\n",
    "    - ex ) 클래스가 3개가 있다 \n",
    "        - 정밀도 = (TP1+TP2+TP3) / (TP1+FP1+...+FP3) \n",
    "        \n",
    "- 매크로 평균 #평균의 평균 \n",
    "    - 전체 성능의 양상을 알기 위해서 사용\n",
    "    - 정밀도 = (개별 정밀도1 + 개별 정밀도2 + ...) / 3(클래스의 수) "
   ]
  },
  {
   "cell_type": "markdown",
   "metadata": {},
   "source": [
    "# AUC, ROC 커브 "
   ]
  },
  {
   "cell_type": "code",
   "execution_count": 1,
   "metadata": {},
   "outputs": [],
   "source": [
    "from matplotlib import pyplot as plt "
   ]
  },
  {
   "cell_type": "code",
   "execution_count": 2,
   "metadata": {},
   "outputs": [],
   "source": [
    "import sklearn.datasets as mls \n",
    "import pandas as pd"
   ]
  },
  {
   "cell_type": "markdown",
   "metadata": {},
   "source": [
    "- 1. 연구목표 : ROC, AUC 표현 \n",
    "- 2. 데이터 획득 : sklearn의 load 계열 함수를 이용하여 iris 데이터 획득 \n",
    "- 3. 데이터 준비 : iris 데이터를 dataFrame으로 획득하라\n",
    "- 4. 데이터 분석 : 생략\n",
    "- 5. 모델링 구축 : 여러 개의 알고리즘을 이용하여 구성할 것 "
   ]
  },
  {
   "cell_type": "code",
   "execution_count": 3,
   "metadata": {},
   "outputs": [
    {
     "data": {
      "text/plain": [
       "(sklearn.utils.Bunch, (150, 4), (150,))"
      ]
     },
     "execution_count": 3,
     "metadata": {},
     "output_type": "execute_result"
    }
   ],
   "source": [
    "# 2. 데이터 획득 : 아이리스 데이터를 로드하여 df로 구성하기 \n",
    "tmp = mls.load_iris()\n",
    "type(tmp), tmp.data.shape, tmp.target.shape"
   ]
  },
  {
   "cell_type": "code",
   "execution_count": 4,
   "metadata": {},
   "outputs": [
    {
     "data": {
      "text/plain": [
       "['sepal length (cm)',\n",
       " 'sepal width (cm)',\n",
       " 'petal length (cm)',\n",
       " 'petal width (cm)']"
      ]
     },
     "execution_count": 4,
     "metadata": {},
     "output_type": "execute_result"
    }
   ],
   "source": [
    "tmp.feature_names"
   ]
  },
  {
   "cell_type": "code",
   "execution_count": 5,
   "metadata": {},
   "outputs": [
    {
     "data": {
      "text/html": [
       "<div>\n",
       "<style scoped>\n",
       "    .dataframe tbody tr th:only-of-type {\n",
       "        vertical-align: middle;\n",
       "    }\n",
       "\n",
       "    .dataframe tbody tr th {\n",
       "        vertical-align: top;\n",
       "    }\n",
       "\n",
       "    .dataframe thead th {\n",
       "        text-align: right;\n",
       "    }\n",
       "</style>\n",
       "<table border=\"1\" class=\"dataframe\">\n",
       "  <thead>\n",
       "    <tr style=\"text-align: right;\">\n",
       "      <th></th>\n",
       "      <th>sepal length (cm)</th>\n",
       "      <th>sepal width (cm)</th>\n",
       "      <th>petal length (cm)</th>\n",
       "      <th>petal width (cm)</th>\n",
       "    </tr>\n",
       "  </thead>\n",
       "  <tbody>\n",
       "    <tr>\n",
       "      <td>0</td>\n",
       "      <td>5.1</td>\n",
       "      <td>3.5</td>\n",
       "      <td>1.4</td>\n",
       "      <td>0.2</td>\n",
       "    </tr>\n",
       "    <tr>\n",
       "      <td>1</td>\n",
       "      <td>4.9</td>\n",
       "      <td>3.0</td>\n",
       "      <td>1.4</td>\n",
       "      <td>0.2</td>\n",
       "    </tr>\n",
       "    <tr>\n",
       "      <td>2</td>\n",
       "      <td>4.7</td>\n",
       "      <td>3.2</td>\n",
       "      <td>1.3</td>\n",
       "      <td>0.2</td>\n",
       "    </tr>\n",
       "    <tr>\n",
       "      <td>3</td>\n",
       "      <td>4.6</td>\n",
       "      <td>3.1</td>\n",
       "      <td>1.5</td>\n",
       "      <td>0.2</td>\n",
       "    </tr>\n",
       "    <tr>\n",
       "      <td>4</td>\n",
       "      <td>5.0</td>\n",
       "      <td>3.6</td>\n",
       "      <td>1.4</td>\n",
       "      <td>0.2</td>\n",
       "    </tr>\n",
       "    <tr>\n",
       "      <td>...</td>\n",
       "      <td>...</td>\n",
       "      <td>...</td>\n",
       "      <td>...</td>\n",
       "      <td>...</td>\n",
       "    </tr>\n",
       "    <tr>\n",
       "      <td>145</td>\n",
       "      <td>6.7</td>\n",
       "      <td>3.0</td>\n",
       "      <td>5.2</td>\n",
       "      <td>2.3</td>\n",
       "    </tr>\n",
       "    <tr>\n",
       "      <td>146</td>\n",
       "      <td>6.3</td>\n",
       "      <td>2.5</td>\n",
       "      <td>5.0</td>\n",
       "      <td>1.9</td>\n",
       "    </tr>\n",
       "    <tr>\n",
       "      <td>147</td>\n",
       "      <td>6.5</td>\n",
       "      <td>3.0</td>\n",
       "      <td>5.2</td>\n",
       "      <td>2.0</td>\n",
       "    </tr>\n",
       "    <tr>\n",
       "      <td>148</td>\n",
       "      <td>6.2</td>\n",
       "      <td>3.4</td>\n",
       "      <td>5.4</td>\n",
       "      <td>2.3</td>\n",
       "    </tr>\n",
       "    <tr>\n",
       "      <td>149</td>\n",
       "      <td>5.9</td>\n",
       "      <td>3.0</td>\n",
       "      <td>5.1</td>\n",
       "      <td>1.8</td>\n",
       "    </tr>\n",
       "  </tbody>\n",
       "</table>\n",
       "<p>150 rows × 4 columns</p>\n",
       "</div>"
      ],
      "text/plain": [
       "     sepal length (cm)  sepal width (cm)  petal length (cm)  petal width (cm)\n",
       "0                  5.1               3.5                1.4               0.2\n",
       "1                  4.9               3.0                1.4               0.2\n",
       "2                  4.7               3.2                1.3               0.2\n",
       "3                  4.6               3.1                1.5               0.2\n",
       "4                  5.0               3.6                1.4               0.2\n",
       "..                 ...               ...                ...               ...\n",
       "145                6.7               3.0                5.2               2.3\n",
       "146                6.3               2.5                5.0               1.9\n",
       "147                6.5               3.0                5.2               2.0\n",
       "148                6.2               3.4                5.4               2.3\n",
       "149                5.9               3.0                5.1               1.8\n",
       "\n",
       "[150 rows x 4 columns]"
      ]
     },
     "execution_count": 5,
     "metadata": {},
     "output_type": "execute_result"
    }
   ],
   "source": [
    "df = pd.DataFrame( tmp.data, columns = tmp.feature_names )\n",
    "df"
   ]
  },
  {
   "cell_type": "code",
   "execution_count": 6,
   "metadata": {},
   "outputs": [],
   "source": [
    "## 현재 컬럼은 (150,4) 이므로 컬럼을 1개 추가해야 함 "
   ]
  },
  {
   "cell_type": "code",
   "execution_count": 7,
   "metadata": {},
   "outputs": [
    {
     "data": {
      "text/plain": [
       "(150, 5)"
      ]
     },
     "execution_count": 7,
     "metadata": {},
     "output_type": "execute_result"
    }
   ],
   "source": [
    "df['species'] = tmp.target \n",
    "df.shape"
   ]
  },
  {
   "cell_type": "code",
   "execution_count": 8,
   "metadata": {},
   "outputs": [
    {
     "data": {
      "text/html": [
       "<div>\n",
       "<style scoped>\n",
       "    .dataframe tbody tr th:only-of-type {\n",
       "        vertical-align: middle;\n",
       "    }\n",
       "\n",
       "    .dataframe tbody tr th {\n",
       "        vertical-align: top;\n",
       "    }\n",
       "\n",
       "    .dataframe thead th {\n",
       "        text-align: right;\n",
       "    }\n",
       "</style>\n",
       "<table border=\"1\" class=\"dataframe\">\n",
       "  <thead>\n",
       "    <tr style=\"text-align: right;\">\n",
       "      <th></th>\n",
       "      <th>sepal length (cm)</th>\n",
       "      <th>sepal width (cm)</th>\n",
       "      <th>petal length (cm)</th>\n",
       "      <th>petal width (cm)</th>\n",
       "      <th>species</th>\n",
       "    </tr>\n",
       "  </thead>\n",
       "  <tbody>\n",
       "    <tr>\n",
       "      <td>0</td>\n",
       "      <td>5.1</td>\n",
       "      <td>3.5</td>\n",
       "      <td>1.4</td>\n",
       "      <td>0.2</td>\n",
       "      <td>0</td>\n",
       "    </tr>\n",
       "    <tr>\n",
       "      <td>1</td>\n",
       "      <td>4.9</td>\n",
       "      <td>3.0</td>\n",
       "      <td>1.4</td>\n",
       "      <td>0.2</td>\n",
       "      <td>0</td>\n",
       "    </tr>\n",
       "  </tbody>\n",
       "</table>\n",
       "</div>"
      ],
      "text/plain": [
       "   sepal length (cm)  sepal width (cm)  petal length (cm)  petal width (cm)  \\\n",
       "0                5.1               3.5                1.4               0.2   \n",
       "1                4.9               3.0                1.4               0.2   \n",
       "\n",
       "   species  \n",
       "0        0  \n",
       "1        0  "
      ]
     },
     "execution_count": 8,
     "metadata": {},
     "output_type": "execute_result"
    }
   ],
   "source": [
    "df.head(2)"
   ]
  },
  {
   "cell_type": "code",
   "execution_count": 9,
   "metadata": {},
   "outputs": [
    {
     "data": {
      "text/plain": [
       "array(['setosa', 'versicolor', 'virginica'], dtype='<U10')"
      ]
     },
     "execution_count": 9,
     "metadata": {},
     "output_type": "execute_result"
    }
   ],
   "source": [
    "tmp.target_names"
   ]
  },
  {
   "cell_type": "markdown",
   "metadata": {},
   "source": [
    "# 0.모듈 가져오기 "
   ]
  },
  {
   "cell_type": "code",
   "execution_count": 10,
   "metadata": {},
   "outputs": [],
   "source": [
    "import sklearn \n",
    "from sklearn.metrics import roc_curve, auc\n",
    "from sklearn.model_selection import train_test_split \n",
    "\n",
    "# 알고리즘들\n",
    "from sklearn.linear_model import LogisticRegression \n",
    "from sklearn.tree import DecisionTreeClassifier \n",
    "from sklearn.ensemble import RandomForestClassifier \n",
    "from sklearn.naive_bayes import GaussianNB "
   ]
  },
  {
   "cell_type": "code",
   "execution_count": 11,
   "metadata": {},
   "outputs": [],
   "source": [
    "# 1. 시각화를 위해서 준비, 알고리즘 생성 \n",
    "class_map = {\n",
    "    'LogisticRegression' : ('-', LogisticRegression() ),\n",
    "    'DecisionTreeClassifier' : ( '--', DecisionTreeClassifier( max_depth=5 ) ),\n",
    "    'RandomForestClassifier' : ( ',-', RandomForestClassifier( max_depth=5, n_estimators=10, max_features=1 ) ),\n",
    "    'GaussianNB' : ( ':', GaussianNB( ))\n",
    "}"
   ]
  },
  {
   "cell_type": "code",
   "execution_count": 52,
   "metadata": {},
   "outputs": [
    {
     "name": "stdout",
     "output_type": "stream",
     "text": [
      "('-', LogisticRegression(C=1.0, class_weight=None, dual=False, fit_intercept=True,\n",
      "                   intercept_scaling=1, l1_ratio=None, max_iter=100,\n",
      "                   multi_class='warn', n_jobs=None, penalty='l2',\n",
      "                   random_state=None, solver='warn', tol=0.0001, verbose=0,\n",
      "                   warm_start=False))\n",
      "('--', DecisionTreeClassifier(class_weight=None, criterion='gini', max_depth=5,\n",
      "                       max_features=None, max_leaf_nodes=None,\n",
      "                       min_impurity_decrease=0.0, min_impurity_split=None,\n",
      "                       min_samples_leaf=1, min_samples_split=2,\n",
      "                       min_weight_fraction_leaf=0.0, presort=False,\n",
      "                       random_state=None, splitter='best'))\n",
      "(',-', RandomForestClassifier(bootstrap=True, class_weight=None, criterion='gini',\n",
      "                       max_depth=5, max_features=1, max_leaf_nodes=None,\n",
      "                       min_impurity_decrease=0.0, min_impurity_split=None,\n",
      "                       min_samples_leaf=1, min_samples_split=2,\n",
      "                       min_weight_fraction_leaf=0.0, n_estimators=10,\n",
      "                       n_jobs=None, oob_score=False, random_state=None,\n",
      "                       verbose=0, warm_start=False))\n",
      "(':', GaussianNB(priors=None, var_smoothing=1e-09))\n"
     ]
    }
   ],
   "source": [
    "for i in class_map.items():\n",
    "    print(i[1])"
   ]
  },
  {
   "cell_type": "code",
   "execution_count": null,
   "metadata": {},
   "outputs": [],
   "source": []
  },
  {
   "cell_type": "code",
   "execution_count": null,
   "metadata": {},
   "outputs": [],
   "source": []
  },
  {
   "cell_type": "code",
   "execution_count": 12,
   "metadata": {},
   "outputs": [
    {
     "data": {
      "text/plain": [
       "(150, 4)"
      ]
     },
     "execution_count": 12,
     "metadata": {},
     "output_type": "execute_result"
    }
   ],
   "source": [
    "# 2. 데이터 준비(df) : 훈련용/테스트용 데이터 준비 \n",
    "# 독립 변수 데이터만 구하기(df)\n",
    "X = df[df.columns[:-1]]\n",
    "X.shape"
   ]
  },
  {
   "cell_type": "code",
   "execution_count": 13,
   "metadata": {},
   "outputs": [
    {
     "data": {
      "text/plain": [
       "'species'"
      ]
     },
     "execution_count": 13,
     "metadata": {},
     "output_type": "execute_result"
    }
   ],
   "source": [
    "# 종속 변수 컬럼 \n",
    "df.columns[-1]"
   ]
  },
  {
   "cell_type": "code",
   "execution_count": 14,
   "metadata": {},
   "outputs": [
    {
     "data": {
      "text/plain": [
       "array(['setosa', 'versicolor', 'virginica'], dtype='<U10')"
      ]
     },
     "execution_count": 14,
     "metadata": {},
     "output_type": "execute_result"
    }
   ],
   "source": [
    "tmp.target_names"
   ]
  },
  {
   "cell_type": "code",
   "execution_count": 15,
   "metadata": {},
   "outputs": [],
   "source": [
    "# Y 의 데이터의 결과가 'versicolor' 이냐? 아니냐? -- 이진 데이터 "
   ]
  },
  {
   "cell_type": "code",
   "execution_count": 16,
   "metadata": {},
   "outputs": [
    {
     "data": {
      "text/plain": [
       "0      0\n",
       "1      0\n",
       "2      0\n",
       "3      0\n",
       "4      0\n",
       "      ..\n",
       "145    2\n",
       "146    2\n",
       "147    2\n",
       "148    2\n",
       "149    2\n",
       "Name: species, Length: 150, dtype: int32"
      ]
     },
     "execution_count": 16,
     "metadata": {},
     "output_type": "execute_result"
    }
   ],
   "source": [
    "df['species']"
   ]
  },
  {
   "cell_type": "code",
   "execution_count": 17,
   "metadata": {},
   "outputs": [
    {
     "data": {
      "text/plain": [
       "0      0\n",
       "1      0\n",
       "2      0\n",
       "3      0\n",
       "4      0\n",
       "      ..\n",
       "145    2\n",
       "146    2\n",
       "147    2\n",
       "148    2\n",
       "149    2\n",
       "Name: species, Length: 150, dtype: int32"
      ]
     },
     "execution_count": 17,
     "metadata": {},
     "output_type": "execute_result"
    }
   ],
   "source": [
    "df[ df.columns[-1] ]"
   ]
  },
  {
   "cell_type": "code",
   "execution_count": 18,
   "metadata": {},
   "outputs": [
    {
     "data": {
      "text/plain": [
       "0    False\n",
       "1    False\n",
       "Name: species, dtype: bool"
      ]
     },
     "execution_count": 18,
     "metadata": {},
     "output_type": "execute_result"
    }
   ],
   "source": [
    "# 종속 변수 데이터만 구하시오 => (150, )\n",
    "# Series 로 나와야 한다 -> 차원축소 -> 인덱싱\n",
    "# df['species']의 값이 0,1,2 이므로 'versicolor'의 값이 1이다 \n",
    "# 아리 색은 'versicolor' 이냐? 아니냐? -- 1이냐 아니냐 \n",
    "Y = df[ df.columns[-1] ] == 1 # 불리언 \n",
    "Y[:2]"
   ]
  },
  {
   "cell_type": "code",
   "execution_count": 19,
   "metadata": {},
   "outputs": [],
   "source": [
    "# 훈련용, 테스트용 데이터 준비 \n",
    "# 0.8은 실험적,극단적인 상황 (테스트 비율이 더 높음)\n",
    "X_train, X_test, y_train, y_test = train_test_split( X, Y, test_size=0.8 )"
   ]
  },
  {
   "cell_type": "code",
   "execution_count": 20,
   "metadata": {},
   "outputs": [
    {
     "data": {
      "text/plain": [
       "((30, 4), (120, 4), 120)"
      ]
     },
     "execution_count": 20,
     "metadata": {},
     "output_type": "execute_result"
    }
   ],
   "source": [
    "X_train.shape, X_test.shape, X_train.shape[0]*4"
   ]
  },
  {
   "cell_type": "markdown",
   "metadata": {},
   "source": [
    "# 훈련(학습) => 평가 : 비교할 수 있게 시각화 \n",
    "- ROC 커브로 드로잉 (선형차트) "
   ]
  },
  {
   "cell_type": "code",
   "execution_count": 35,
   "metadata": {},
   "outputs": [
    {
     "name": "stdout",
     "output_type": "stream",
     "text": [
      "[[0.55617649 0.44382351]\n",
      " [0.77559796 0.22440204]\n",
      " [0.4994129  0.5005871 ]\n",
      " [0.44598875 0.55401125]\n",
      " [0.69993908 0.30006092]\n",
      " [0.60600118 0.39399882]\n",
      " [0.59081095 0.40918905]\n",
      " [0.3520773  0.6479227 ]\n",
      " [0.43182292 0.56817708]\n",
      " [0.7846402  0.2153598 ]\n",
      " [0.50820183 0.49179817]\n",
      " [0.53478975 0.46521025]\n",
      " [0.51270307 0.48729693]\n",
      " [0.84679677 0.15320323]\n",
      " [0.73100141 0.26899859]\n",
      " [0.736879   0.263121  ]\n",
      " [0.57593489 0.42406511]\n",
      " [0.53030569 0.46969431]\n",
      " [0.70482273 0.29517727]\n",
      " [0.76913213 0.23086787]\n",
      " [0.74138358 0.25861642]\n",
      " [0.69801984 0.30198016]\n",
      " [0.53259519 0.46740481]\n",
      " [0.81641852 0.18358148]\n",
      " [0.63778405 0.36221595]\n",
      " [0.47174495 0.52825505]\n",
      " [0.7898869  0.2101131 ]\n",
      " [0.49397065 0.50602935]\n",
      " [0.47039028 0.52960972]\n",
      " [0.52180995 0.47819005]\n",
      " [0.52927597 0.47072403]\n",
      " [0.56438323 0.43561677]\n",
      " [0.53173827 0.46826173]\n",
      " [0.50981005 0.49018995]\n",
      " [0.55273349 0.44726651]\n",
      " [0.58929251 0.41070749]\n",
      " [0.7400452  0.2599548 ]\n",
      " [0.45477261 0.54522739]\n",
      " [0.74361114 0.25638886]\n",
      " [0.71983031 0.28016969]\n",
      " [0.52262933 0.47737067]\n",
      " [0.48497519 0.51502481]\n",
      " [0.7458261  0.2541739 ]\n",
      " [0.56114485 0.43885515]\n",
      " [0.49711127 0.50288873]\n",
      " [0.53231054 0.46768946]\n",
      " [0.58925726 0.41074274]\n",
      " [0.69233743 0.30766257]\n",
      " [0.52856949 0.47143051]\n",
      " [0.46230318 0.53769682]\n",
      " [0.57061229 0.42938771]\n",
      " [0.57032982 0.42967018]\n",
      " [0.69528276 0.30471724]\n",
      " [0.74756514 0.25243486]\n",
      " [0.54301517 0.45698483]\n",
      " [0.48652499 0.51347501]\n",
      " [0.33055122 0.66944878]\n",
      " [0.54122824 0.45877176]\n",
      " [0.79621177 0.20378823]\n",
      " [0.58654405 0.41345595]\n",
      " [0.61308914 0.38691086]\n",
      " [0.54400228 0.45599772]\n",
      " [0.49803234 0.50196766]\n",
      " [0.58598943 0.41401057]\n",
      " [0.40343309 0.59656691]\n",
      " [0.41186695 0.58813305]\n",
      " [0.51243559 0.48756441]\n",
      " [0.51252955 0.48747045]\n",
      " [0.54561544 0.45438456]\n",
      " [0.50331947 0.49668053]\n",
      " [0.77181616 0.22818384]\n",
      " [0.78662687 0.21337313]\n",
      " [0.53591523 0.46408477]\n",
      " [0.75104677 0.24895323]\n",
      " [0.51256601 0.48743399]\n",
      " [0.39340611 0.60659389]\n",
      " [0.76805716 0.23194284]\n",
      " [0.77424872 0.22575128]\n",
      " [0.74912028 0.25087972]\n",
      " [0.52448566 0.47551434]\n",
      " [0.55002031 0.44997969]\n",
      " [0.56012666 0.43987334]\n",
      " [0.75819624 0.24180376]\n",
      " [0.51396374 0.48603626]\n",
      " [0.61970658 0.38029342]\n",
      " [0.77242178 0.22757822]\n",
      " [0.72729308 0.27270692]\n",
      " [0.49657906 0.50342094]\n",
      " [0.58529846 0.41470154]\n",
      " [0.43434313 0.56565687]\n",
      " [0.38426782 0.61573218]\n",
      " [0.79563893 0.20436107]\n",
      " [0.73552562 0.26447438]\n",
      " [0.48457448 0.51542552]\n",
      " [0.52069896 0.47930104]\n",
      " [0.74999921 0.25000079]\n",
      " [0.48960576 0.51039424]\n",
      " [0.54992651 0.45007349]\n",
      " [0.62845976 0.37154024]\n",
      " [0.47445801 0.52554199]\n",
      " [0.81177877 0.18822123]\n",
      " [0.68029732 0.31970268]\n",
      " [0.4913291  0.5086709 ]\n",
      " [0.77197686 0.22802314]\n",
      " [0.39008505 0.60991495]\n",
      " [0.51895961 0.48104039]\n",
      " [0.53490456 0.46509544]\n",
      " [0.80514646 0.19485354]\n",
      " [0.54973434 0.45026566]\n",
      " [0.730968   0.269032  ]\n",
      " [0.73485319 0.26514681]\n",
      " [0.80365394 0.19634606]\n",
      " [0.7685053  0.2314947 ]\n",
      " [0.4125356  0.5874644 ]\n",
      " [0.54086886 0.45913114]\n",
      " [0.47029353 0.52970647]\n",
      " [0.57823216 0.42176784]\n",
      " [0.82714205 0.17285795]\n",
      " [0.49609913 0.50390087]\n",
      " [0.70337085 0.29662915]]\n",
      "LogisticRegression 0.7394985346792576\n",
      "[[1. 0.]\n",
      " [1. 0.]\n",
      " [1. 0.]\n",
      " [1. 0.]\n",
      " [1. 0.]\n",
      " [1. 0.]\n",
      " [1. 0.]\n",
      " [1. 0.]\n",
      " [1. 0.]\n",
      " [1. 0.]\n",
      " [0. 1.]\n",
      " [1. 0.]\n",
      " [1. 0.]\n",
      " [1. 0.]\n",
      " [1. 0.]\n",
      " [1. 0.]\n",
      " [0. 1.]\n",
      " [0. 1.]\n",
      " [1. 0.]\n",
      " [1. 0.]\n",
      " [1. 0.]\n",
      " [1. 0.]\n",
      " [0. 1.]\n",
      " [1. 0.]\n",
      " [0. 1.]\n",
      " [1. 0.]\n",
      " [1. 0.]\n",
      " [0. 1.]\n",
      " [1. 0.]\n",
      " [1. 0.]\n",
      " [1. 0.]\n",
      " [1. 0.]\n",
      " [0. 1.]\n",
      " [1. 0.]\n",
      " [1. 0.]\n",
      " [0. 1.]\n",
      " [1. 0.]\n",
      " [0. 1.]\n",
      " [1. 0.]\n",
      " [1. 0.]\n",
      " [1. 0.]\n",
      " [0. 1.]\n",
      " [1. 0.]\n",
      " [0. 1.]\n",
      " [0. 1.]\n",
      " [0. 1.]\n",
      " [0. 1.]\n",
      " [1. 0.]\n",
      " [0. 1.]\n",
      " [0. 1.]\n",
      " [0. 1.]\n",
      " [1. 0.]\n",
      " [1. 0.]\n",
      " [1. 0.]\n",
      " [0. 1.]\n",
      " [1. 0.]\n",
      " [1. 0.]\n",
      " [1. 0.]\n",
      " [1. 0.]\n",
      " [1. 0.]\n",
      " [1. 0.]\n",
      " [1. 0.]\n",
      " [0. 1.]\n",
      " [1. 0.]\n",
      " [1. 0.]\n",
      " [0. 1.]\n",
      " [1. 0.]\n",
      " [0. 1.]\n",
      " [0. 1.]\n",
      " [0. 1.]\n",
      " [1. 0.]\n",
      " [1. 0.]\n",
      " [1. 0.]\n",
      " [1. 0.]\n",
      " [0. 1.]\n",
      " [1. 0.]\n",
      " [1. 0.]\n",
      " [1. 0.]\n",
      " [1. 0.]\n",
      " [0. 1.]\n",
      " [1. 0.]\n",
      " [1. 0.]\n",
      " [1. 0.]\n",
      " [1. 0.]\n",
      " [1. 0.]\n",
      " [1. 0.]\n",
      " [1. 0.]\n",
      " [0. 1.]\n",
      " [0. 1.]\n",
      " [0. 1.]\n",
      " [1. 0.]\n",
      " [1. 0.]\n",
      " [1. 0.]\n",
      " [1. 0.]\n",
      " [0. 1.]\n",
      " [1. 0.]\n",
      " [0. 1.]\n",
      " [0. 1.]\n",
      " [1. 0.]\n",
      " [0. 1.]\n",
      " [1. 0.]\n",
      " [1. 0.]\n",
      " [0. 1.]\n",
      " [1. 0.]\n",
      " [0. 1.]\n",
      " [0. 1.]\n",
      " [1. 0.]\n",
      " [1. 0.]\n",
      " [1. 0.]\n",
      " [1. 0.]\n",
      " [1. 0.]\n",
      " [1. 0.]\n",
      " [1. 0.]\n",
      " [0. 1.]\n",
      " [1. 0.]\n",
      " [1. 0.]\n",
      " [0. 1.]\n",
      " [1. 0.]\n",
      " [1. 0.]\n",
      " [1. 0.]]\n",
      "DecisionTreeClassifier 0.9609247802018888\n",
      "[[0.9        0.1       ]\n",
      " [1.         0.        ]\n",
      " [0.9        0.1       ]\n",
      " [0.8        0.2       ]\n",
      " [0.8        0.2       ]\n",
      " [0.9        0.1       ]\n",
      " [0.9        0.1       ]\n",
      " [0.9        0.1       ]\n",
      " [0.3        0.7       ]\n",
      " [1.         0.        ]\n",
      " [0.1        0.9       ]\n",
      " [0.9        0.1       ]\n",
      " [0.9        0.1       ]\n",
      " [0.6        0.4       ]\n",
      " [1.         0.        ]\n",
      " [1.         0.        ]\n",
      " [0.26666667 0.73333333]\n",
      " [0.         1.        ]\n",
      " [0.9        0.1       ]\n",
      " [0.9        0.1       ]\n",
      " [1.         0.        ]\n",
      " [0.9        0.1       ]\n",
      " [0.         1.        ]\n",
      " [1.         0.        ]\n",
      " [0.         1.        ]\n",
      " [1.         0.        ]\n",
      " [1.         0.        ]\n",
      " [0.         1.        ]\n",
      " [0.8        0.2       ]\n",
      " [0.9        0.1       ]\n",
      " [0.8        0.2       ]\n",
      " [0.8        0.2       ]\n",
      " [0.1        0.9       ]\n",
      " [0.8        0.2       ]\n",
      " [0.9        0.1       ]\n",
      " [0.1        0.9       ]\n",
      " [1.         0.        ]\n",
      " [0.1        0.9       ]\n",
      " [1.         0.        ]\n",
      " [0.9        0.1       ]\n",
      " [1.         0.        ]\n",
      " [0.16       0.84      ]\n",
      " [1.         0.        ]\n",
      " [0.         1.        ]\n",
      " [0.06666667 0.93333333]\n",
      " [0.         1.        ]\n",
      " [0.3        0.7       ]\n",
      " [0.9        0.1       ]\n",
      " [0.         1.        ]\n",
      " [0.36666667 0.63333333]\n",
      " [0.1        0.9       ]\n",
      " [1.         0.        ]\n",
      " [0.8        0.2       ]\n",
      " [1.         0.        ]\n",
      " [0.1        0.9       ]\n",
      " [1.         0.        ]\n",
      " [0.9        0.1       ]\n",
      " [0.9        0.1       ]\n",
      " [1.         0.        ]\n",
      " [0.9        0.1       ]\n",
      " [0.6        0.4       ]\n",
      " [0.9        0.1       ]\n",
      " [0.         1.        ]\n",
      " [1.         0.        ]\n",
      " [0.8        0.2       ]\n",
      " [0.26666667 0.73333333]\n",
      " [1.         0.        ]\n",
      " [0.1        0.9       ]\n",
      " [0.         1.        ]\n",
      " [0.         1.        ]\n",
      " [1.         0.        ]\n",
      " [1.         0.        ]\n",
      " [0.9        0.1       ]\n",
      " [1.         0.        ]\n",
      " [0.3        0.7       ]\n",
      " [0.9        0.1       ]\n",
      " [1.         0.        ]\n",
      " [1.         0.        ]\n",
      " [0.7        0.3       ]\n",
      " [0.         1.        ]\n",
      " [0.8        0.2       ]\n",
      " [1.         0.        ]\n",
      " [1.         0.        ]\n",
      " [0.8        0.2       ]\n",
      " [1.         0.        ]\n",
      " [0.9        0.1       ]\n",
      " [0.9        0.1       ]\n",
      " [0.1        0.9       ]\n",
      " [0.         1.        ]\n",
      " [0.62666667 0.37333333]\n",
      " [0.9        0.1       ]\n",
      " [0.9        0.1       ]\n",
      " [1.         0.        ]\n",
      " [0.9        0.1       ]\n",
      " [0.1        0.9       ]\n",
      " [1.         0.        ]\n",
      " [0.1        0.9       ]\n",
      " [0.         1.        ]\n",
      " [1.         0.        ]\n",
      " [0.42666667 0.57333333]\n",
      " [0.9        0.1       ]\n",
      " [0.8        0.2       ]\n",
      " [0.1        0.9       ]\n",
      " [1.         0.        ]\n",
      " [0.46666667 0.53333333]\n",
      " [0.16       0.84      ]\n",
      " [0.9        0.1       ]\n",
      " [0.6        0.4       ]\n",
      " [0.8        0.2       ]\n",
      " [1.         0.        ]\n",
      " [1.         0.        ]\n",
      " [1.         0.        ]\n",
      " [0.6        0.4       ]\n",
      " [0.1        0.9       ]\n",
      " [0.4        0.6       ]\n",
      " [0.8        0.2       ]\n",
      " [0.2        0.8       ]\n",
      " [0.7        0.3       ]\n",
      " [1.         0.        ]\n",
      " [1.         0.        ]]\n",
      "RandomForestClassifier 0.9801367632692934\n",
      "[[6.80258631e-01 3.19741369e-01]\n",
      " [1.00000000e+00 1.15513443e-12]\n",
      " [9.66428324e-01 3.35716761e-02]\n",
      " [1.00000000e+00 1.02807744e-10]\n",
      " [1.00000000e+00 1.77883031e-20]\n",
      " [7.37228260e-01 2.62771740e-01]\n",
      " [1.00000000e+00 1.03722427e-13]\n",
      " [9.99999997e-01 3.36811642e-09]\n",
      " [9.87475174e-01 1.25248265e-02]\n",
      " [1.00000000e+00 3.57492748e-14]\n",
      " [3.83330460e-02 9.61666954e-01]\n",
      " [9.96940196e-01 3.05980380e-03]\n",
      " [9.99999299e-01 7.00941751e-07]\n",
      " [1.00000000e+00 4.34196675e-16]\n",
      " [1.00000000e+00 9.61952078e-18]\n",
      " [1.00000000e+00 7.70148824e-21]\n",
      " [7.26885834e-02 9.27311417e-01]\n",
      " [2.61240292e-01 7.38759708e-01]\n",
      " [1.00000000e+00 2.55220174e-19]\n",
      " [1.00000000e+00 2.42276611e-19]\n",
      " [1.00000000e+00 8.16412643e-20]\n",
      " [1.00000000e+00 2.56512537e-21]\n",
      " [6.55340707e-02 9.34465929e-01]\n",
      " [1.00000000e+00 8.61489855e-22]\n",
      " [2.17409295e-01 7.82590705e-01]\n",
      " [9.60632277e-01 3.93677233e-02]\n",
      " [1.00000000e+00 4.12005964e-16]\n",
      " [6.82470551e-02 9.31752945e-01]\n",
      " [9.99805982e-01 1.94018194e-04]\n",
      " [9.70585977e-01 2.94140233e-02]\n",
      " [9.99957619e-01 4.23805578e-05]\n",
      " [9.99999646e-01 3.54060194e-07]\n",
      " [4.01398584e-02 9.59860142e-01]\n",
      " [9.99958731e-01 4.12692008e-05]\n",
      " [7.97927906e-01 2.02072094e-01]\n",
      " [7.07420718e-02 9.29257928e-01]\n",
      " [1.00000000e+00 2.27844695e-19]\n",
      " [4.08106932e-01 5.91893068e-01]\n",
      " [1.00000000e+00 1.73775229e-19]\n",
      " [1.00000000e+00 3.68807664e-21]\n",
      " [5.05909928e-01 4.94090072e-01]\n",
      " [6.62481201e-02 9.33751880e-01]\n",
      " [1.00000000e+00 3.17201190e-19]\n",
      " [4.65934805e-02 9.53406520e-01]\n",
      " [4.98074416e-02 9.50192558e-01]\n",
      " [5.92117331e-02 9.40788267e-01]\n",
      " [9.54930993e-02 9.04506901e-01]\n",
      " [1.00000000e+00 6.67168264e-22]\n",
      " [5.68856501e-01 4.31143499e-01]\n",
      " [8.79529262e-02 9.12047074e-01]\n",
      " [9.61972851e-02 9.03802715e-01]\n",
      " [9.99999944e-01 5.56721279e-08]\n",
      " [1.00000000e+00 9.19318700e-20]\n",
      " [1.00000000e+00 2.26632433e-21]\n",
      " [5.08334353e-02 9.49166565e-01]\n",
      " [9.99924695e-01 7.53049309e-05]\n",
      " [1.00000000e+00 1.41792536e-13]\n",
      " [1.00000000e+00 1.87847404e-12]\n",
      " [1.00000000e+00 7.30451783e-18]\n",
      " [1.00000000e+00 1.08278816e-11]\n",
      " [1.00000000e+00 3.00527764e-18]\n",
      " [9.99999984e-01 1.61374031e-08]\n",
      " [9.25615370e-02 9.07438463e-01]\n",
      " [1.00000000e+00 2.37391535e-12]\n",
      " [9.99999999e-01 7.43579587e-10]\n",
      " [5.78967250e-03 9.94210327e-01]\n",
      " [9.10714407e-01 8.92855933e-02]\n",
      " [2.35877926e-02 9.76412207e-01]\n",
      " [9.60760825e-02 9.03923918e-01]\n",
      " [2.88753502e-01 7.11246498e-01]\n",
      " [1.00000000e+00 2.43536879e-22]\n",
      " [1.00000000e+00 3.62429230e-19]\n",
      " [9.99999995e-01 5.47092687e-09]\n",
      " [1.00000000e+00 1.92540541e-15]\n",
      " [2.92389962e-01 7.07610038e-01]\n",
      " [9.99977232e-01 2.27683404e-05]\n",
      " [1.00000000e+00 8.62384645e-19]\n",
      " [1.00000000e+00 3.26519273e-20]\n",
      " [1.00000000e+00 3.14489684e-20]\n",
      " [3.71472348e-02 9.62852765e-01]\n",
      " [9.99999998e-01 1.58206945e-09]\n",
      " [9.86217612e-01 1.37823877e-02]\n",
      " [1.00000000e+00 5.20651121e-20]\n",
      " [5.71179288e-01 4.28820712e-01]\n",
      " [9.99999999e-01 1.32306456e-09]\n",
      " [1.00000000e+00 2.00595103e-19]\n",
      " [1.00000000e+00 1.47647252e-24]\n",
      " [4.21857215e-02 9.57814279e-01]\n",
      " [5.65012014e-02 9.43498799e-01]\n",
      " [3.05971453e-02 9.69402855e-01]\n",
      " [9.82360058e-01 1.76399422e-02]\n",
      " [1.00000000e+00 6.23812324e-15]\n",
      " [1.00000000e+00 1.95909457e-20]\n",
      " [9.69070484e-01 3.09295160e-02]\n",
      " [8.14296019e-01 1.85703981e-01]\n",
      " [1.00000000e+00 2.36485681e-19]\n",
      " [3.23732639e-01 6.76267361e-01]\n",
      " [3.87372031e-02 9.61262797e-01]\n",
      " [9.99999860e-01 1.39500901e-07]\n",
      " [1.20750148e-01 8.79249852e-01]\n",
      " [1.00000000e+00 4.24081035e-17]\n",
      " [1.00000000e+00 1.50247178e-18]\n",
      " [9.52186191e-02 9.04781381e-01]\n",
      " [1.00000000e+00 7.32646886e-19]\n",
      " [1.42117784e-02 9.85788222e-01]\n",
      " [4.55331956e-02 9.54466804e-01]\n",
      " [9.99999997e-01 2.65792940e-09]\n",
      " [1.00000000e+00 4.65498300e-21]\n",
      " [9.99999522e-01 4.78092228e-07]\n",
      " [1.00000000e+00 5.25998590e-21]\n",
      " [1.00000000e+00 6.06323354e-20]\n",
      " [1.00000000e+00 3.36214865e-23]\n",
      " [1.00000000e+00 2.31905904e-16]\n",
      " [8.17279218e-02 9.18272078e-01]\n",
      " [2.94274845e-01 7.05725155e-01]\n",
      " [9.99998280e-01 1.72042299e-06]\n",
      " [8.94595399e-01 1.05404601e-01]\n",
      " [1.00000000e+00 3.71722491e-20]\n",
      " [9.72515878e-01 2.74841225e-02]\n",
      " [1.00000000e+00 6.27768643e-19]]\n",
      "GaussianNB 0.9791598827743406\n"
     ]
    },
    {
     "name": "stderr",
     "output_type": "stream",
     "text": [
      "C:\\Users\\admin\\Anaconda3\\lib\\site-packages\\sklearn\\linear_model\\logistic.py:432: FutureWarning: Default solver will be changed to 'lbfgs' in 0.22. Specify a solver to silence this warning.\n",
      "  FutureWarning)\n"
     ]
    },
    {
     "data": {
      "image/png": "[encoded data removed]",
      "text/plain": [
       "<Figure size 576x576 with 1 Axes>"
      ]
     },
     "metadata": {
      "needs_background": "light"
     },
     "output_type": "display_data"
    }
   ],
   "source": [
    "# 차트의 모양 \n",
    "plt.figure( figsize = (8,8) )\n",
    "# 키값, 선형차트의 선 모양, 알고리즘 -- 반복 \n",
    "for key, (line_style, model ) in class_map.items() : # items : 딕셔너리에서 키,밸류 같이 나온다 \n",
    "    # print( key, line_style, model )\n",
    "    # 1. 훈련(학습) : 20% \n",
    "    model.fit( X_train, y_train )\n",
    "    # 2. 예측 : 80% \n",
    "    # 예측 확률이 높은 쪽으로 정답을 정한다 \n",
    "    predict = model.predict_proba(X_test) # scikit-learn 분류기에서 불확실성을 추정할 수 있는 함수\n",
    "    # 실제로는 각 row 별로 확률이 높은 값을 선택해야 하지만, 이번엔 1번 컬럼으로 가겠다 \n",
    "    # 정답 데이터의 타입이 Series 이므로 형식을 맞춰줌\n",
    "    print(predict)\n",
    "    pred = pd.Series( predict[:, 1] ) \n",
    "#     print('-'*10)\n",
    "#     # predict에서 세로열이 1번인 데이터만 모은다 \n",
    "#     print( type(predict), predict.shape, predict[0, :], predict[0, :].sum() )\n",
    "#     print('-'*10)\n",
    "#     predict[ :, 1 ]\n",
    "#     break\n",
    "    # 3. roc 커브 드로잉 \n",
    "    # fpr : 거짓 양성비\n",
    "    # tpr : 참 양성비 \n",
    "    # _ : 임계값 = tpr, fpr 계산시 사용한 임계값 \n",
    "    fpr, tpr, _ = roc_curve( y_test, pred )\n",
    "    plt.plot( fpr, tpr, line_style, label=key )\n",
    "    # 4. auc 값 출력 \n",
    "    print( key, auc(fpr,tpr) )\n",
    "    pass\n",
    "\n",
    "# 범례 \n",
    "plt.legend()\n",
    "# 기준 가이드선 ( 1차함수, 기울기 1 )\n",
    "plt.plot( [0,1], [0,1], 'k--' )\n",
    "# x 라벨\n",
    "plt.xlabel('False Positive Rate')\n",
    "plt.ylabel('True Positive Rate')\n",
    "\n",
    "plt.show()"
   ]
  },
  {
   "cell_type": "code",
   "execution_count": 34,
   "metadata": {},
   "outputs": [
    {
     "data": {
      "text/plain": [
       "{'LogisticRegression': ('-',\n",
       "  LogisticRegression(C=1.0, class_weight=None, dual=False, fit_intercept=True,\n",
       "                     intercept_scaling=1, l1_ratio=None, max_iter=100,\n",
       "                     multi_class='warn', n_jobs=None, penalty='l2',\n",
       "                     random_state=None, solver='warn', tol=0.0001, verbose=0,\n",
       "                     warm_start=False)),\n",
       " 'DecisionTreeClassifier': ('--',\n",
       "  DecisionTreeClassifier(class_weight=None, criterion='gini', max_depth=5,\n",
       "                         max_features=None, max_leaf_nodes=None,\n",
       "                         min_impurity_decrease=0.0, min_impurity_split=None,\n",
       "                         min_samples_leaf=1, min_samples_split=2,\n",
       "                         min_weight_fraction_leaf=0.0, presort=False,\n",
       "                         random_state=None, splitter='best')),\n",
       " 'RandomForestClassifier': (',-',\n",
       "  RandomForestClassifier(bootstrap=True, class_weight=None, criterion='gini',\n",
       "                         max_depth=5, max_features=1, max_leaf_nodes=None,\n",
       "                         min_impurity_decrease=0.0, min_impurity_split=None,\n",
       "                         min_samples_leaf=1, min_samples_split=2,\n",
       "                         min_weight_fraction_leaf=0.0, n_estimators=10,\n",
       "                         n_jobs=None, oob_score=False, random_state=None,\n",
       "                         verbose=0, warm_start=False)),\n",
       " 'GaussianNB': (':', GaussianNB(priors=None, var_smoothing=1e-09))}"
      ]
     },
     "execution_count": 34,
     "metadata": {},
     "output_type": "execute_result"
    }
   ],
   "source": [
    "class_map"
   ]
  },
  {
   "cell_type": "code",
   "execution_count": null,
   "metadata": {},
   "outputs": [],
   "source": [
    "def hello():\n",
    "    return 'hello', 'heelllll', 'ssdsds'"
   ]
  },
  {
   "cell_type": "code",
   "execution_count": null,
   "metadata": {},
   "outputs": [],
   "source": []
  },
  {
   "cell_type": "code",
   "execution_count": 53,
   "metadata": {
    "scrolled": false
   },
   "outputs": [
    {
     "name": "stdout",
     "output_type": "stream",
     "text": [
      "LogisticRegression 0.6973684210526316\n",
      "DecisionTreeClassifier 0.9441591784338896\n",
      "RandomForestClassifier 0.9865211810012837\n",
      "GaussianNB 0.9743260590500642\n"
     ]
    },
    {
     "name": "stderr",
     "output_type": "stream",
     "text": [
      "C:\\Users\\admin\\Anaconda3\\lib\\site-packages\\sklearn\\linear_model\\logistic.py:432: FutureWarning: Default solver will be changed to 'lbfgs' in 0.22. Specify a solver to silence this warning.\n",
      "  FutureWarning)\n"
     ]
    },
    {
     "data": {
      "image/png": "[encoded data removed]",
      "text/plain": [
       "<Figure size 576x576 with 1 Axes>"
      ]
     },
     "metadata": {
      "needs_background": "light"
     },
     "output_type": "display_data"
    }
   ],
   "source": [
    "## 코드 한 번에 ! \n",
    "# 0 : 'setosa' / 1 : 'versicolor' / 2 : 'virginica'\n",
    "CLASS_TYPE = 1 # 0 or 1 or 2\n",
    "X = df[df.columns[:-1] ]\n",
    "Y = df[df.columns[-1] ] == CLASS_TYPE\n",
    "# Y : 참과 거짓 ( 이진 분류 -- 클래스의 케이스는 참 X%, 거짓 y% ) -- 참+거짓 = 1\n",
    "X_train, X_test, y_train, y_test = train_test_split( X, Y, test_size=0.8 )\n",
    "\n",
    "plt.figure( figsize=(8,8) )\n",
    "for key, ( line_style, model ) in class_map.items() : \n",
    "    model.fit( X_train, y_train )\n",
    "    predict = model.predict_proba(X_test)\n",
    "    pred = pd.Series( predict[:, 1] ) \n",
    "    \n",
    "    fpr, tpr, _ = roc_curve( y_test, pred )\n",
    "    plt.plot( fpr, tpr, line_style, label=key )\n",
    "    print( key, auc( fpr,tpr )  )\n",
    "    \n",
    "plt.legend()\n",
    "plt.plot( [0,1], [0,1], 'k--' )\n",
    "plt.xlabel('False Positive Rate')\n",
    "plt.ylabel('True Positive Rate')\n",
    "plt.show()"
   ]
  },
  {
   "cell_type": "code",
   "execution_count": null,
   "metadata": {},
   "outputs": [],
   "source": []
  }
 ],
 "metadata": {
  "kernelspec": {
   "display_name": "Python 3",
   "language": "python",
   "name": "python3"
  },
  "language_info": {
   "codemirror_mode": {
    "name": "ipython",
    "version": 3
   },
   "file_extension": ".py",
   "mimetype": "text/x-python",
   "name": "python",
   "nbconvert_exporter": "python",
   "pygments_lexer": "ipython3",
   "version": "3.7.4"
  }
 },
 "nbformat": 4,
 "nbformat_minor": 2
}
