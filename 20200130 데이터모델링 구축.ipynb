{
 "cells": [
  {
   "cell_type": "markdown",
   "metadata": {},
   "source": [
    "- 알고리즘 선택 (선택 시트를 통해서 결정하나, 여기서는 지정)\n",
    "    - 지도학습 > 분류\n",
    "    - SVM > SVC \n",
    "- 학습\n",
    "    - 데이터 (훈련용, 테스트용)\n",
    "    - 통계적 모델링 : 훈련용, 테스트용\n",
    "    - 머신러닝 모델링 : (훈련용, 검증용), 테스트용\n",
    "- 예측 \n",
    "    - test 데이터 사용\n",
    "- 성능평가 및 최적화(생략)\n",
    "    - 분류 > 평가지표 > 정확도 정도 체크 \n",
    "- 모델 덤프 \n",
    "     - 시스템 통합단계에서 신규서비스에 제공하는 알고리즘 파일 (학습된 모델이 적제된) 제공 "
   ]
  },
  {
   "cell_type": "markdown",
   "metadata": {},
   "source": [
    "## 5-1. 알고리즘 생성"
   ]
  },
  {
   "cell_type": "code",
   "execution_count": 1,
   "metadata": {},
   "outputs": [],
   "source": [
    "from sklearn import svm, metrics "
   ]
  },
  {
   "cell_type": "code",
   "execution_count": null,
   "metadata": {},
   "outputs": [],
   "source": [
    "clf = svm.SVC (gamma='auto')\n",
    "clf"
   ]
  }
 ],
 "metadata": {
  "kernelspec": {
   "display_name": "Python 3",
   "language": "python",
   "name": "python3"
  },
  "language_info": {
   "codemirror_mode": {
    "name": "ipython",
    "version": 3
   },
   "file_extension": ".py",
   "mimetype": "text/x-python",
   "name": "python",
   "nbconvert_exporter": "python",
   "pygments_lexer": "ipython3",
   "version": "3.7.4"
  }
 },
 "nbformat": 4,
 "nbformat_minor": 2
}
