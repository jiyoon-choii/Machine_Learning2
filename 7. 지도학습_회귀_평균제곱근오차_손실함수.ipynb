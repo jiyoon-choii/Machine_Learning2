{
  "nbformat": 4,
  "nbformat_minor": 0,
  "metadata": {
    "colab": {
      "name": "7.지도학습>회귀>평균제곱근오차_손실함수.ipynb",
      "provenance": [],
      "collapsed_sections": []
    },
    "kernelspec": {
      "name": "python3",
      "display_name": "Python 3"
    },
    "widgets": {
      "application/vnd.jupyter.widget-state+json": {
        "beb7430927d04d4499a7d5ec36cc7d35": {
          "model_module": "@jupyter-widgets/controls",
          "model_name": "HBoxModel",
          "state": {
            "_view_name": "HBoxView",
            "_dom_classes": [],
            "_model_name": "HBoxModel",
            "_view_module": "@jupyter-widgets/controls",
            "_model_module_version": "1.5.0",
            "_view_count": null,
            "_view_module_version": "1.5.0",
            "box_style": "",
            "layout": "IPY_MODEL_b7701056a5f04c4490676567083f1573",
            "_model_module": "@jupyter-widgets/controls",
            "children": [
              "IPY_MODEL_23fe5dd070a14084bd0f71348491751f",
              "IPY_MODEL_a72d19bd22b344fc9749fef2905dc147"
            ]
          }
        },
        "b7701056a5f04c4490676567083f1573": {
          "model_module": "@jupyter-widgets/base",
          "model_name": "LayoutModel",
          "state": {
            "_view_name": "LayoutView",
            "grid_template_rows": null,
            "right": null,
            "justify_content": null,
            "_view_module": "@jupyter-widgets/base",
            "overflow": null,
            "_model_module_version": "1.2.0",
            "_view_count": null,
            "flex_flow": null,
            "width": null,
            "min_width": null,
            "border": null,
            "align_items": null,
            "bottom": null,
            "_model_module": "@jupyter-widgets/base",
            "top": null,
            "grid_column": null,
            "overflow_y": null,
            "overflow_x": null,
            "grid_auto_flow": null,
            "grid_area": null,
            "grid_template_columns": null,
            "flex": null,
            "_model_name": "LayoutModel",
            "justify_items": null,
            "grid_row": null,
            "max_height": null,
            "align_content": null,
            "visibility": null,
            "align_self": null,
            "height": null,
            "min_height": null,
            "padding": null,
            "grid_auto_rows": null,
            "grid_gap": null,
            "max_width": null,
            "order": null,
            "_view_module_version": "1.2.0",
            "grid_template_areas": null,
            "object_position": null,
            "object_fit": null,
            "grid_auto_columns": null,
            "margin": null,
            "display": null,
            "left": null
          }
        },
        "23fe5dd070a14084bd0f71348491751f": {
          "model_module": "@jupyter-widgets/controls",
          "model_name": "IntProgressModel",
          "state": {
            "_view_name": "ProgressView",
            "style": "IPY_MODEL_722a1a3f19b3463bb74b7da4f5361d1a",
            "_dom_classes": [],
            "description": "100%",
            "_model_name": "IntProgressModel",
            "bar_style": "success",
            "max": 5,
            "_view_module": "@jupyter-widgets/controls",
            "_model_module_version": "1.5.0",
            "value": 5,
            "_view_count": null,
            "_view_module_version": "1.5.0",
            "orientation": "horizontal",
            "min": 0,
            "description_tooltip": null,
            "_model_module": "@jupyter-widgets/controls",
            "layout": "IPY_MODEL_384a54a8972f4f48ac3a35ee0ad6ad03"
          }
        },
        "a72d19bd22b344fc9749fef2905dc147": {
          "model_module": "@jupyter-widgets/controls",
          "model_name": "HTMLModel",
          "state": {
            "_view_name": "HTMLView",
            "style": "IPY_MODEL_4ef678ae89b74cde90a46089736b60a1",
            "_dom_classes": [],
            "description": "",
            "_model_name": "HTMLModel",
            "placeholder": "​",
            "_view_module": "@jupyter-widgets/controls",
            "_model_module_version": "1.5.0",
            "value": " 5/5 [03:32&lt;00:00, 42.56s/it]",
            "_view_count": null,
            "_view_module_version": "1.5.0",
            "description_tooltip": null,
            "_model_module": "@jupyter-widgets/controls",
            "layout": "IPY_MODEL_c3292614690e4d58b52c21414417915e"
          }
        },
        "722a1a3f19b3463bb74b7da4f5361d1a": {
          "model_module": "@jupyter-widgets/controls",
          "model_name": "ProgressStyleModel",
          "state": {
            "_view_name": "StyleView",
            "_model_name": "ProgressStyleModel",
            "description_width": "initial",
            "_view_module": "@jupyter-widgets/base",
            "_model_module_version": "1.5.0",
            "_view_count": null,
            "_view_module_version": "1.2.0",
            "bar_color": null,
            "_model_module": "@jupyter-widgets/controls"
          }
        },
        "384a54a8972f4f48ac3a35ee0ad6ad03": {
          "model_module": "@jupyter-widgets/base",
          "model_name": "LayoutModel",
          "state": {
            "_view_name": "LayoutView",
            "grid_template_rows": null,
            "right": null,
            "justify_content": null,
            "_view_module": "@jupyter-widgets/base",
            "overflow": null,
            "_model_module_version": "1.2.0",
            "_view_count": null,
            "flex_flow": null,
            "width": null,
            "min_width": null,
            "border": null,
            "align_items": null,
            "bottom": null,
            "_model_module": "@jupyter-widgets/base",
            "top": null,
            "grid_column": null,
            "overflow_y": null,
            "overflow_x": null,
            "grid_auto_flow": null,
            "grid_area": null,
            "grid_template_columns": null,
            "flex": null,
            "_model_name": "LayoutModel",
            "justify_items": null,
            "grid_row": null,
            "max_height": null,
            "align_content": null,
            "visibility": null,
            "align_self": null,
            "height": null,
            "min_height": null,
            "padding": null,
            "grid_auto_rows": null,
            "grid_gap": null,
            "max_width": null,
            "order": null,
            "_view_module_version": "1.2.0",
            "grid_template_areas": null,
            "object_position": null,
            "object_fit": null,
            "grid_auto_columns": null,
            "margin": null,
            "display": null,
            "left": null
          }
        },
        "4ef678ae89b74cde90a46089736b60a1": {
          "model_module": "@jupyter-widgets/controls",
          "model_name": "DescriptionStyleModel",
          "state": {
            "_view_name": "StyleView",
            "_model_name": "DescriptionStyleModel",
            "description_width": "",
            "_view_module": "@jupyter-widgets/base",
            "_model_module_version": "1.5.0",
            "_view_count": null,
            "_view_module_version": "1.2.0",
            "_model_module": "@jupyter-widgets/controls"
          }
        },
        "c3292614690e4d58b52c21414417915e": {
          "model_module": "@jupyter-widgets/base",
          "model_name": "LayoutModel",
          "state": {
            "_view_name": "LayoutView",
            "grid_template_rows": null,
            "right": null,
            "justify_content": null,
            "_view_module": "@jupyter-widgets/base",
            "overflow": null,
            "_model_module_version": "1.2.0",
            "_view_count": null,
            "flex_flow": null,
            "width": null,
            "min_width": null,
            "border": null,
            "align_items": null,
            "bottom": null,
            "_model_module": "@jupyter-widgets/base",
            "top": null,
            "grid_column": null,
            "overflow_y": null,
            "overflow_x": null,
            "grid_auto_flow": null,
            "grid_area": null,
            "grid_template_columns": null,
            "flex": null,
            "_model_name": "LayoutModel",
            "justify_items": null,
            "grid_row": null,
            "max_height": null,
            "align_content": null,
            "visibility": null,
            "align_self": null,
            "height": null,
            "min_height": null,
            "padding": null,
            "grid_auto_rows": null,
            "grid_gap": null,
            "max_width": null,
            "order": null,
            "_view_module_version": "1.2.0",
            "grid_template_areas": null,
            "object_position": null,
            "object_fit": null,
            "grid_auto_columns": null,
            "margin": null,
            "display": null,
            "left": null
          }
        }
      }
    }
  },
  "cells": [
    {
      "cell_type": "markdown",
      "metadata": {
        "id": "3fZRb57Jgiqo",
        "colab_type": "text"
      },
      "source": [
        "# 주제\n",
        "\n",
        "- 영화에 대한 고객들의 평가 데이터를 가지고, 분석, 예측등등 회귀모델을 통해서 구현\n",
        "- 회귀의 평가 지표를 사용\n",
        "- 특성들의 배치와 조합에 따라 지표는 다르게 나올수 있다 => 데이터를 준비하는 과정에 순서, 사용하는 특성 종류등도 영향을 미친다"
      ]
    },
    {
      "cell_type": "code",
      "metadata": {
        "id": "d588MAcA3v0l",
        "colab_type": "code",
        "colab": {}
      },
      "source": [
        "import numpy as np\n",
        "import pandas as pd"
      ],
      "execution_count": 0,
      "outputs": []
    },
    {
      "cell_type": "markdown",
      "metadata": {
        "id": "FVBsV_UqyIOj",
        "colab_type": "text"
      },
      "source": [
        "# 데이터 로드"
      ]
    },
    {
      "cell_type": "markdown",
      "metadata": {
        "id": "jjSMQSLTyKz8",
        "colab_type": "text"
      },
      "source": [
        "## 고객정보로드"
      ]
    },
    {
      "cell_type": "code",
      "metadata": {
        "id": "OpE5ZsmRgIxA",
        "colab_type": "code",
        "outputId": "4d4e056e-513f-449c-c6ae-1ab5581db6cc",
        "colab": {
          "base_uri": "https://localhost:8080/",
          "height": 110
        }
      },
      "source": [
        "# 고객 정보 로드\n",
        "users = pd.read_csv('/content/ml-100k/u.user', sep='|')\n",
        "users.head(2)\n",
        "# 그냥 데이터를 올려보니 1번 데이터가 컬럼으로 올라갔다->누락\n",
        "# 컬럼을 지정하여서 데이터를 읽어야 한다"
      ],
      "execution_count": 0,
      "outputs": [
        {
          "output_type": "execute_result",
          "data": {
            "text/html": [
              "<div>\n",
              "<style scoped>\n",
              "    .dataframe tbody tr th:only-of-type {\n",
              "        vertical-align: middle;\n",
              "    }\n",
              "\n",
              "    .dataframe tbody tr th {\n",
              "        vertical-align: top;\n",
              "    }\n",
              "\n",
              "    .dataframe thead th {\n",
              "        text-align: right;\n",
              "    }\n",
              "</style>\n",
              "<table border=\"1\" class=\"dataframe\">\n",
              "  <thead>\n",
              "    <tr style=\"text-align: right;\">\n",
              "      <th></th>\n",
              "      <th>1</th>\n",
              "      <th>24</th>\n",
              "      <th>M</th>\n",
              "      <th>technician</th>\n",
              "      <th>85711</th>\n",
              "    </tr>\n",
              "  </thead>\n",
              "  <tbody>\n",
              "    <tr>\n",
              "      <th>0</th>\n",
              "      <td>2</td>\n",
              "      <td>53</td>\n",
              "      <td>F</td>\n",
              "      <td>other</td>\n",
              "      <td>94043</td>\n",
              "    </tr>\n",
              "    <tr>\n",
              "      <th>1</th>\n",
              "      <td>3</td>\n",
              "      <td>23</td>\n",
              "      <td>M</td>\n",
              "      <td>writer</td>\n",
              "      <td>32067</td>\n",
              "    </tr>\n",
              "  </tbody>\n",
              "</table>\n",
              "</div>"
            ],
            "text/plain": [
              "   1  24  M technician  85711\n",
              "0  2  53  F      other  94043\n",
              "1  3  23  M     writer  32067"
            ]
          },
          "metadata": {
            "tags": []
          },
          "execution_count": 5
        }
      ]
    },
    {
      "cell_type": "code",
      "metadata": {
        "id": "9x2I1JDLh_e-",
        "colab_type": "code",
        "outputId": "5953e86f-08b2-4a32-82c2-b2267383ea8d",
        "colab": {
          "base_uri": "https://localhost:8080/",
          "height": 35
        }
      },
      "source": [
        "# 컬럼\n",
        "cols = ['uid','age','s','job','zip_code']\n",
        "cols"
      ],
      "execution_count": 0,
      "outputs": [
        {
          "output_type": "execute_result",
          "data": {
            "text/plain": [
              "['uid', 'age', 's', 'job', 'zip_code']"
            ]
          },
          "metadata": {
            "tags": []
          },
          "execution_count": 6
        }
      ]
    },
    {
      "cell_type": "code",
      "metadata": {
        "id": "a6PAoq5hhi2v",
        "colab_type": "code",
        "outputId": "c1151fad-5dff-406d-ed5c-b1cc568bcbb8",
        "colab": {
          "base_uri": "https://localhost:8080/",
          "height": 110
        }
      },
      "source": [
        "# 컬럼명을 지정하여 데이터로드\n",
        "users = pd.read_csv('/content/ml-100k/u.user', sep='|', \n",
        "                    names=cols)\n",
        "users.head(2) "
      ],
      "execution_count": 0,
      "outputs": [
        {
          "output_type": "execute_result",
          "data": {
            "text/html": [
              "<div>\n",
              "<style scoped>\n",
              "    .dataframe tbody tr th:only-of-type {\n",
              "        vertical-align: middle;\n",
              "    }\n",
              "\n",
              "    .dataframe tbody tr th {\n",
              "        vertical-align: top;\n",
              "    }\n",
              "\n",
              "    .dataframe thead th {\n",
              "        text-align: right;\n",
              "    }\n",
              "</style>\n",
              "<table border=\"1\" class=\"dataframe\">\n",
              "  <thead>\n",
              "    <tr style=\"text-align: right;\">\n",
              "      <th></th>\n",
              "      <th>uid</th>\n",
              "      <th>age</th>\n",
              "      <th>s</th>\n",
              "      <th>job</th>\n",
              "      <th>zip_code</th>\n",
              "    </tr>\n",
              "  </thead>\n",
              "  <tbody>\n",
              "    <tr>\n",
              "      <th>0</th>\n",
              "      <td>1</td>\n",
              "      <td>24</td>\n",
              "      <td>M</td>\n",
              "      <td>technician</td>\n",
              "      <td>85711</td>\n",
              "    </tr>\n",
              "    <tr>\n",
              "      <th>1</th>\n",
              "      <td>2</td>\n",
              "      <td>53</td>\n",
              "      <td>F</td>\n",
              "      <td>other</td>\n",
              "      <td>94043</td>\n",
              "    </tr>\n",
              "  </tbody>\n",
              "</table>\n",
              "</div>"
            ],
            "text/plain": [
              "   uid  age  s         job zip_code\n",
              "0    1   24  M  technician    85711\n",
              "1    2   53  F       other    94043"
            ]
          },
          "metadata": {
            "tags": []
          },
          "execution_count": 7
        }
      ]
    },
    {
      "cell_type": "markdown",
      "metadata": {
        "colab_type": "text",
        "id": "4Zhe5brIySsa"
      },
      "source": [
        "## 영화정보로드"
      ]
    },
    {
      "cell_type": "code",
      "metadata": {
        "id": "Tn9P6Rm-wdIN",
        "colab_type": "code",
        "outputId": "153e110f-0842-44fd-9709-78fb013cd069",
        "colab": {
          "base_uri": "https://localhost:8080/",
          "height": 144
        }
      },
      "source": [
        "# 영화 정보 로드\n",
        "cols = ['mid','title','release_date','video_release_date','url']\n",
        "movies = pd.read_csv('/content/ml-100k/u.item', sep='|', \n",
        "          encoding='latin1', names=cols, usecols=range(5))\n",
        "movies.head(2)"
      ],
      "execution_count": 0,
      "outputs": [
        {
          "output_type": "execute_result",
          "data": {
            "text/html": [
              "<div>\n",
              "<style scoped>\n",
              "    .dataframe tbody tr th:only-of-type {\n",
              "        vertical-align: middle;\n",
              "    }\n",
              "\n",
              "    .dataframe tbody tr th {\n",
              "        vertical-align: top;\n",
              "    }\n",
              "\n",
              "    .dataframe thead th {\n",
              "        text-align: right;\n",
              "    }\n",
              "</style>\n",
              "<table border=\"1\" class=\"dataframe\">\n",
              "  <thead>\n",
              "    <tr style=\"text-align: right;\">\n",
              "      <th></th>\n",
              "      <th>mid</th>\n",
              "      <th>title</th>\n",
              "      <th>release_date</th>\n",
              "      <th>video_release_date</th>\n",
              "      <th>url</th>\n",
              "    </tr>\n",
              "  </thead>\n",
              "  <tbody>\n",
              "    <tr>\n",
              "      <th>0</th>\n",
              "      <td>1</td>\n",
              "      <td>Toy Story (1995)</td>\n",
              "      <td>01-Jan-1995</td>\n",
              "      <td>NaN</td>\n",
              "      <td>http://us.imdb.com/M/title-exact?Toy%20Story%2...</td>\n",
              "    </tr>\n",
              "    <tr>\n",
              "      <th>1</th>\n",
              "      <td>2</td>\n",
              "      <td>GoldenEye (1995)</td>\n",
              "      <td>01-Jan-1995</td>\n",
              "      <td>NaN</td>\n",
              "      <td>http://us.imdb.com/M/title-exact?GoldenEye%20(...</td>\n",
              "    </tr>\n",
              "  </tbody>\n",
              "</table>\n",
              "</div>"
            ],
            "text/plain": [
              "   mid  ...                                                url\n",
              "0    1  ...  http://us.imdb.com/M/title-exact?Toy%20Story%2...\n",
              "1    2  ...  http://us.imdb.com/M/title-exact?GoldenEye%20(...\n",
              "\n",
              "[2 rows x 5 columns]"
            ]
          },
          "metadata": {
            "tags": []
          },
          "execution_count": 8
        }
      ]
    },
    {
      "cell_type": "code",
      "metadata": {
        "id": "sDhzpUoBx2il",
        "colab_type": "code",
        "outputId": "e6f0f384-4b23-437c-f53c-5c67219100a2",
        "colab": {
          "base_uri": "https://localhost:8080/",
          "height": 35
        }
      },
      "source": [
        "movies.shape, users.shape"
      ],
      "execution_count": 0,
      "outputs": [
        {
          "output_type": "execute_result",
          "data": {
            "text/plain": [
              "((1682, 5), (943, 5))"
            ]
          },
          "metadata": {
            "tags": []
          },
          "execution_count": 9
        }
      ]
    },
    {
      "cell_type": "markdown",
      "metadata": {
        "colab_type": "text",
        "id": "JVsbevt_yWFy"
      },
      "source": [
        "## 평점정보로드"
      ]
    },
    {
      "cell_type": "code",
      "metadata": {
        "id": "i2FsrN_iiYNg",
        "colab_type": "code",
        "outputId": "a34fe7be-60ce-438f-e918-5484add90eb3",
        "colab": {
          "base_uri": "https://localhost:8080/",
          "height": 110
        }
      },
      "source": [
        "cols = ['uid','mid','rating','date']\n",
        "ratings=pd.read_csv('/content/ml-100k/u.data',sep='\\t',names=cols) \n",
        "ratings.head(2)\n",
        "# 881250949 -> 1970.01.01 00:00:00초부터 현재까지 진행된시간+9시간\n",
        "#              시간형식 => long => yyyyMMdd hhmmss\n",
        "# 881250949 :  -> yyyyMMdd hhmmss : \n",
        "# 시간 정보가 직관적이지 않다 직관적인 시간정보로 변환"
      ],
      "execution_count": 0,
      "outputs": [
        {
          "output_type": "execute_result",
          "data": {
            "text/html": [
              "<div>\n",
              "<style scoped>\n",
              "    .dataframe tbody tr th:only-of-type {\n",
              "        vertical-align: middle;\n",
              "    }\n",
              "\n",
              "    .dataframe tbody tr th {\n",
              "        vertical-align: top;\n",
              "    }\n",
              "\n",
              "    .dataframe thead th {\n",
              "        text-align: right;\n",
              "    }\n",
              "</style>\n",
              "<table border=\"1\" class=\"dataframe\">\n",
              "  <thead>\n",
              "    <tr style=\"text-align: right;\">\n",
              "      <th></th>\n",
              "      <th>uid</th>\n",
              "      <th>mid</th>\n",
              "      <th>rating</th>\n",
              "      <th>date</th>\n",
              "    </tr>\n",
              "  </thead>\n",
              "  <tbody>\n",
              "    <tr>\n",
              "      <th>0</th>\n",
              "      <td>196</td>\n",
              "      <td>242</td>\n",
              "      <td>3</td>\n",
              "      <td>881250949</td>\n",
              "    </tr>\n",
              "    <tr>\n",
              "      <th>1</th>\n",
              "      <td>186</td>\n",
              "      <td>302</td>\n",
              "      <td>3</td>\n",
              "      <td>891717742</td>\n",
              "    </tr>\n",
              "  </tbody>\n",
              "</table>\n",
              "</div>"
            ],
            "text/plain": [
              "   uid  mid  rating       date\n",
              "0  196  242       3  881250949\n",
              "1  186  302       3  891717742"
            ]
          },
          "metadata": {
            "tags": []
          },
          "execution_count": 10
        }
      ]
    },
    {
      "cell_type": "code",
      "metadata": {
        "id": "00QRAfJSyEYE",
        "colab_type": "code",
        "outputId": "56f96264-b821-4d40-946f-6aabcb1a4315",
        "colab": {
          "base_uri": "https://localhost:8080/",
          "height": 110
        }
      },
      "source": [
        "# date 컬럼의 값을 변경하여서 원 구조에 다시 적용\n",
        "ratings['date'] = pd.to_datetime( ratings['date'], unit='s' )\n",
        "ratings.head(2)"
      ],
      "execution_count": 0,
      "outputs": [
        {
          "output_type": "execute_result",
          "data": {
            "text/html": [
              "<div>\n",
              "<style scoped>\n",
              "    .dataframe tbody tr th:only-of-type {\n",
              "        vertical-align: middle;\n",
              "    }\n",
              "\n",
              "    .dataframe tbody tr th {\n",
              "        vertical-align: top;\n",
              "    }\n",
              "\n",
              "    .dataframe thead th {\n",
              "        text-align: right;\n",
              "    }\n",
              "</style>\n",
              "<table border=\"1\" class=\"dataframe\">\n",
              "  <thead>\n",
              "    <tr style=\"text-align: right;\">\n",
              "      <th></th>\n",
              "      <th>uid</th>\n",
              "      <th>mid</th>\n",
              "      <th>rating</th>\n",
              "      <th>date</th>\n",
              "    </tr>\n",
              "  </thead>\n",
              "  <tbody>\n",
              "    <tr>\n",
              "      <th>0</th>\n",
              "      <td>196</td>\n",
              "      <td>242</td>\n",
              "      <td>3</td>\n",
              "      <td>1997-12-04 15:55:49</td>\n",
              "    </tr>\n",
              "    <tr>\n",
              "      <th>1</th>\n",
              "      <td>186</td>\n",
              "      <td>302</td>\n",
              "      <td>3</td>\n",
              "      <td>1998-04-04 19:22:22</td>\n",
              "    </tr>\n",
              "  </tbody>\n",
              "</table>\n",
              "</div>"
            ],
            "text/plain": [
              "   uid  mid  rating                date\n",
              "0  196  242       3 1997-12-04 15:55:49\n",
              "1  186  302       3 1998-04-04 19:22:22"
            ]
          },
          "metadata": {
            "tags": []
          },
          "execution_count": 11
        }
      ]
    },
    {
      "cell_type": "code",
      "metadata": {
        "id": "sC6Dt8UZyEay",
        "colab_type": "code",
        "outputId": "0c34d2b5-5678-458b-a4db-fe0baf8bbbf6",
        "colab": {
          "base_uri": "https://localhost:8080/",
          "height": 35
        }
      },
      "source": [
        "ratings.shape"
      ],
      "execution_count": 0,
      "outputs": [
        {
          "output_type": "execute_result",
          "data": {
            "text/plain": [
              "(100000, 4)"
            ]
          },
          "metadata": {
            "tags": []
          },
          "execution_count": 12
        }
      ]
    },
    {
      "cell_type": "markdown",
      "metadata": {
        "id": "k6TfpYlL1_lj",
        "colab_type": "text"
      },
      "source": [
        "# 데이터 준비, 분석\n",
        "\n",
        "- 품질향상\n",
        "- 시각화\n",
        "- 통찰(일부진행가능)"
      ]
    },
    {
      "cell_type": "markdown",
      "metadata": {
        "id": "cJoN5lle5F9q",
        "colab_type": "text"
      },
      "source": [
        "## 3개의 데이터를 한개의 DF로 병합"
      ]
    },
    {
      "cell_type": "code",
      "metadata": {
        "id": "3jWMcxH5yEdT",
        "colab_type": "code",
        "outputId": "8a179efa-3182-464d-d116-fa2c0bf7ee33",
        "colab": {
          "base_uri": "https://localhost:8080/",
          "height": 134
        }
      },
      "source": [
        "# DataFrame이 1개 이상으로 존재한다 -> 필연적 -> 병합과정\n",
        "# merge, concat등\n",
        "# movies + ratings 순으로 병합\n",
        "movies_ratings = pd.merge(movies ,ratings)\n",
        "movies_ratings.head(1)"
      ],
      "execution_count": 0,
      "outputs": [
        {
          "output_type": "execute_result",
          "data": {
            "text/html": [
              "<div>\n",
              "<style scoped>\n",
              "    .dataframe tbody tr th:only-of-type {\n",
              "        vertical-align: middle;\n",
              "    }\n",
              "\n",
              "    .dataframe tbody tr th {\n",
              "        vertical-align: top;\n",
              "    }\n",
              "\n",
              "    .dataframe thead th {\n",
              "        text-align: right;\n",
              "    }\n",
              "</style>\n",
              "<table border=\"1\" class=\"dataframe\">\n",
              "  <thead>\n",
              "    <tr style=\"text-align: right;\">\n",
              "      <th></th>\n",
              "      <th>mid</th>\n",
              "      <th>title</th>\n",
              "      <th>release_date</th>\n",
              "      <th>video_release_date</th>\n",
              "      <th>url</th>\n",
              "      <th>uid</th>\n",
              "      <th>rating</th>\n",
              "      <th>date</th>\n",
              "    </tr>\n",
              "  </thead>\n",
              "  <tbody>\n",
              "    <tr>\n",
              "      <th>0</th>\n",
              "      <td>1</td>\n",
              "      <td>Toy Story (1995)</td>\n",
              "      <td>01-Jan-1995</td>\n",
              "      <td>NaN</td>\n",
              "      <td>http://us.imdb.com/M/title-exact?Toy%20Story%2...</td>\n",
              "      <td>308</td>\n",
              "      <td>4</td>\n",
              "      <td>1998-02-17 17:28:52</td>\n",
              "    </tr>\n",
              "  </tbody>\n",
              "</table>\n",
              "</div>"
            ],
            "text/plain": [
              "   mid             title release_date  ...  uid rating                date\n",
              "0    1  Toy Story (1995)  01-Jan-1995  ...  308      4 1998-02-17 17:28:52\n",
              "\n",
              "[1 rows x 8 columns]"
            ]
          },
          "metadata": {
            "tags": []
          },
          "execution_count": 13
        }
      ]
    },
    {
      "cell_type": "code",
      "metadata": {
        "id": "rKtl1Dns4G86",
        "colab_type": "code",
        "outputId": "0c8be3ec-768d-49f1-ac19-f42c9371b1e3",
        "colab": {
          "base_uri": "https://localhost:8080/",
          "height": 35
        }
      },
      "source": [
        "# 평점 데이터를 기준으로 병합 완성\n",
        "movies_ratings.shape"
      ],
      "execution_count": 0,
      "outputs": [
        {
          "output_type": "execute_result",
          "data": {
            "text/plain": [
              "(100000, 8)"
            ]
          },
          "metadata": {
            "tags": []
          },
          "execution_count": 14
        }
      ]
    },
    {
      "cell_type": "code",
      "metadata": {
        "id": "UtWZ84qh4Rm4",
        "colab_type": "code",
        "outputId": "38407266-d8f9-4b9e-d561-71165d6b1f3b",
        "colab": {
          "base_uri": "https://localhost:8080/",
          "height": 134
        }
      },
      "source": [
        "movies_ratings_users = pd.merge(movies_ratings, users)\n",
        "movies_ratings_users.head(1)"
      ],
      "execution_count": 0,
      "outputs": [
        {
          "output_type": "execute_result",
          "data": {
            "text/html": [
              "<div>\n",
              "<style scoped>\n",
              "    .dataframe tbody tr th:only-of-type {\n",
              "        vertical-align: middle;\n",
              "    }\n",
              "\n",
              "    .dataframe tbody tr th {\n",
              "        vertical-align: top;\n",
              "    }\n",
              "\n",
              "    .dataframe thead th {\n",
              "        text-align: right;\n",
              "    }\n",
              "</style>\n",
              "<table border=\"1\" class=\"dataframe\">\n",
              "  <thead>\n",
              "    <tr style=\"text-align: right;\">\n",
              "      <th></th>\n",
              "      <th>mid</th>\n",
              "      <th>title</th>\n",
              "      <th>release_date</th>\n",
              "      <th>video_release_date</th>\n",
              "      <th>url</th>\n",
              "      <th>uid</th>\n",
              "      <th>rating</th>\n",
              "      <th>date</th>\n",
              "      <th>age</th>\n",
              "      <th>s</th>\n",
              "      <th>job</th>\n",
              "      <th>zip_code</th>\n",
              "    </tr>\n",
              "  </thead>\n",
              "  <tbody>\n",
              "    <tr>\n",
              "      <th>0</th>\n",
              "      <td>1</td>\n",
              "      <td>Toy Story (1995)</td>\n",
              "      <td>01-Jan-1995</td>\n",
              "      <td>NaN</td>\n",
              "      <td>http://us.imdb.com/M/title-exact?Toy%20Story%2...</td>\n",
              "      <td>308</td>\n",
              "      <td>4</td>\n",
              "      <td>1998-02-17 17:28:52</td>\n",
              "      <td>60</td>\n",
              "      <td>M</td>\n",
              "      <td>retired</td>\n",
              "      <td>95076</td>\n",
              "    </tr>\n",
              "  </tbody>\n",
              "</table>\n",
              "</div>"
            ],
            "text/plain": [
              "   mid             title release_date  ...  s      job  zip_code\n",
              "0    1  Toy Story (1995)  01-Jan-1995  ...  M  retired     95076\n",
              "\n",
              "[1 rows x 12 columns]"
            ]
          },
          "metadata": {
            "tags": []
          },
          "execution_count": 15
        }
      ]
    },
    {
      "cell_type": "code",
      "metadata": {
        "id": "VZXvrWU14026",
        "colab_type": "code",
        "outputId": "3fb7e34d-d6d1-472a-9238-621d8182a315",
        "colab": {
          "base_uri": "https://localhost:8080/",
          "height": 35
        }
      },
      "source": [
        "movies_ratings_users.shape"
      ],
      "execution_count": 0,
      "outputs": [
        {
          "output_type": "execute_result",
          "data": {
            "text/plain": [
              "(100000, 12)"
            ]
          },
          "metadata": {
            "tags": []
          },
          "execution_count": 16
        }
      ]
    },
    {
      "cell_type": "markdown",
      "metadata": {
        "id": "KZ9GQ3gw5T3j",
        "colab_type": "text"
      },
      "source": [
        "## 데이터 살펴보기\n",
        "\n",
        "- 특성, 성향등의 데이터의 특징을 확인"
      ]
    },
    {
      "cell_type": "code",
      "metadata": {
        "id": "cQTFo2-M-g28",
        "colab_type": "code",
        "colab": {}
      },
      "source": [
        "movie_datas = movies_ratings_users[:]"
      ],
      "execution_count": 0,
      "outputs": []
    },
    {
      "cell_type": "code",
      "metadata": {
        "id": "3K8Cfql34384",
        "colab_type": "code",
        "outputId": "9c4a3bfb-5c29-496e-b7ca-0126abd22997",
        "colab": {
          "base_uri": "https://localhost:8080/",
          "height": 212
        }
      },
      "source": [
        "# 평가를 가장 많이 받은 작품 상위 10개\n",
        "# 작품별, 평가수를 구해라 -> 내림차순 정렬 -> 상위 10\n",
        "# value_counts() 값의 빈도를 계산해서, 정렬(기본값), 내림차순(기본값)\n",
        "movie_datas.title.value_counts()[:10]"
      ],
      "execution_count": 0,
      "outputs": [
        {
          "output_type": "execute_result",
          "data": {
            "text/plain": [
              "Star Wars (1977)                 583\n",
              "Contact (1997)                   509\n",
              "Fargo (1996)                     508\n",
              "Return of the Jedi (1983)        507\n",
              "Liar Liar (1997)                 485\n",
              "English Patient, The (1996)      481\n",
              "Scream (1996)                    478\n",
              "Toy Story (1995)                 452\n",
              "Air Force One (1997)             431\n",
              "Independence Day (ID4) (1996)    429\n",
              "Name: title, dtype: int64"
            ]
          },
          "metadata": {
            "tags": []
          },
          "execution_count": 18
        }
      ]
    },
    {
      "cell_type": "code",
      "metadata": {
        "id": "8m_sEvlS-soE",
        "colab_type": "code",
        "outputId": "59340d76-78ca-4390-a915-caac57a76edc",
        "colab": {
          "base_uri": "https://localhost:8080/",
          "height": 35
        }
      },
      "source": [
        "tmp = movie_datas.title.value_counts()[-5:]\n",
        "type(tmp)"
      ],
      "execution_count": 0,
      "outputs": [
        {
          "output_type": "execute_result",
          "data": {
            "text/plain": [
              "pandas.core.series.Series"
            ]
          },
          "metadata": {
            "tags": []
          },
          "execution_count": 19
        }
      ]
    },
    {
      "cell_type": "code",
      "metadata": {
        "id": "-qdmX6CZ_0Wj",
        "colab_type": "code",
        "outputId": "fd165fae-81dc-4a54-883b-709a4e2daf22",
        "colab": {
          "base_uri": "https://localhost:8080/",
          "height": 123
        }
      },
      "source": [
        "tmp"
      ],
      "execution_count": 0,
      "outputs": [
        {
          "output_type": "execute_result",
          "data": {
            "text/plain": [
              "Scream of Stone (Schrei aus Stein) (1991)    1\n",
              "Paris Was a Woman (1995)                     1\n",
              "King of New York (1990)                      1\n",
              "Angel on My Shoulder (1946)                  1\n",
              "To Cross the Rubicon (1991)                  1\n",
              "Name: title, dtype: int64"
            ]
          },
          "metadata": {
            "tags": []
          },
          "execution_count": 20
        }
      ]
    },
    {
      "cell_type": "code",
      "metadata": {
        "id": "_PFd65Rq_Vh2",
        "colab_type": "code",
        "outputId": "1b0aa927-59d7-4b8b-9c81-74d62e1cbee8",
        "colab": {
          "base_uri": "https://localhost:8080/",
          "height": 35
        }
      },
      "source": [
        "# 조건         : 평가 개수가 1개인 영화만\n",
        "# 결과 or 수행 : 모아라\n",
        "# 조건식\n",
        "tmp = movie_datas.title.value_counts()\n",
        "#res = tmp[  tmp <= 10  ]\n",
        "res = tmp[  tmp == 1  ]\n",
        "\n",
        "# 전체 데이터중에 평점이 1개만 존재하는 영화의 비율\n",
        "res.shape[0]/movies.shape[0]*100\n",
        "# 통찰 => 평점은 특정 평가 개수 이상 존재할 경우만 인정 (검토)\n",
        "# 임계값 설정 => 평점 개수 몇개 이상!!"
      ],
      "execution_count": 0,
      "outputs": [
        {
          "output_type": "execute_result",
          "data": {
            "text/plain": [
              "7.966706302021404"
            ]
          },
          "metadata": {
            "tags": []
          },
          "execution_count": 21
        }
      ]
    },
    {
      "cell_type": "code",
      "metadata": {
        "id": "XFDlXBzzBod3",
        "colab_type": "code",
        "outputId": "9a72e2de-8c82-445e-fc80-63baad2a461a",
        "colab": {
          "base_uri": "https://localhost:8080/",
          "height": 172
        }
      },
      "source": [
        "# 제목 기준으로 데이터를 배치, 평가의 개수, 평균평점 2개를 feature로 \n",
        "# 가지는 데이터 프레임을 생성하시오\n",
        "# 인덱스 : 영화제목, 컬럼:평가개수, 평균평점\n",
        "# rating : 1차 레벨 컬럼\n",
        "# [np.size, np.mean] : 2차 레벨 컬럼\n",
        "movie_state = movie_datas.groupby('title').agg( { \n",
        "                'rating':[np.size, np.mean] } )\n",
        "movie_state.head(2)"
      ],
      "execution_count": 0,
      "outputs": [
        {
          "output_type": "execute_result",
          "data": {
            "text/html": [
              "<div>\n",
              "<style scoped>\n",
              "    .dataframe tbody tr th:only-of-type {\n",
              "        vertical-align: middle;\n",
              "    }\n",
              "\n",
              "    .dataframe tbody tr th {\n",
              "        vertical-align: top;\n",
              "    }\n",
              "\n",
              "    .dataframe thead tr th {\n",
              "        text-align: left;\n",
              "    }\n",
              "\n",
              "    .dataframe thead tr:last-of-type th {\n",
              "        text-align: right;\n",
              "    }\n",
              "</style>\n",
              "<table border=\"1\" class=\"dataframe\">\n",
              "  <thead>\n",
              "    <tr>\n",
              "      <th></th>\n",
              "      <th colspan=\"2\" halign=\"left\">rating</th>\n",
              "    </tr>\n",
              "    <tr>\n",
              "      <th></th>\n",
              "      <th>size</th>\n",
              "      <th>mean</th>\n",
              "    </tr>\n",
              "    <tr>\n",
              "      <th>title</th>\n",
              "      <th></th>\n",
              "      <th></th>\n",
              "    </tr>\n",
              "  </thead>\n",
              "  <tbody>\n",
              "    <tr>\n",
              "      <th>'Til There Was You (1997)</th>\n",
              "      <td>9</td>\n",
              "      <td>2.333333</td>\n",
              "    </tr>\n",
              "    <tr>\n",
              "      <th>1-900 (1994)</th>\n",
              "      <td>5</td>\n",
              "      <td>2.600000</td>\n",
              "    </tr>\n",
              "  </tbody>\n",
              "</table>\n",
              "</div>"
            ],
            "text/plain": [
              "                          rating          \n",
              "                            size      mean\n",
              "title                                     \n",
              "'Til There Was You (1997)      9  2.333333\n",
              "1-900 (1994)                   5  2.600000"
            ]
          },
          "metadata": {
            "tags": []
          },
          "execution_count": 22
        }
      ]
    },
    {
      "cell_type": "code",
      "metadata": {
        "id": "U2_JfaKCE3cV",
        "colab_type": "code",
        "outputId": "698707b1-634b-4460-85dd-dfdd259a3ebc",
        "colab": {
          "base_uri": "https://localhost:8080/",
          "height": 35
        }
      },
      "source": [
        "# 영화 원본 데이터 대비, 평가수가 0개인 데이터는 누락되었을수도 있다\n",
        "movie_state.shape, movies.shape"
      ],
      "execution_count": 0,
      "outputs": [
        {
          "output_type": "execute_result",
          "data": {
            "text/plain": [
              "((1664, 2), (1682, 5))"
            ]
          },
          "metadata": {
            "tags": []
          },
          "execution_count": 23
        }
      ]
    },
    {
      "cell_type": "code",
      "metadata": {
        "id": "mGNJd8VXHZUj",
        "colab_type": "code",
        "outputId": "45c8060f-880c-460e-f3a8-97170cad3482",
        "colab": {
          "base_uri": "https://localhost:8080/",
          "height": 88
        }
      },
      "source": [
        "movie_state.rating['size'][:2]"
      ],
      "execution_count": 0,
      "outputs": [
        {
          "output_type": "execute_result",
          "data": {
            "text/plain": [
              "title\n",
              "'Til There Was You (1997)    9\n",
              "1-900 (1994)                 5\n",
              "Name: size, dtype: int64"
            ]
          },
          "metadata": {
            "tags": []
          },
          "execution_count": 24
        }
      ]
    },
    {
      "cell_type": "code",
      "metadata": {
        "id": "4NfBsuLNFtVt",
        "colab_type": "code",
        "colab": {}
      },
      "source": [
        "# 이런 영화들 중에 평가가 100개이상만 모아라 \n",
        "movies_100_over = movie_state[ movie_state['rating']['size'] >=100 ]"
      ],
      "execution_count": 0,
      "outputs": []
    },
    {
      "cell_type": "code",
      "metadata": {
        "id": "AxhuvxExHk9n",
        "colab_type": "code",
        "outputId": "2ca91f43-4578-4b75-9a11-9dfcd48035f8",
        "colab": {
          "base_uri": "https://localhost:8080/",
          "height": 172
        }
      },
      "source": [
        "# 평가 개수가 100개인 데이터만 모아서, 평점 기준 정렬\n",
        "tmp = movies_100_over.sort_values( by=[ ('rating','mean') ],\n",
        "                                  ascending=False )\n",
        "tmp.head(2)"
      ],
      "execution_count": 0,
      "outputs": [
        {
          "output_type": "execute_result",
          "data": {
            "text/html": [
              "<div>\n",
              "<style scoped>\n",
              "    .dataframe tbody tr th:only-of-type {\n",
              "        vertical-align: middle;\n",
              "    }\n",
              "\n",
              "    .dataframe tbody tr th {\n",
              "        vertical-align: top;\n",
              "    }\n",
              "\n",
              "    .dataframe thead tr th {\n",
              "        text-align: left;\n",
              "    }\n",
              "\n",
              "    .dataframe thead tr:last-of-type th {\n",
              "        text-align: right;\n",
              "    }\n",
              "</style>\n",
              "<table border=\"1\" class=\"dataframe\">\n",
              "  <thead>\n",
              "    <tr>\n",
              "      <th></th>\n",
              "      <th colspan=\"2\" halign=\"left\">rating</th>\n",
              "    </tr>\n",
              "    <tr>\n",
              "      <th></th>\n",
              "      <th>size</th>\n",
              "      <th>mean</th>\n",
              "    </tr>\n",
              "    <tr>\n",
              "      <th>title</th>\n",
              "      <th></th>\n",
              "      <th></th>\n",
              "    </tr>\n",
              "  </thead>\n",
              "  <tbody>\n",
              "    <tr>\n",
              "      <th>Close Shave, A (1995)</th>\n",
              "      <td>112</td>\n",
              "      <td>4.491071</td>\n",
              "    </tr>\n",
              "    <tr>\n",
              "      <th>Schindler's List (1993)</th>\n",
              "      <td>298</td>\n",
              "      <td>4.466443</td>\n",
              "    </tr>\n",
              "  </tbody>\n",
              "</table>\n",
              "</div>"
            ],
            "text/plain": [
              "                        rating          \n",
              "                          size      mean\n",
              "title                                   \n",
              "Close Shave, A (1995)      112  4.491071\n",
              "Schindler's List (1993)    298  4.466443"
            ]
          },
          "metadata": {
            "tags": []
          },
          "execution_count": 26
        }
      ]
    },
    {
      "cell_type": "code",
      "metadata": {
        "id": "ZuxR7u2WH0Yl",
        "colab_type": "code",
        "outputId": "e533ed4f-3cff-4553-d3d2-424f64cef1e5",
        "colab": {
          "base_uri": "https://localhost:8080/",
          "height": 172
        }
      },
      "source": [
        "tmp.tail(2)"
      ],
      "execution_count": 0,
      "outputs": [
        {
          "output_type": "execute_result",
          "data": {
            "text/html": [
              "<div>\n",
              "<style scoped>\n",
              "    .dataframe tbody tr th:only-of-type {\n",
              "        vertical-align: middle;\n",
              "    }\n",
              "\n",
              "    .dataframe tbody tr th {\n",
              "        vertical-align: top;\n",
              "    }\n",
              "\n",
              "    .dataframe thead tr th {\n",
              "        text-align: left;\n",
              "    }\n",
              "\n",
              "    .dataframe thead tr:last-of-type th {\n",
              "        text-align: right;\n",
              "    }\n",
              "</style>\n",
              "<table border=\"1\" class=\"dataframe\">\n",
              "  <thead>\n",
              "    <tr>\n",
              "      <th></th>\n",
              "      <th colspan=\"2\" halign=\"left\">rating</th>\n",
              "    </tr>\n",
              "    <tr>\n",
              "      <th></th>\n",
              "      <th>size</th>\n",
              "      <th>mean</th>\n",
              "    </tr>\n",
              "    <tr>\n",
              "      <th>title</th>\n",
              "      <th></th>\n",
              "      <th></th>\n",
              "    </tr>\n",
              "  </thead>\n",
              "  <tbody>\n",
              "    <tr>\n",
              "      <th>Jungle2Jungle (1997)</th>\n",
              "      <td>132</td>\n",
              "      <td>2.439394</td>\n",
              "    </tr>\n",
              "    <tr>\n",
              "      <th>Cable Guy, The (1996)</th>\n",
              "      <td>106</td>\n",
              "      <td>2.339623</td>\n",
              "    </tr>\n",
              "  </tbody>\n",
              "</table>\n",
              "</div>"
            ],
            "text/plain": [
              "                      rating          \n",
              "                        size      mean\n",
              "title                                 \n",
              "Jungle2Jungle (1997)     132  2.439394\n",
              "Cable Guy, The (1996)    106  2.339623"
            ]
          },
          "metadata": {
            "tags": []
          },
          "execution_count": 27
        }
      ]
    },
    {
      "cell_type": "code",
      "metadata": {
        "id": "paUdq5u9IA-F",
        "colab_type": "code",
        "outputId": "4a3509a1-0657-4820-908f-2feb06c0db37",
        "colab": {
          "base_uri": "https://localhost:8080/",
          "height": 141
        }
      },
      "source": [
        "# 회원이 평가를 얼마나 했는가 기준점으로 확인\n",
        "# 사용자별 평가 횟수\n",
        "tmp = movie_datas.groupby('uid').size()\n",
        "tmp[:5]"
      ],
      "execution_count": 0,
      "outputs": [
        {
          "output_type": "execute_result",
          "data": {
            "text/plain": [
              "uid\n",
              "1    272\n",
              "2     62\n",
              "3     54\n",
              "4     24\n",
              "5    175\n",
              "dtype: int64"
            ]
          },
          "metadata": {
            "tags": []
          },
          "execution_count": 28
        }
      ]
    },
    {
      "cell_type": "code",
      "metadata": {
        "id": "oxe5SzpfLRiX",
        "colab_type": "code",
        "colab": {}
      },
      "source": [
        "from matplotlib import pyplot as plt"
      ],
      "execution_count": 0,
      "outputs": []
    },
    {
      "cell_type": "code",
      "metadata": {
        "id": "3jC1MS0EMeAv",
        "colab_type": "code",
        "outputId": "6356b3ca-917a-442b-eb18-445b5e5887ef",
        "colab": {
          "base_uri": "https://localhost:8080/",
          "height": 88
        }
      },
      "source": [
        "tmp.sort_values( ascending=False ).head(2)"
      ],
      "execution_count": 0,
      "outputs": [
        {
          "output_type": "execute_result",
          "data": {
            "text/plain": [
              "uid\n",
              "405    737\n",
              "655    685\n",
              "dtype: int64"
            ]
          },
          "metadata": {
            "tags": []
          },
          "execution_count": 30
        }
      ]
    },
    {
      "cell_type": "code",
      "metadata": {
        "id": "UdcbFjw_LRlG",
        "colab_type": "code",
        "outputId": "ac924dca-dd90-4b08-dba4-38a1c62ae245",
        "colab": {
          "base_uri": "https://localhost:8080/",
          "height": 283
        }
      },
      "source": [
        "plt.style.use('ggplot')\n",
        "tmp.sort_values( ascending=False ).hist()\n",
        "# \"지프의 법칙\"을따르는 데이터 굴곡 모양이다. 롱테일분포\n",
        "# 영화의 평가 개수가 많으면 많을수록 1개만 평가한 데이터도 많아진다"
      ],
      "execution_count": 0,
      "outputs": [
        {
          "output_type": "execute_result",
          "data": {
            "text/plain": [
              "<matplotlib.axes._subplots.AxesSubplot at 0x7f8057eca940>"
            ]
          },
          "metadata": {
            "tags": []
          },
          "execution_count": 31
        },
        {
          "output_type": "display_data",
          "data": {
            "image/png": "[encoded data removed]",
            "text/plain": [
              "<Figure size 432x288 with 1 Axes>"
            ]
          },
          "metadata": {
            "tags": []
          }
        }
      ]
    },
    {
      "cell_type": "code",
      "metadata": {
        "id": "J82re4MRLRn-",
        "colab_type": "code",
        "outputId": "9d11a45d-e03b-4626-87de-5d1da74b7375",
        "colab": {
          "base_uri": "https://localhost:8080/",
          "height": 419
        }
      },
      "source": [
        "# 사용자별 평가 회수, 평균\n",
        "user_state = movie_datas.groupby('uid').agg({'rating':[np.size, np.mean]})\n",
        "user_state.head(10)"
      ],
      "execution_count": 0,
      "outputs": [
        {
          "output_type": "execute_result",
          "data": {
            "text/html": [
              "<div>\n",
              "<style scoped>\n",
              "    .dataframe tbody tr th:only-of-type {\n",
              "        vertical-align: middle;\n",
              "    }\n",
              "\n",
              "    .dataframe tbody tr th {\n",
              "        vertical-align: top;\n",
              "    }\n",
              "\n",
              "    .dataframe thead tr th {\n",
              "        text-align: left;\n",
              "    }\n",
              "\n",
              "    .dataframe thead tr:last-of-type th {\n",
              "        text-align: right;\n",
              "    }\n",
              "</style>\n",
              "<table border=\"1\" class=\"dataframe\">\n",
              "  <thead>\n",
              "    <tr>\n",
              "      <th></th>\n",
              "      <th colspan=\"2\" halign=\"left\">rating</th>\n",
              "    </tr>\n",
              "    <tr>\n",
              "      <th></th>\n",
              "      <th>size</th>\n",
              "      <th>mean</th>\n",
              "    </tr>\n",
              "    <tr>\n",
              "      <th>uid</th>\n",
              "      <th></th>\n",
              "      <th></th>\n",
              "    </tr>\n",
              "  </thead>\n",
              "  <tbody>\n",
              "    <tr>\n",
              "      <th>1</th>\n",
              "      <td>272</td>\n",
              "      <td>3.610294</td>\n",
              "    </tr>\n",
              "    <tr>\n",
              "      <th>2</th>\n",
              "      <td>62</td>\n",
              "      <td>3.709677</td>\n",
              "    </tr>\n",
              "    <tr>\n",
              "      <th>3</th>\n",
              "      <td>54</td>\n",
              "      <td>2.796296</td>\n",
              "    </tr>\n",
              "    <tr>\n",
              "      <th>4</th>\n",
              "      <td>24</td>\n",
              "      <td>4.333333</td>\n",
              "    </tr>\n",
              "    <tr>\n",
              "      <th>5</th>\n",
              "      <td>175</td>\n",
              "      <td>2.874286</td>\n",
              "    </tr>\n",
              "    <tr>\n",
              "      <th>6</th>\n",
              "      <td>211</td>\n",
              "      <td>3.635071</td>\n",
              "    </tr>\n",
              "    <tr>\n",
              "      <th>7</th>\n",
              "      <td>403</td>\n",
              "      <td>3.965261</td>\n",
              "    </tr>\n",
              "    <tr>\n",
              "      <th>8</th>\n",
              "      <td>59</td>\n",
              "      <td>3.796610</td>\n",
              "    </tr>\n",
              "    <tr>\n",
              "      <th>9</th>\n",
              "      <td>22</td>\n",
              "      <td>4.272727</td>\n",
              "    </tr>\n",
              "    <tr>\n",
              "      <th>10</th>\n",
              "      <td>184</td>\n",
              "      <td>4.206522</td>\n",
              "    </tr>\n",
              "  </tbody>\n",
              "</table>\n",
              "</div>"
            ],
            "text/plain": [
              "    rating          \n",
              "      size      mean\n",
              "uid                 \n",
              "1      272  3.610294\n",
              "2       62  3.709677\n",
              "3       54  2.796296\n",
              "4       24  4.333333\n",
              "5      175  2.874286\n",
              "6      211  3.635071\n",
              "7      403  3.965261\n",
              "8       59  3.796610\n",
              "9       22  4.272727\n",
              "10     184  4.206522"
            ]
          },
          "metadata": {
            "tags": []
          },
          "execution_count": 32
        }
      ]
    },
    {
      "cell_type": "code",
      "metadata": {
        "id": "sSw9huIJLRqm",
        "colab_type": "code",
        "outputId": "213194ea-d1e3-4e5b-e02d-58f76f85aa99",
        "colab": {
          "base_uri": "https://localhost:8080/",
          "height": 295
        }
      },
      "source": [
        "user_state.rating.describe()\n",
        "# 최저,최고 점수는 편중되어 있는것으로 보인다"
      ],
      "execution_count": 0,
      "outputs": [
        {
          "output_type": "execute_result",
          "data": {
            "text/html": [
              "<div>\n",
              "<style scoped>\n",
              "    .dataframe tbody tr th:only-of-type {\n",
              "        vertical-align: middle;\n",
              "    }\n",
              "\n",
              "    .dataframe tbody tr th {\n",
              "        vertical-align: top;\n",
              "    }\n",
              "\n",
              "    .dataframe thead th {\n",
              "        text-align: right;\n",
              "    }\n",
              "</style>\n",
              "<table border=\"1\" class=\"dataframe\">\n",
              "  <thead>\n",
              "    <tr style=\"text-align: right;\">\n",
              "      <th></th>\n",
              "      <th>size</th>\n",
              "      <th>mean</th>\n",
              "    </tr>\n",
              "  </thead>\n",
              "  <tbody>\n",
              "    <tr>\n",
              "      <th>count</th>\n",
              "      <td>943.000000</td>\n",
              "      <td>943.000000</td>\n",
              "    </tr>\n",
              "    <tr>\n",
              "      <th>mean</th>\n",
              "      <td>106.044539</td>\n",
              "      <td>3.588191</td>\n",
              "    </tr>\n",
              "    <tr>\n",
              "      <th>std</th>\n",
              "      <td>100.931743</td>\n",
              "      <td>0.445233</td>\n",
              "    </tr>\n",
              "    <tr>\n",
              "      <th>min</th>\n",
              "      <td>20.000000</td>\n",
              "      <td>1.491954</td>\n",
              "    </tr>\n",
              "    <tr>\n",
              "      <th>25%</th>\n",
              "      <td>33.000000</td>\n",
              "      <td>3.323054</td>\n",
              "    </tr>\n",
              "    <tr>\n",
              "      <th>50%</th>\n",
              "      <td>65.000000</td>\n",
              "      <td>3.620690</td>\n",
              "    </tr>\n",
              "    <tr>\n",
              "      <th>75%</th>\n",
              "      <td>148.000000</td>\n",
              "      <td>3.869565</td>\n",
              "    </tr>\n",
              "    <tr>\n",
              "      <th>max</th>\n",
              "      <td>737.000000</td>\n",
              "      <td>4.869565</td>\n",
              "    </tr>\n",
              "  </tbody>\n",
              "</table>\n",
              "</div>"
            ],
            "text/plain": [
              "             size        mean\n",
              "count  943.000000  943.000000\n",
              "mean   106.044539    3.588191\n",
              "std    100.931743    0.445233\n",
              "min     20.000000    1.491954\n",
              "25%     33.000000    3.323054\n",
              "50%     65.000000    3.620690\n",
              "75%    148.000000    3.869565\n",
              "max    737.000000    4.869565"
            ]
          },
          "metadata": {
            "tags": []
          },
          "execution_count": 33
        }
      ]
    },
    {
      "cell_type": "markdown",
      "metadata": {
        "id": "iHCy5uEJN_FG",
        "colab_type": "text"
      },
      "source": [
        "# 데이터 모델링\n",
        "\n",
        "- libFM을 python으로 wapping한 fastFM 제품\n",
        "사용\n",
        "- fastFM은 리눅스(우분트 추천), 맥에서 설치가 가능"
      ]
    },
    {
      "cell_type": "code",
      "metadata": {
        "id": "74IH9hMiQnuA",
        "colab_type": "code",
        "outputId": "424f573d-8aa6-47c2-c965-553850ee1ef4",
        "colab": {
          "base_uri": "https://localhost:8080/",
          "height": 214
        }
      },
      "source": [
        "! pip install fastFM"
      ],
      "execution_count": 0,
      "outputs": [
        {
          "output_type": "stream",
          "text": [
            "Collecting fastFM\n",
            "\u001b[?25l  Downloading https://files.pythonhosted.org/packages/f5/15/fdbb9b9455efa48ffb07b9880a1e567e0c7a7de0acc4aa7f1c5ba9ce4f2c/fastFM-0.2.11-cp36-cp36m-manylinux1_x86_64.whl (483kB)\n",
            "\r\u001b[K     |▊                               | 10kB 13.3MB/s eta 0:00:01\r\u001b[K     |█▍                              | 20kB 1.8MB/s eta 0:00:01\r\u001b[K     |██                              | 30kB 2.4MB/s eta 0:00:01\r\u001b[K     |██▊                             | 40kB 1.7MB/s eta 0:00:01\r\u001b[K     |███▍                            | 51kB 1.9MB/s eta 0:00:01\r\u001b[K     |████                            | 61kB 2.3MB/s eta 0:00:01\r\u001b[K     |████▊                           | 71kB 2.5MB/s eta 0:00:01\r\u001b[K     |█████▍                          | 81kB 2.7MB/s eta 0:00:01\r\u001b[K     |██████                          | 92kB 3.0MB/s eta 0:00:01\r\u001b[K     |██████▊                         | 102kB 2.8MB/s eta 0:00:01\r\u001b[K     |███████▌                        | 112kB 2.8MB/s eta 0:00:01\r\u001b[K     |████████▏                       | 122kB 2.8MB/s eta 0:00:01\r\u001b[K     |████████▉                       | 133kB 2.8MB/s eta 0:00:01\r\u001b[K     |█████████▌                      | 143kB 2.8MB/s eta 0:00:01\r\u001b[K     |██████████▏                     | 153kB 2.8MB/s eta 0:00:01\r\u001b[K     |██████████▉                     | 163kB 2.8MB/s eta 0:00:01\r\u001b[K     |███████████▌                    | 174kB 2.8MB/s eta 0:00:01\r\u001b[K     |████████████▏                   | 184kB 2.8MB/s eta 0:00:01\r\u001b[K     |████████████▉                   | 194kB 2.8MB/s eta 0:00:01\r\u001b[K     |█████████████▌                  | 204kB 2.8MB/s eta 0:00:01\r\u001b[K     |██████████████▎                 | 215kB 2.8MB/s eta 0:00:01\r\u001b[K     |███████████████                 | 225kB 2.8MB/s eta 0:00:01\r\u001b[K     |███████████████▋                | 235kB 2.8MB/s eta 0:00:01\r\u001b[K     |████████████████▎               | 245kB 2.8MB/s eta 0:00:01\r\u001b[K     |█████████████████               | 256kB 2.8MB/s eta 0:00:01\r\u001b[K     |█████████████████▋              | 266kB 2.8MB/s eta 0:00:01\r\u001b[K     |██████████████████▎             | 276kB 2.8MB/s eta 0:00:01\r\u001b[K     |███████████████████             | 286kB 2.8MB/s eta 0:00:01\r\u001b[K     |███████████████████▋            | 296kB 2.8MB/s eta 0:00:01\r\u001b[K     |████████████████████▎           | 307kB 2.8MB/s eta 0:00:01\r\u001b[K     |█████████████████████           | 317kB 2.8MB/s eta 0:00:01\r\u001b[K     |█████████████████████▊          | 327kB 2.8MB/s eta 0:00:01\r\u001b[K     |██████████████████████▍         | 337kB 2.8MB/s eta 0:00:01\r\u001b[K     |███████████████████████         | 348kB 2.8MB/s eta 0:00:01\r\u001b[K     |███████████████████████▊        | 358kB 2.8MB/s eta 0:00:01\r\u001b[K     |████████████████████████▍       | 368kB 2.8MB/s eta 0:00:01\r\u001b[K     |█████████████████████████       | 378kB 2.8MB/s eta 0:00:01\r\u001b[K     |█████████████████████████▊      | 389kB 2.8MB/s eta 0:00:01\r\u001b[K     |██████████████████████████▍     | 399kB 2.8MB/s eta 0:00:01\r\u001b[K     |███████████████████████████     | 409kB 2.8MB/s eta 0:00:01\r\u001b[K     |███████████████████████████▊    | 419kB 2.8MB/s eta 0:00:01\r\u001b[K     |████████████████████████████▌   | 430kB 2.8MB/s eta 0:00:01\r\u001b[K     |█████████████████████████████▏  | 440kB 2.8MB/s eta 0:00:01\r\u001b[K     |█████████████████████████████▉  | 450kB 2.8MB/s eta 0:00:01\r\u001b[K     |██████████████████████████████▌ | 460kB 2.8MB/s eta 0:00:01\r\u001b[K     |███████████████████████████████▏| 471kB 2.8MB/s eta 0:00:01\r\u001b[K     |███████████████████████████████▉| 481kB 2.8MB/s eta 0:00:01\r\u001b[K     |████████████████████████████████| 491kB 2.8MB/s \n",
            "\u001b[?25hRequirement already satisfied: numpy in /usr/local/lib/python3.6/dist-packages (from fastFM) (1.18.2)\n",
            "Requirement already satisfied: cython in /usr/local/lib/python3.6/dist-packages (from fastFM) (0.29.15)\n",
            "Requirement already satisfied: scipy in /usr/local/lib/python3.6/dist-packages (from fastFM) (1.4.1)\n",
            "Requirement already satisfied: scikit-learn in /usr/local/lib/python3.6/dist-packages (from fastFM) (0.22.2.post1)\n",
            "Requirement already satisfied: joblib>=0.11 in /usr/local/lib/python3.6/dist-packages (from scikit-learn->fastFM) (0.14.1)\n",
            "Installing collected packages: fastFM\n",
            "Successfully installed fastFM-0.2.11\n"
          ],
          "name": "stdout"
        }
      ]
    },
    {
      "cell_type": "markdown",
      "metadata": {
        "id": "-55wgiRJOcUY",
        "colab_type": "text"
      },
      "source": [
        "## fastFM\n",
        "\n",
        "- 설치\n",
        "  - ! pip install fastFM\n",
        "\n",
        "- 알고리즘을 만들고 싶다 -> 1~2~3년 (연구기관, 대기업등 진행) -> 논문\n",
        "  - 언어 : C / C++등 랭귀지 + 수학적 증명\n",
        "  - 파이썬 래핑 : Cython 사용가능\n",
        "  - 파이썬 라이브러리 제작\n",
        "\n",
        "- 사용이유\n",
        "  - 특성 사이의 영향을 주고 받는 상호 작용 개념을 계산에 적용하여 처리할수 있다(조합, 순서등도 성능을 개선하는데 관여된다)\n",
        "  - 범주형 변수를 더미(파생)변수로 변환하여 범주간 상호작용성도 계산에 사용할수 있다\n",
        "  - 회귀, 분류\n",
        "  - 행렬 인수 분해 머신기능을 탑재하고 있다\n",
        "\n",
        "- 제공 알고리즘\n",
        "  - ALS  : 교대 최소 제곱법\n",
        "    - 장점 : 예측 시간 빠름. 파라미터수 적다 \n",
        "    - 단점 : 규제하면서 학습처리\n",
        "  - SGD  : 확률적 경사 하강법\n",
        "    - 장점 : 예측 시간 빠름, 대규모 데이터를 빠르게 학습할수 있다\n",
        "    - 단점 : 규제, 하이퍼라라미터가 많다\n",
        "  - MCMC : 마로코프 연쇄 몬테카롤로\n",
        "    - 장점 : 하이퍼파라미터 작다 \n",
        "    - 단점 : 학습 속도 느리다\n"
      ]
    },
    {
      "cell_type": "markdown",
      "metadata": {
        "id": "0xWZdLLVQ8bH",
        "colab_type": "text"
      },
      "source": [
        "## 가상데이터를 이용하여 기능 확인"
      ]
    },
    {
      "cell_type": "code",
      "metadata": {
        "id": "bop1JeN9LRtn",
        "colab_type": "code",
        "colab": {}
      },
      "source": [
        "from sklearn.feature_extraction import DictVectorizer\n",
        "import numpy as np"
      ],
      "execution_count": 0,
      "outputs": []
    },
    {
      "cell_type": "code",
      "metadata": {
        "id": "Zb47dinVN-cZ",
        "colab_type": "code",
        "colab": {}
      },
      "source": [
        "from fastFM import als\n",
        "from sklearn.model_selection import learning_curve"
      ],
      "execution_count": 0,
      "outputs": []
    },
    {
      "cell_type": "code",
      "metadata": {
        "id": "qu-qDEuyN-e1",
        "colab_type": "code",
        "colab": {}
      },
      "source": [
        "# DictVectorizer => 문자열을 백터화 \n",
        "v = DictVectorizer()"
      ],
      "execution_count": 0,
      "outputs": []
    },
    {
      "cell_type": "code",
      "metadata": {
        "id": "jDHf8utEN-hj",
        "colab_type": "code",
        "outputId": "9d4923b4-e402-4ea6-84cb-6d7fbbeecfcc",
        "colab": {
          "base_uri": "https://localhost:8080/",
          "height": 88
        }
      },
      "source": [
        "train = [\n",
        "  { 'user':'1', 'item':'5',  'age':19 },\n",
        "  { 'user':'2', 'item':'43', 'age':33 },\n",
        "  { 'user':'3', 'item':'20', 'age':55 },\n",
        "  { 'user':'4', 'item':'10', 'age':20 }\n",
        "]\n",
        "train"
      ],
      "execution_count": 0,
      "outputs": [
        {
          "output_type": "execute_result",
          "data": {
            "text/plain": [
              "[{'age': 19, 'item': '5', 'user': '1'},\n",
              " {'age': 33, 'item': '43', 'user': '2'},\n",
              " {'age': 55, 'item': '20', 'user': '3'},\n",
              " {'age': 20, 'item': '10', 'user': '4'}]"
            ]
          },
          "metadata": {
            "tags": []
          },
          "execution_count": 38
        }
      ]
    },
    {
      "cell_type": "code",
      "metadata": {
        "id": "9_Q4ZW-CRgHx",
        "colab_type": "code",
        "outputId": "df986e46-9fff-4b65-93b5-60c9ae82c0e7",
        "colab": {
          "base_uri": "https://localhost:8080/",
          "height": 88
        }
      },
      "source": [
        "# 데이터를 백터화하여 수치로 표현\n",
        "X = v.fit_transform( train )\n",
        "# 수치는 그대로 둔다\n",
        "# 문자열을 범주형 변수로 취급되어, 총 케이스수만큼 컬럼이 생성,\n",
        "# 0으로 채운뒤에 독립된값에 1으로 부여식으로 데이터가 변환, \n",
        "# 순서는 중요하지않다\n",
        "X.toarray()"
      ],
      "execution_count": 0,
      "outputs": [
        {
          "output_type": "execute_result",
          "data": {
            "text/plain": [
              "array([[19.,  0.,  0.,  0.,  1.,  1.,  0.,  0.,  0.],\n",
              "       [33.,  0.,  0.,  1.,  0.,  0.,  1.,  0.,  0.],\n",
              "       [55.,  0.,  1.,  0.,  0.,  0.,  0.,  1.,  0.],\n",
              "       [20.,  1.,  0.,  0.,  0.,  0.,  0.,  0.,  1.]])"
            ]
          },
          "metadata": {
            "tags": []
          },
          "execution_count": 39
        }
      ]
    },
    {
      "cell_type": "code",
      "metadata": {
        "id": "3gv82STNRgKW",
        "colab_type": "code",
        "colab": {}
      },
      "source": [
        "# y 제공 => 평점\n",
        "# user1은 5.0부여, user2는 1.0부여, user3은 2.0을 부여...\n",
        "y = np.array( [ 5.0, 1.0, 2.0, 4.0 ] )"
      ],
      "execution_count": 0,
      "outputs": []
    },
    {
      "cell_type": "code",
      "metadata": {
        "id": "OziO4LANTy1J",
        "colab_type": "code",
        "colab": {}
      },
      "source": [
        "# 알고리즘 생성\n",
        "fm = als.FMRegression( n_iter=1000, init_stdev=0.1, rank=2\n",
        "                 ,l2_reg_w=0.1, l2_reg_V=0.5)"
      ],
      "execution_count": 0,
      "outputs": []
    },
    {
      "cell_type": "code",
      "metadata": {
        "id": "3b_ebmUeUYJh",
        "colab_type": "code",
        "outputId": "743784cd-a9dd-4f02-cc0b-0e39d4a9760b",
        "colab": {
          "base_uri": "https://localhost:8080/",
          "height": 52
        }
      },
      "source": [
        "# 훈련\n",
        "fm.fit(X, y)"
      ],
      "execution_count": 0,
      "outputs": [
        {
          "output_type": "execute_result",
          "data": {
            "text/plain": [
              "FMRegression(init_stdev=0.1, l2_reg=0, l2_reg_V=0.5, l2_reg_w=0.1, n_iter=1000,\n",
              "             random_state=123, rank=2)"
            ]
          },
          "metadata": {
            "tags": []
          },
          "execution_count": 42
        }
      ]
    },
    {
      "cell_type": "code",
      "metadata": {
        "id": "quA72-QZRgNA",
        "colab_type": "code",
        "outputId": "e74bbfb1-a901-4f0f-df75-c3ac71133375",
        "colab": {
          "base_uri": "https://localhost:8080/",
          "height": 35
        }
      },
      "source": [
        "# 예측 ; 나이가 24살인데 아이템 10번을 보고 평점을 몇점줄까?\n",
        "data = {'user':'5', 'item':'10', 'age':24}\n",
        "fm.predict( v.transform(data) )"
      ],
      "execution_count": 0,
      "outputs": [
        {
          "output_type": "execute_result",
          "data": {
            "text/plain": [
              "array([3.60775939])"
            ]
          },
          "metadata": {
            "tags": []
          },
          "execution_count": 43
        }
      ]
    },
    {
      "cell_type": "markdown",
      "metadata": {
        "id": "iuZJmq5BL762",
        "colab_type": "text"
      },
      "source": [
        "## 학습에 필요한 데이터 준비 \n",
        "\n",
        "- ua.base (훈련용), ua.test (테스트용)"
      ]
    },
    {
      "cell_type": "code",
      "metadata": {
        "id": "-97EIizxRgPm",
        "colab_type": "code",
        "colab": {}
      },
      "source": [
        "# ua.base\n",
        "# uid, mid, rating, ts 이렇게 구성되어 있다\n",
        "# 데이터 => [ {'uid':'1', 'mid':'100'}, .... ]\n",
        "# 레이블 => [ 1.0, 3.0, 5.0,... ] => [ 1.0 3.0 5.0 ... ]\n",
        "# 이렇게 결과물이 나오도록 함수 or 구현하시오"
      ],
      "execution_count": 0,
      "outputs": []
    },
    {
      "cell_type": "code",
      "metadata": {
        "colab_type": "code",
        "outputId": "fd608f15-83b9-4f66-d7bc-668650d67c05",
        "id": "-NhrMjlWYpbP",
        "colab": {
          "base_uri": "https://localhost:8080/",
          "height": 35
        }
      },
      "source": [
        "def loadData( filename, dir='/content/ml-100k' ):\n",
        "  data  = list()\n",
        "  array = list()    \n",
        "  with open( f'{dir}/{filename}' ) as f:    \n",
        "    for line in f:      \n",
        "      uid, mid, rating, _ = line.split('\\t')      \n",
        "      data.append( {'uid':uid, 'mid':mid } )\n",
        "      array.append( float(rating) )\n",
        "      break\n",
        "      pass\n",
        "    pass\n",
        "  return ( data, np.array(array) )\n",
        "loadData( 'ua.base' ) # ua.test"
      ],
      "execution_count": 0,
      "outputs": [
        {
          "output_type": "execute_result",
          "data": {
            "text/plain": [
              "([{'mid': '1', 'uid': '1'}], array([5.]))"
            ]
          },
          "metadata": {
            "tags": []
          },
          "execution_count": 45
        }
      ]
    },
    {
      "cell_type": "code",
      "metadata": {
        "colab_type": "code",
        "outputId": "e1877a34-70fb-4372-dc96-086289e7edcf",
        "id": "8g_RKsDuWa8d",
        "colab": {
          "base_uri": "https://localhost:8080/",
          "height": 52
        }
      },
      "source": [
        "def loadData( filename, dir='/content/ml-100k' ):\n",
        "  data  = list()\n",
        "  array = list()  \n",
        "  # 파일을 읽어서(한줄씩) => 바로 원하는 형태로 처리\n",
        "  with open( f'{dir}/{filename}' ) as f:\n",
        "    # 한줄씩 읽는다 \n",
        "    for line in f:\n",
        "      #print( line.split('\\t') )\n",
        "      # 데이터 추출\n",
        "      uid, mid, rating, _ = line.split('\\t')\n",
        "      # 데이터를 모양에 맞춰서 추가\n",
        "      print( type(uid), type(mid)  )\n",
        "      #data.append( {'uid':'1', 'mid':'100'} )\n",
        "      data.append( {'uid':uid, 'mid':mid } )\n",
        "      break\n",
        "      pass\n",
        "    pass\n",
        "\n",
        "  return ( data, np.array(array) )\n",
        "loadData( 'ua.base' ) # ua.test"
      ],
      "execution_count": 0,
      "outputs": [
        {
          "output_type": "stream",
          "text": [
            "<class 'str'> <class 'str'>\n"
          ],
          "name": "stdout"
        },
        {
          "output_type": "execute_result",
          "data": {
            "text/plain": [
              "([{'mid': '1', 'uid': '1'}], array([], dtype=float64))"
            ]
          },
          "metadata": {
            "tags": []
          },
          "execution_count": 46
        }
      ]
    },
    {
      "cell_type": "code",
      "metadata": {
        "colab_type": "code",
        "outputId": "b41d27b6-21e3-430e-cc49-4d6b7999cbcb",
        "id": "5UvJUni0WEeP",
        "colab": {
          "base_uri": "https://localhost:8080/",
          "height": 35
        }
      },
      "source": [
        "def loadData( filename, dir='/content/ml-100k' ):\n",
        "  data  = list()\n",
        "  array = list()  \n",
        "  \n",
        "  return ( data, np.array(array) )\n",
        "loadData( 'ua.base' ) # ua.test"
      ],
      "execution_count": 0,
      "outputs": [
        {
          "output_type": "execute_result",
          "data": {
            "text/plain": [
              "([], array([], dtype=float64))"
            ]
          },
          "metadata": {
            "tags": []
          },
          "execution_count": 47
        }
      ]
    },
    {
      "cell_type": "code",
      "metadata": {
        "colab_type": "code",
        "id": "hM-GKf9tVMuO",
        "outputId": "5249d50c-3136-488b-8c61-100e5689d4b7",
        "colab": {
          "base_uri": "https://localhost:8080/",
          "height": 35
        }
      },
      "source": [
        "def loadData( filename, dir='/content/ml-100k' ):\n",
        "  data  = [ {'uid':'1', 'mid':'100'} ]\n",
        "  array = np.array( [ 1.0, 3.0, 5.0 ] )\n",
        "  \n",
        "  return ( data, array )\n",
        "loadData( 'ua.base' ) # ua.test"
      ],
      "execution_count": 0,
      "outputs": [
        {
          "output_type": "execute_result",
          "data": {
            "text/plain": [
              "([{'mid': '100', 'uid': '1'}], array([1., 3., 5.]))"
            ]
          },
          "metadata": {
            "tags": []
          },
          "execution_count": 48
        }
      ]
    },
    {
      "cell_type": "code",
      "metadata": {
        "id": "p1hiNtnmLSlE",
        "colab_type": "code",
        "colab": {}
      },
      "source": [
        "def loadData( filename, dir='/content/ml-100k' ):\n",
        "  pass\n",
        "loadData( 'ua.base' ) # ua.test"
      ],
      "execution_count": 0,
      "outputs": []
    },
    {
      "cell_type": "markdown",
      "metadata": {
        "id": "C-sBj8E1Zk5B",
        "colab_type": "text"
      },
      "source": [
        "### 데이터 로드"
      ]
    },
    {
      "cell_type": "code",
      "metadata": {
        "colab_type": "code",
        "id": "2A9GflVJZFOV",
        "colab": {}
      },
      "source": [
        "def loadData( filename, dir='/content/ml-100k' ):\n",
        "  data  = list()\n",
        "  array = list() \n",
        "  users  = set()   \n",
        "  movies = set()\n",
        "  with open( f'{dir}/{filename}' ) as f:\n",
        "    print( f'{dir}/{filename}' ) \n",
        "    for line in f:      \n",
        "      uid, mid, rating, _ = line.split('\\t')      \n",
        "      data.append( {'uid':str(uid), 'mid':str(mid) } )\n",
        "      array.append( float(rating) )    \n",
        "      users.add(  uid )  \n",
        "      movies.add( mid )  \n",
        "  print( len(users), len(movies) )\n",
        "  return ( data, np.array(array) )\n",
        "#loadData( 'ua.base' ) # ua.test"
      ],
      "execution_count": 0,
      "outputs": []
    },
    {
      "cell_type": "code",
      "metadata": {
        "id": "qfFh1W6tLSnZ",
        "colab_type": "code",
        "outputId": "c68b2a54-65dd-494c-f4d7-6169ea63c61e",
        "colab": {
          "base_uri": "https://localhost:8080/",
          "height": 88
        }
      },
      "source": [
        "X_train, y_train = loadData( 'ua.base' )# 훈련용\n",
        "X_test,  y_test  = loadData( 'ua.test' )# 테스트용"
      ],
      "execution_count": 0,
      "outputs": [
        {
          "output_type": "stream",
          "text": [
            "/content/ml-100k/ua.base\n",
            "943 1680\n",
            "/content/ml-100k/ua.test\n",
            "943 1129\n"
          ],
          "name": "stdout"
        }
      ]
    },
    {
      "cell_type": "code",
      "metadata": {
        "id": "-y0OffRdZ6UK",
        "colab_type": "code",
        "outputId": "bf436a7f-434e-479a-9e76-1e0bd2f9e26b",
        "colab": {
          "base_uri": "https://localhost:8080/",
          "height": 35
        }
      },
      "source": [
        "# 훈련용 데이터의 크기\n",
        "len(X_train), y_train.shape"
      ],
      "execution_count": 0,
      "outputs": [
        {
          "output_type": "execute_result",
          "data": {
            "text/plain": [
              "(90570, (90570,))"
            ]
          },
          "metadata": {
            "tags": []
          },
          "execution_count": 52
        }
      ]
    },
    {
      "cell_type": "code",
      "metadata": {
        "id": "_xck8tzNZ-HC",
        "colab_type": "code",
        "outputId": "8264daba-3c7c-4909-b769-b5ef4b05ab86",
        "colab": {
          "base_uri": "https://localhost:8080/",
          "height": 35
        }
      },
      "source": [
        "# 테스트용 데이터의 크기\n",
        "len(X_test), y_test.shape"
      ],
      "execution_count": 0,
      "outputs": [
        {
          "output_type": "execute_result",
          "data": {
            "text/plain": [
              "(9430, (9430,))"
            ]
          },
          "metadata": {
            "tags": []
          },
          "execution_count": 53
        }
      ]
    },
    {
      "cell_type": "code",
      "metadata": {
        "id": "Skk03KdCLSp2",
        "colab_type": "code",
        "colab": {}
      },
      "source": [
        "# 훈련용 데이터의 백터화\n",
        "v = DictVectorizer()"
      ],
      "execution_count": 0,
      "outputs": []
    },
    {
      "cell_type": "code",
      "metadata": {
        "id": "rKitR5FOLSsb",
        "colab_type": "code",
        "outputId": "aabf8470-01fb-4a0c-836b-7c9121bfe32d",
        "colab": {
          "base_uri": "https://localhost:8080/",
          "height": 35
        }
      },
      "source": [
        "X_train_v = v.fit_transform( X_train )\n",
        "X_train_v.shape, type(X_train_v)"
      ],
      "execution_count": 0,
      "outputs": [
        {
          "output_type": "execute_result",
          "data": {
            "text/plain": [
              "((90570, 2623), scipy.sparse.csr.csr_matrix)"
            ]
          },
          "metadata": {
            "tags": []
          },
          "execution_count": 55
        }
      ]
    },
    {
      "cell_type": "code",
      "metadata": {
        "id": "Wx6vM5LaN-kO",
        "colab_type": "code",
        "outputId": "dc8a258a-0421-44cc-9f55-f2f51479e8d7",
        "colab": {
          "base_uri": "https://localhost:8080/",
          "height": 141
        }
      },
      "source": [
        "# 값확인\n",
        "X_train_v.toarray()"
      ],
      "execution_count": 0,
      "outputs": [
        {
          "output_type": "execute_result",
          "data": {
            "text/plain": [
              "array([[1., 0., 0., ..., 0., 0., 0.],\n",
              "       [0., 0., 0., ..., 0., 0., 0.],\n",
              "       [0., 0., 0., ..., 0., 0., 0.],\n",
              "       ...,\n",
              "       [0., 0., 0., ..., 0., 0., 0.],\n",
              "       [0., 0., 0., ..., 0., 0., 0.],\n",
              "       [0., 0., 0., ..., 0., 0., 0.]])"
            ]
          },
          "metadata": {
            "tags": []
          },
          "execution_count": 56
        }
      ]
    },
    {
      "cell_type": "code",
      "metadata": {
        "id": "tRurQ4Vmar-2",
        "colab_type": "code",
        "outputId": "16d956b9-cbd9-49c8-9271-f46a904fb336",
        "colab": {
          "base_uri": "https://localhost:8080/",
          "height": 35
        }
      },
      "source": [
        "X_test_v = v.transform( X_test )\n",
        "X_test_v.shape, type(X_test_v)"
      ],
      "execution_count": 0,
      "outputs": [
        {
          "output_type": "execute_result",
          "data": {
            "text/plain": [
              "((9430, 2623), scipy.sparse.csr.csr_matrix)"
            ]
          },
          "metadata": {
            "tags": []
          },
          "execution_count": 57
        }
      ]
    },
    {
      "cell_type": "code",
      "metadata": {
        "id": "HGHJUy3-bI7O",
        "colab_type": "code",
        "outputId": "05c58855-aa28-4ab3-e7dd-5e4b06090947",
        "colab": {
          "base_uri": "https://localhost:8080/",
          "height": 141
        }
      },
      "source": [
        "X_test_v.toarray()"
      ],
      "execution_count": 0,
      "outputs": [
        {
          "output_type": "execute_result",
          "data": {
            "text/plain": [
              "array([[0., 0., 0., ..., 0., 0., 0.],\n",
              "       [0., 0., 0., ..., 0., 0., 0.],\n",
              "       [0., 0., 0., ..., 0., 0., 0.],\n",
              "       ...,\n",
              "       [0., 0., 0., ..., 0., 0., 0.],\n",
              "       [0., 0., 0., ..., 0., 0., 0.],\n",
              "       [0., 0., 0., ..., 0., 0., 0.]])"
            ]
          },
          "metadata": {
            "tags": []
          },
          "execution_count": 58
        }
      ]
    },
    {
      "cell_type": "code",
      "metadata": {
        "id": "UrX9bLJqcAWL",
        "colab_type": "code",
        "colab": {}
      },
      "source": [
        "from sklearn.model_selection import train_test_split"
      ],
      "execution_count": 0,
      "outputs": []
    },
    {
      "cell_type": "code",
      "metadata": {
        "id": "sYc7oCNHbLZs",
        "colab_type": "code",
        "colab": {}
      },
      "source": [
        "# 사용 데이터는 \n",
        "# X_train, y_train  => 훈련용으로 사용 => split 처리 9:1로 나눠라\n",
        "# X_test, y_test    => 예측으로 사용\n",
        "X_train_dev, X_test_dev, y_train_dev, y_test_dev = train_test_split(\n",
        "  X_train_v, y_train, test_size=0.1, random_state=1 )"
      ],
      "execution_count": 0,
      "outputs": []
    },
    {
      "cell_type": "code",
      "metadata": {
        "id": "MQNJyFVCcXlz",
        "colab_type": "code",
        "outputId": "cbeee541-4625-4225-deda-1682e4523ed7",
        "colab": {
          "base_uri": "https://localhost:8080/",
          "height": 35
        }
      },
      "source": [
        "X_train_dev.shape, X_test_dev.shape"
      ],
      "execution_count": 0,
      "outputs": [
        {
          "output_type": "execute_result",
          "data": {
            "text/plain": [
              "((81513, 2623), (9057, 2623))"
            ]
          },
          "metadata": {
            "tags": []
          },
          "execution_count": 61
        }
      ]
    },
    {
      "cell_type": "markdown",
      "metadata": {
        "id": "dLmDF-RadjQZ",
        "colab_type": "text"
      },
      "source": [
        "## 훈련 및 예측,평가\n",
        "\n",
        "- MCMC\n",
        "  - 학습와 예측을 동시에 수행\n",
        "  - 실시간 적이면 SGD로 교체가 적합\n",
        "  - 파라미터 값들과, 평균제곱근오차값을 저장하여서\n",
        "  - 값들이 어떻게 수렴해가는지 시각화 하여\n",
        "  - 최적위치를 찾는다"
      ]
    },
    {
      "cell_type": "code",
      "metadata": {
        "id": "FAwBSigUeNjR",
        "colab_type": "code",
        "colab": {}
      },
      "source": [
        "# MSE : 평균제곱근오차 함수 -> 회귀모델에서 평가지표중 한개\n",
        "from sklearn.metrics import mean_squared_error\n",
        "from fastFM import mcmc"
      ],
      "execution_count": 0,
      "outputs": []
    },
    {
      "cell_type": "code",
      "metadata": {
        "id": "FtfgYdWCeNl2",
        "colab_type": "code",
        "colab": {}
      },
      "source": [
        "# 1. 임계값, 하이퍼파라미터 설정(시작값, 기본값) <- 실험치를 미리 설정\n",
        "n_tier = 300 # 300회 반복\n",
        "rank   = 4   # 하이퍼파라미터가 rank*2배로 증가된다 => 고정크기(3) + 2*rank\n",
        "seed   = 123 # 난수의 시드(설정값), 시드가 고정되면 셔플 or 학습시 사용되는\n",
        "             # 난수가 일정하게 나온다 => 시간에 관계없이 동일한 결과를 산출\n",
        "             # 난수를 변경하면, 반복학습시 데이터도 변경되게 할수 있다\n",
        "             # 고정된 데이터에서 다양성을 확보할수 있다\n",
        "step_size = 1 "
      ],
      "execution_count": 0,
      "outputs": []
    },
    {
      "cell_type": "code",
      "metadata": {
        "id": "rR68_uC3eNoK",
        "colab_type": "code",
        "colab": {}
      },
      "source": [
        "# 2. 알고리즘 생성\n",
        "fm = mcmc.FMRegression( n_iter=0, rank=rank, random_state=seed )"
      ],
      "execution_count": 0,
      "outputs": []
    },
    {
      "cell_type": "code",
      "metadata": {
        "id": "vCN1iHOkeNqd",
        "colab_type": "code",
        "outputId": "ed85b8a9-2442-44be-a4bd-4b986dd640e0",
        "colab": {
          "base_uri": "https://localhost:8080/",
          "height": 35
        }
      },
      "source": [
        "# 3. 학습 및 예측\n",
        "fm.fit_predict( X_train_dev, y_train_dev, X_test_dev )"
      ],
      "execution_count": 0,
      "outputs": [
        {
          "output_type": "execute_result",
          "data": {
            "text/plain": [
              "array([0., 0., 0., ..., 0., 0., 0.])"
            ]
          },
          "metadata": {
            "tags": []
          },
          "execution_count": 65
        }
      ]
    },
    {
      "cell_type": "code",
      "metadata": {
        "id": "xmRWybtOeNtS",
        "colab_type": "code",
        "outputId": "04b64e24-32de-4108-99ff-27631f94fd95",
        "colab": {
          "base_uri": "https://localhost:8080/",
          "height": 35
        }
      },
      "source": [
        "# 4. 결과치를 담는 자료구조 준비\n",
        "# 손실값 = np.sqrt(mean_squared_error()) <- 평가지표 \n",
        "rmse_test = list()\n",
        "# 하이퍼파라미터 => 배열 => 초기값은 0\n",
        "hyper_params = np.zeros( ( n_tier-1, 3 + 2*rank ), dtype=np.float64 )\n",
        "hyper_params.shape"
      ],
      "execution_count": 0,
      "outputs": [
        {
          "output_type": "execute_result",
          "data": {
            "text/plain": [
              "(299, 11)"
            ]
          },
          "metadata": {
            "tags": []
          },
          "execution_count": 66
        }
      ]
    },
    {
      "cell_type": "code",
      "metadata": {
        "id": "oJbS9m_slIWC",
        "colab_type": "code",
        "outputId": "f601982d-1095-45f3-dac7-b7278f4b968a",
        "colab": {
          "base_uri": "https://localhost:8080/",
          "height": 35
        }
      },
      "source": [
        "hyper_params[ 1, : ]"
      ],
      "execution_count": 0,
      "outputs": [
        {
          "output_type": "execute_result",
          "data": {
            "text/plain": [
              "array([0., 0., 0., 0., 0., 0., 0., 0., 0., 0., 0.])"
            ]
          },
          "metadata": {
            "tags": []
          },
          "execution_count": 67
        }
      ]
    },
    {
      "cell_type": "code",
      "metadata": {
        "id": "XqbAme5Dcb80",
        "colab_type": "code",
        "colab": {}
      },
      "source": [
        "# 5. n차번 수행하면서 예측 성능과, 하이퍼파라미타 수치를 저장한다\n",
        "# 인덱스와 횟수값은 별도로 관리\n",
        "for nr, i in enumerate( range(1, n_tier) ):\n",
        "  # 난수 seed 조정 -> 학습및 예측시 다양성을 확보 -> 반복학습시 동일 데이터로 \n",
        "  # 수행하는것은 의미가 없다 -> 새로운 데이터를 계속 넗어주는것이 좋다\n",
        "  # 데이터가 한정되어 있다면 => 난수를 변경해서 조합을 변경\n",
        "  fm.random_state = i*seed\n",
        "  # 학습 및 예측시, 재료 데이터의 다양성을 확보를 위해서\n",
        "  # 난수 조정, n_more_iter 조정으로 데이터의 다양성을 추구하여\n",
        "  # 항상 다른 종류의 데이터의 조합으로 학습 및 예측하겠끔 유도\n",
        "  y_pred = fm.fit_predict( X_train_dev, y_train_dev, X_test_dev, n_more_iter=step_size )\n",
        "\n",
        "  #if nr >=n_tier-3 or nr <3:\n",
        "  #  print( nr, i )\n",
        "  # hyper_prams에 파라미터 값들을 추가\n",
        "  # hyper_pram_의 0:alpha\n",
        "  # hyper_pram_의 1:lambda_w\n",
        "  # hyper_pram_의 2:mu_w\n",
        "  hyper_params[ nr, : ] = fm.hyper_param_ # [ 0.00,.... 0.88 ], (11, )\n",
        "\n",
        "  # rmse_test에 값을추가\n",
        "  rmse_test.append( np.sqrt(mean_squared_error( y_test_dev, y_pred ))  )\n",
        "\n",
        "  pass"
      ],
      "execution_count": 0,
      "outputs": []
    },
    {
      "cell_type": "code",
      "metadata": {
        "id": "psSR666De9zU",
        "colab_type": "code",
        "outputId": "e9b2406e-a299-44f3-a025-287a617b541d",
        "colab": {
          "base_uri": "https://localhost:8080/",
          "height": 283
        }
      },
      "source": [
        "# 6. 결과치를 시각화하여 데이터가 수렴하는 위치를 확인\n",
        "#    수렴한다 => 더 학습해봤자 성능의 변화가 없다\n",
        "#    성능측정\n",
        "print( rmse_test[:3] )\n",
        "print( rmse_test[-3:] )\n",
        "hyper_params"
      ],
      "execution_count": 0,
      "outputs": [
        {
          "output_type": "stream",
          "text": [
            "[1.0903823431654234, 1.027947004302106, 0.9933800024434438]\n",
            "[0.9000229214638701, 0.900025197036791, 0.9000369431083455]\n"
          ],
          "name": "stdout"
        },
        {
          "output_type": "execute_result",
          "data": {
            "text/plain": [
              "array([[ 7.29292800e-02,  1.01534507e+02,  1.09545845e+02, ...,\n",
              "        -2.64130136e-04, -1.52355401e-03, -1.94369678e-03],\n",
              "       [ 8.35497824e-01,  1.00278433e+02,  1.05939544e+02, ...,\n",
              "         6.28138927e-04, -3.12135855e-03, -2.99232272e-03],\n",
              "       [ 1.02494514e+00,  3.24570210e+01,  1.01951796e+02, ...,\n",
              "         1.27080652e-03, -1.32877068e-03, -3.35263753e-03],\n",
              "       ...,\n",
              "       [ 1.41638525e+00,  4.91848800e+00,  4.97154059e+00, ...,\n",
              "        -2.17290801e-01, -2.71712799e-01,  2.54019926e-02],\n",
              "       [ 1.40886403e+00,  5.34817422e+00,  5.17369837e+00, ...,\n",
              "        -2.37462635e-01, -2.58964363e-01,  1.22845995e-02],\n",
              "       [ 1.41244668e+00,  5.18638625e+00,  5.57384567e+00, ...,\n",
              "        -2.03260641e-01, -2.61840059e-01,  1.12872868e-02]])"
            ]
          },
          "metadata": {
            "tags": []
          },
          "execution_count": 69
        }
      ]
    },
    {
      "cell_type": "code",
      "metadata": {
        "id": "uGAF-xXd8Bw8",
        "colab_type": "code",
        "outputId": "bf6ec6a6-1f7b-4715-bc7b-f447ef6a8904",
        "colab": {
          "base_uri": "https://localhost:8080/",
          "height": 35
        }
      },
      "source": [
        "x = np.arange( 1, n_tier )\n",
        "x[:2], x[-2:], len(rmse_test), len(x)"
      ],
      "execution_count": 0,
      "outputs": [
        {
          "output_type": "execute_result",
          "data": {
            "text/plain": [
              "(array([1, 2]), array([298, 299]), 299, 299)"
            ]
          },
          "metadata": {
            "tags": []
          },
          "execution_count": 70
        }
      ]
    },
    {
      "cell_type": "code",
      "metadata": {
        "id": "O7X1XH4U66XQ",
        "colab_type": "code",
        "outputId": "9bd9fb49-e0f0-43f3-884a-009a60b30d97",
        "colab": {
          "base_uri": "https://localhost:8080/",
          "height": 520
        }
      },
      "source": [
        "# 결과 데이터를 시각화 처리\n",
        "# 2x2로 차트 배치 (선형)\n",
        "# rmse, alpha, lambda_w, mu_w를  시각화\n",
        "from matplotlib import pyplot as plt\n",
        "# 차트 외관, 2x2, x축 공유, 가로가 길게\n",
        "fig, axes = plt.subplots( nrows=2, ncols=2, sharex=True, figsize=(15, 8) )\n",
        "\n",
        "# 드로잉\n",
        "# x축 : 시도 횟수 n차 , 1 ~ 299\n",
        "axes[0,0].plot( x, rmse_test, label='rmse', color='r' )\n",
        "axes[0,0].legend()\n",
        "\n",
        "axes[0,1].plot( x, hyper_params[:, 0], label='alpha', color='g' )\n",
        "axes[0,1].legend()\n",
        "\n",
        "axes[1,0].plot( x, hyper_params[:, 1], label='lambda_w', color='b' )\n",
        "axes[1,0].legend()\n",
        "\n",
        "axes[1,1].plot( x, hyper_params[:, 2], label='mu_w', color='g' )\n",
        "axes[1,1].legend()\n"
      ],
      "execution_count": 0,
      "outputs": [
        {
          "output_type": "execute_result",
          "data": {
            "text/plain": [
              "<matplotlib.legend.Legend at 0x7f8049976b38>"
            ]
          },
          "metadata": {
            "tags": []
          },
          "execution_count": 71
        },
        {
          "output_type": "display_data",
          "data": {
            "image/png": "[encoded data removed]",
            "text/plain": [
              "<Figure size 1080x576 with 4 Axes>"
            ]
          },
          "metadata": {
            "tags": []
          }
        }
      ]
    },
    {
      "cell_type": "code",
      "metadata": {
        "colab_type": "code",
        "outputId": "fcaa3c3d-d7cd-4950-9efc-c827fc0ae893",
        "id": "vWAvUgRA93hp",
        "colab": {
          "base_uri": "https://localhost:8080/",
          "height": 523
        }
      },
      "source": [
        "# 초기값과 후반부 값이 너무 편차가 크다\n",
        "# 초기값을 어느 정도 제거하고 처리하자\n",
        "burn_in = 5\n",
        "\n",
        "from matplotlib import pyplot as plt\n",
        "\n",
        "fig, axes = plt.subplots( nrows=2, ncols=2, sharex=True, figsize=(15, 8) )\n",
        "\n",
        "x1 = x[burn_in:]\n",
        "axes[0,0].plot( x1, rmse_test[burn_in:], label='rmse', color='r' )\n",
        "axes[0,0].legend()\n",
        "axes[0,1].plot( x1, hyper_params[burn_in:, 0], label='alpha', color='g' )\n",
        "axes[0,1].legend()\n",
        "axes[1,0].plot( x1, hyper_params[burn_in:, 1], label='lambda_w', color='b' )\n",
        "axes[1,0].legend()\n",
        "axes[1,1].plot( x1, hyper_params[burn_in:, 2], label='mu_w', color='g' )\n",
        "axes[1,1].legend()\n"
      ],
      "execution_count": 0,
      "outputs": [
        {
          "output_type": "execute_result",
          "data": {
            "text/plain": [
              "<matplotlib.legend.Legend at 0x7f804943fcf8>"
            ]
          },
          "metadata": {
            "tags": []
          },
          "execution_count": 72
        },
        {
          "output_type": "display_data",
          "data": {
            "image/png": "[encoded data removed]",
            "text/plain": [
              "<Figure size 1080x576 with 4 Axes>"
            ]
          },
          "metadata": {
            "tags": []
          }
        }
      ]
    },
    {
      "cell_type": "code",
      "metadata": {
        "id": "_OApcXCn__Ej",
        "colab_type": "code",
        "outputId": "5c6428f9-a379-4794-abf1-a033a7245f90",
        "colab": {
          "base_uri": "https://localhost:8080/",
          "height": 35
        }
      },
      "source": [
        "# 반복횟수가 150회 이상 진행이 되면 하이퍼 파라미터들이 안정화 되간다\n",
        "# 평균제곱근 오차의 손실함수 값의 최소값\n",
        "print( np.min(rmse_test) )\n",
        "# 이값을 더 줄여 보는쪽으로 진행\n",
        "# 횟수, 시드 고정, 랭크값을 조정"
      ],
      "execution_count": 0,
      "outputs": [
        {
          "output_type": "stream",
          "text": [
            "0.8999660453998577\n"
          ],
          "name": "stdout"
        }
      ]
    },
    {
      "cell_type": "code",
      "metadata": {
        "id": "ZpowhFO3AWNE",
        "colab_type": "code",
        "outputId": "d79a47f4-d5a1-4031-b371-e1412d3262e2",
        "colab": {
          "base_uri": "https://localhost:8080/",
          "height": 106
        }
      },
      "source": [
        "n_iter     = 100\n",
        "seed       = 333\n",
        "rmse_test2 = list()\n",
        "ranks      = [4,8,16,32,64]\n",
        "\n",
        "# 랭크 개수대로 반복\n",
        "for rank in ranks:\n",
        "  # 알고리즘 새로 생성\n",
        "  # rank를 제외한 하이퍼퍼라미터 고정 후 rank 변화로 rmse 값 추이 추적\n",
        "  fm = mcmc.FMRegression( n_iter=n_iter, rank=rank, random_state=seed )\n",
        "  # 학습후 예측\n",
        "  y_pred = fm.fit_predict( X_train_dev, y_train_dev, X_test_dev )\n",
        "  # 손실값  = np.sqrt( mse )\n",
        "  rmse_test2.append( np.sqrt(mean_squared_error( y_test_dev, y_pred ))  )\n",
        "  print( rmse_test2[-1] )"
      ],
      "execution_count": 0,
      "outputs": [
        {
          "output_type": "stream",
          "text": [
            "0.9065899468478459\n",
            "0.9013205892913095\n",
            "0.8990082462706511\n",
            "0.8979545381612741\n",
            "0.8972810373395801\n"
          ],
          "name": "stdout"
        }
      ]
    },
    {
      "cell_type": "code",
      "metadata": {
        "id": "Qhqx0hLKCJ4b",
        "colab_type": "code",
        "outputId": "26509796-05d4-470d-ccdd-ec995a2b1f03",
        "colab": {
          "base_uri": "https://localhost:8080/",
          "height": 283
        }
      },
      "source": [
        "plt.plot( ranks, rmse_test2, label='rmse', color='r' )\n",
        "plt.legend()"
      ],
      "execution_count": 0,
      "outputs": [
        {
          "output_type": "execute_result",
          "data": {
            "text/plain": [
              "<matplotlib.legend.Legend at 0x7f804952d160>"
            ]
          },
          "metadata": {
            "tags": []
          },
          "execution_count": 75
        },
        {
          "output_type": "display_data",
          "data": {
            "image/png": "[encoded data removed]",
            "text/plain": [
              "<Figure size 432x288 with 1 Axes>"
            ]
          },
          "metadata": {
            "tags": []
          }
        }
      ]
    },
    {
      "cell_type": "code",
      "metadata": {
        "id": "WPiTwRATGGmz",
        "colab_type": "code",
        "outputId": "66f69012-21a4-4eb2-8411-900b665ab343",
        "colab": {
          "base_uri": "https://localhost:8080/",
          "height": 212
        }
      },
      "source": [
        "for i, pre in enumerate(y_pred):\n",
        "  # 예측 평점, 실제 평점, 2개 평점간 차이\n",
        "  print( '%10f, %10f, %10f'% (pre, y_test_dev[i], y_test_dev[i]-pre) )\n",
        "  if i==10:break"
      ],
      "execution_count": 0,
      "outputs": [
        {
          "output_type": "stream",
          "text": [
            "  3.937430,   5.000000,   1.062570\n",
            "  3.809406,   4.000000,   0.190594\n",
            "  3.396779,   3.000000,  -0.396779\n",
            "  3.343502,   3.000000,  -0.343502\n",
            "  3.958553,   5.000000,   1.041447\n",
            "  3.313651,   4.000000,   0.686349\n",
            "  3.171455,   4.000000,   0.828545\n",
            "  3.922921,   3.000000,  -0.922921\n",
            "  4.051591,   5.000000,   0.948409\n",
            "  3.595786,   3.000000,  -0.595786\n",
            "  3.782290,   4.000000,   0.217710\n"
          ],
          "name": "stdout"
        }
      ]
    },
    {
      "cell_type": "code",
      "metadata": {
        "id": "mLVOkJhyOlcx",
        "colab_type": "code",
        "outputId": "2d4e01cc-d63a-4394-9ec0-f6ff0776e1e5",
        "colab": {
          "base_uri": "https://localhost:8080/",
          "height": 35
        }
      },
      "source": [
        "X_test_v.shape, y_test.shape,X_train_v.shape, y_train.shape"
      ],
      "execution_count": 0,
      "outputs": [
        {
          "output_type": "execute_result",
          "data": {
            "text/plain": [
              "((9430, 2623), (9430,), (90570, 2623), (90570,))"
            ]
          },
          "metadata": {
            "tags": []
          },
          "execution_count": 77
        }
      ]
    },
    {
      "cell_type": "code",
      "metadata": {
        "id": "jR8eT9yQCrYo",
        "colab_type": "code",
        "outputId": "5454fee5-0f6a-45a6-a4fa-5bd0e72f8da8",
        "colab": {
          "base_uri": "https://localhost:8080/",
          "height": 35
        }
      },
      "source": [
        "# ua.test로 준비된 데이터 => 이것을 이 모형에 넣어서 성능을 측정\n",
        "# 하이퍼파라미터 고정값 : n_iter=300, rank=32, seed= 333\n",
        "# 1. 알고리즘 생성\n",
        "fm     = mcmc.FMRegression( n_iter=300, rank=32, random_state=333 )\n",
        "# 2. 훈련및 예측 ( X_test_v)\n",
        "y_pred = fm.fit_predict( X_train_v, y_train, X_test_v )\n",
        "# 3. rmse 출력(평가잣대 y_test)\n",
        "np.sqrt( mean_squared_error( y_test, y_pred ) )"
      ],
      "execution_count": 0,
      "outputs": [
        {
          "output_type": "execute_result",
          "data": {
            "text/plain": [
              "0.9170600657608201"
            ]
          },
          "metadata": {
            "tags": []
          },
          "execution_count": 78
        }
      ]
    },
    {
      "cell_type": "markdown",
      "metadata": {
        "id": "k97noSiPTqOZ",
        "colab_type": "text"
      },
      "source": [
        "- 성능이 더 떨어졌다\n",
        "- 평점 자체가 편차가 크다\n",
        "- 평점을 정규화하여 조정 \n",
        "- StandardScaler 사용\n",
        "- 대상 \n",
        "  - y_train, y_test"
      ]
    },
    {
      "cell_type": "code",
      "metadata": {
        "id": "pg4bjHgPfNeA",
        "colab_type": "code",
        "colab": {}
      },
      "source": [
        "# 7. 성능을 높이기 위해서 -> 정규화를 넣어보자 \n",
        "from sklearn.preprocessing import StandardScaler"
      ],
      "execution_count": 0,
      "outputs": []
    },
    {
      "cell_type": "code",
      "metadata": {
        "id": "QhfYoQ2oUZOT",
        "colab_type": "code",
        "outputId": "c6046bce-ef3d-4ff9-b88c-dc170447e57d",
        "colab": {
          "base_uri": "https://localhost:8080/",
          "height": 35
        }
      },
      "source": [
        "type(y_train), y_train.ndim"
      ],
      "execution_count": 0,
      "outputs": [
        {
          "output_type": "execute_result",
          "data": {
            "text/plain": [
              "(numpy.ndarray, 1)"
            ]
          },
          "metadata": {
            "tags": []
          },
          "execution_count": 80
        }
      ]
    },
    {
      "cell_type": "code",
      "metadata": {
        "id": "fyh4Q4CQUxdX",
        "colab_type": "code",
        "outputId": "63883266-48ed-4b0e-a4a7-2068f786e3ff",
        "colab": {
          "base_uri": "https://localhost:8080/",
          "height": 141
        }
      },
      "source": [
        "y_train.reshape(-1, 1), y_train.reshape(-1, 1).shape"
      ],
      "execution_count": 0,
      "outputs": [
        {
          "output_type": "execute_result",
          "data": {
            "text/plain": [
              "(array([[5.],\n",
              "        [3.],\n",
              "        [4.],\n",
              "        ...,\n",
              "        [3.],\n",
              "        [3.],\n",
              "        [3.]]), (90570, 1))"
            ]
          },
          "metadata": {
            "tags": []
          },
          "execution_count": 81
        }
      ]
    },
    {
      "cell_type": "code",
      "metadata": {
        "id": "UJe4ifAbEuTc",
        "colab_type": "code",
        "colab": {}
      },
      "source": [
        "scaler = StandardScaler()\n",
        "# reshape(-1, 1) => 함수가 2D를 원해서 형태 변경\n",
        "# ravel() => 훈련시 1D를 원하니까 데이터를 1차로 펼쳤다\n",
        "y_train_norm = scaler.fit_transform( y_train.reshape(-1, 1) ).ravel()"
      ],
      "execution_count": 0,
      "outputs": []
    },
    {
      "cell_type": "code",
      "metadata": {
        "id": "K5hZ8PzPUTcS",
        "colab_type": "code",
        "outputId": "eea54d65-c868-4219-c886-89ffadd6c6d2",
        "colab": {
          "base_uri": "https://localhost:8080/",
          "height": 52
        }
      },
      "source": [
        "y_train_norm"
      ],
      "execution_count": 0,
      "outputs": [
        {
          "output_type": "execute_result",
          "data": {
            "text/plain": [
              "array([ 1.31091121, -0.46518292,  0.42286415, ..., -0.46518292,\n",
              "       -0.46518292, -0.46518292])"
            ]
          },
          "metadata": {
            "tags": []
          },
          "execution_count": 83
        }
      ]
    },
    {
      "cell_type": "code",
      "metadata": {
        "id": "Xjvj0Qg-VxYj",
        "colab_type": "code",
        "outputId": "7ead59fa-b0bf-446e-fe44-488aa858ad72",
        "colab": {
          "base_uri": "https://localhost:8080/",
          "height": 35
        }
      },
      "source": [
        "# 정규화한 평점정보를 가지고 수행시 성능향상이 있는지 검토\n",
        "fm     = mcmc.FMRegression( n_iter=300, rank=32, random_state=333 )\n",
        "y_pred = fm.fit_predict( X_train_v, y_train_norm, X_test_v )\n",
        "# 예측값을 정규화 전으로 되돌린다 => 원래 값 복원\n",
        "np.sqrt( mean_squared_error( y_test, scaler.inverse_transform(y_pred) ) )\n",
        "# 약간의 성능이 개선됨"
      ],
      "execution_count": 0,
      "outputs": [
        {
          "output_type": "execute_result",
          "data": {
            "text/plain": [
              "0.916757373574436"
            ]
          },
          "metadata": {
            "tags": []
          },
          "execution_count": 84
        }
      ]
    },
    {
      "cell_type": "markdown",
      "metadata": {
        "id": "1lsTLULMWuxD",
        "colab_type": "text"
      },
      "source": [
        "## 종합\n",
        "\n"
      ]
    },
    {
      "cell_type": "code",
      "metadata": {
        "id": "q74dKgCbWrVj",
        "colab_type": "code",
        "outputId": "0e9da07e-0560-49cb-f725-34009da25457",
        "colab": {
          "base_uri": "https://localhost:8080/",
          "height": 520
        }
      },
      "source": [
        "# 1. 임계값, 하이퍼파라미터 기본값 준비\n",
        "n_iter    = 200\n",
        "step_size = 1\n",
        "seed      = 123\n",
        "rank      = 32\n",
        "\n",
        "# 알고리즘생성\n",
        "fm = mcmc.FMRegression( n_iter=0, rank=rank, random_state=seed  )\n",
        "fm.fit_predict( X_train_v, y_train_norm, X_test_v )\n",
        "\n",
        "# 결과물 담기\n",
        "rmse_test    = list()\n",
        "hyper_params = np.zeros( ( n_iter-1, 3+2*rank ),  dtype=np.float64 )\n",
        "\n",
        "# 학습및 예측을 n_iter만크 수행\n",
        "for nr, i in enumerate( range(1, n_iter) ):\n",
        "  fm.random_state = i * seed\n",
        "  y_pred = fm.fit_predict( X_train_v, y_train_norm, X_test_v, \n",
        "                                              n_more_iter=step_size )\n",
        "  tmp=np.sqrt(mean_squared_error(y_test, scaler.inverse_transform(y_pred)))\n",
        "  rmse_test.append( tmp )\n",
        "  hyper_params[nr, :] = fm.hyper_param_\n",
        "\n",
        "# 시각화\n",
        "burn_in = 5\n",
        "x = np.arange( 1, n_iter )\n",
        "x = x * step_size\n",
        "\n",
        "fig, axes = plt.subplots( nrows=2, ncols=2, sharex=True, figsize=(15, 8) )\n",
        "\n",
        "x1 = x[burn_in:]\n",
        "\n",
        "axes[0,0].plot( x1, rmse_test[burn_in:], label='rmse', color='r' )\n",
        "axes[0,0].legend()\n",
        "axes[0,1].plot( x1, hyper_params[burn_in:, 0], label='alpha', color='g' )\n",
        "axes[0,1].legend()\n",
        "axes[1,0].plot( x1, hyper_params[burn_in:, 1], label='lambda_w', color='b' )\n",
        "axes[1,0].legend()\n",
        "axes[1,1].plot( x1, hyper_params[burn_in:, 2], label='mu_w', color='g' )\n",
        "axes[1,1].legend()\n",
        "\n",
        "# 최소값 => 78번째에서 가장 저점이 나왔다\n",
        "print( np.min(rmse_test), x[np.argmin(rmse_test)] )\n",
        "\n"
      ],
      "execution_count": 0,
      "outputs": [
        {
          "output_type": "stream",
          "text": [
            "0.926646548377043 78\n"
          ],
          "name": "stdout"
        },
        {
          "output_type": "display_data",
          "data": {
            "image/png": "[encoded data removed]",
            "text/plain": [
              "<Figure size 1080x576 with 4 Axes>"
            ]
          },
          "metadata": {
            "tags": []
          }
        }
      ]
    },
    {
      "cell_type": "code",
      "metadata": {
        "id": "l5oTS0aUbGGj",
        "colab_type": "code",
        "outputId": "12da2069-91f6-4af2-d39a-15be511167a5",
        "colab": {
          "base_uri": "https://localhost:8080/",
          "height": 35
        }
      },
      "source": [
        "hyper_params[np.argmin(rmse_test)][:3]"
      ],
      "execution_count": 0,
      "outputs": [
        {
          "output_type": "execute_result",
          "data": {
            "text/plain": [
              "array([ 2.48009911,  6.65316458, 36.46512405])"
            ]
          },
          "metadata": {
            "tags": []
          },
          "execution_count": 86
        }
      ]
    },
    {
      "cell_type": "markdown",
      "metadata": {
        "id": "OqF3ywUJbxkQ",
        "colab_type": "text"
      },
      "source": [
        "## 컬럼을 다양하게 적용"
      ]
    },
    {
      "cell_type": "code",
      "metadata": {
        "id": "k-W19xvFfUcx",
        "colab_type": "code",
        "outputId": "7a46afc3-0ca4-43d9-a5bb-0201a77ebd02",
        "colab": {
          "base_uri": "https://localhost:8080/",
          "height": 199
        }
      },
      "source": [
        "# 8. 컬럼의 조합 및 순서를 바꿔서 교차로 검증해 보자\n",
        "movie_datas.head(2)"
      ],
      "execution_count": 0,
      "outputs": [
        {
          "output_type": "execute_result",
          "data": {
            "text/html": [
              "<div>\n",
              "<style scoped>\n",
              "    .dataframe tbody tr th:only-of-type {\n",
              "        vertical-align: middle;\n",
              "    }\n",
              "\n",
              "    .dataframe tbody tr th {\n",
              "        vertical-align: top;\n",
              "    }\n",
              "\n",
              "    .dataframe thead th {\n",
              "        text-align: right;\n",
              "    }\n",
              "</style>\n",
              "<table border=\"1\" class=\"dataframe\">\n",
              "  <thead>\n",
              "    <tr style=\"text-align: right;\">\n",
              "      <th></th>\n",
              "      <th>mid</th>\n",
              "      <th>title</th>\n",
              "      <th>release_date</th>\n",
              "      <th>video_release_date</th>\n",
              "      <th>url</th>\n",
              "      <th>uid</th>\n",
              "      <th>rating</th>\n",
              "      <th>date</th>\n",
              "      <th>age</th>\n",
              "      <th>s</th>\n",
              "      <th>job</th>\n",
              "      <th>zip_code</th>\n",
              "    </tr>\n",
              "  </thead>\n",
              "  <tbody>\n",
              "    <tr>\n",
              "      <th>0</th>\n",
              "      <td>1</td>\n",
              "      <td>Toy Story (1995)</td>\n",
              "      <td>01-Jan-1995</td>\n",
              "      <td>NaN</td>\n",
              "      <td>http://us.imdb.com/M/title-exact?Toy%20Story%2...</td>\n",
              "      <td>308</td>\n",
              "      <td>4</td>\n",
              "      <td>1998-02-17 17:28:52</td>\n",
              "      <td>60</td>\n",
              "      <td>M</td>\n",
              "      <td>retired</td>\n",
              "      <td>95076</td>\n",
              "    </tr>\n",
              "    <tr>\n",
              "      <th>1</th>\n",
              "      <td>4</td>\n",
              "      <td>Get Shorty (1995)</td>\n",
              "      <td>01-Jan-1995</td>\n",
              "      <td>NaN</td>\n",
              "      <td>http://us.imdb.com/M/title-exact?Get%20Shorty%...</td>\n",
              "      <td>308</td>\n",
              "      <td>5</td>\n",
              "      <td>1998-02-17 17:51:30</td>\n",
              "      <td>60</td>\n",
              "      <td>M</td>\n",
              "      <td>retired</td>\n",
              "      <td>95076</td>\n",
              "    </tr>\n",
              "  </tbody>\n",
              "</table>\n",
              "</div>"
            ],
            "text/plain": [
              "   mid              title release_date  ...  s      job  zip_code\n",
              "0    1   Toy Story (1995)  01-Jan-1995  ...  M  retired     95076\n",
              "1    4  Get Shorty (1995)  01-Jan-1995  ...  M  retired     95076\n",
              "\n",
              "[2 rows x 12 columns]"
            ]
          },
          "metadata": {
            "tags": []
          },
          "execution_count": 87
        }
      ]
    },
    {
      "cell_type": "code",
      "metadata": {
        "id": "V3OCfkgEEur1",
        "colab_type": "code",
        "outputId": "431f6d1e-93d0-4a6c-a3e1-9e7475d7120e",
        "colab": {
          "base_uri": "https://localhost:8080/",
          "height": 247
        }
      },
      "source": [
        "movie_datas.dtypes"
      ],
      "execution_count": 0,
      "outputs": [
        {
          "output_type": "execute_result",
          "data": {
            "text/plain": [
              "mid                            int64\n",
              "title                         object\n",
              "release_date                  object\n",
              "video_release_date           float64\n",
              "url                           object\n",
              "uid                            int64\n",
              "rating                         int64\n",
              "date                  datetime64[ns]\n",
              "age                            int64\n",
              "s                             object\n",
              "job                           object\n",
              "zip_code                      object\n",
              "dtype: object"
            ]
          },
          "metadata": {
            "tags": []
          },
          "execution_count": 88
        }
      ]
    },
    {
      "cell_type": "code",
      "metadata": {
        "id": "Q9w7vREgcZlv",
        "colab_type": "code",
        "outputId": "c914a526-4e26-4c16-d85f-b7967162b965",
        "colab": {
          "base_uri": "https://localhost:8080/",
          "height": 70
        }
      },
      "source": [
        "movie_datas.columns"
      ],
      "execution_count": 0,
      "outputs": [
        {
          "output_type": "execute_result",
          "data": {
            "text/plain": [
              "Index(['mid', 'title', 'release_date', 'video_release_date', 'url', 'uid',\n",
              "       'rating', 'date', 'age', 's', 'job', 'zip_code'],\n",
              "      dtype='object')"
            ]
          },
          "metadata": {
            "tags": []
          },
          "execution_count": 89
        }
      ]
    },
    {
      "cell_type": "code",
      "metadata": {
        "id": "unfOI4vJcJ6C",
        "colab_type": "code",
        "colab": {}
      },
      "source": [
        "# uid, mid를 문자열 변환\n",
        "# year라는 컬럼 추가> date에서 yyyy를 추출하여서 문자열로 추가\n",
        "# DataFrame에서 진행\n",
        "movie_datas['uid'] = movie_datas.uid.astype(str)\n",
        "movie_datas['mid'] = movie_datas.mid.astype(str)"
      ],
      "execution_count": 0,
      "outputs": []
    },
    {
      "cell_type": "code",
      "metadata": {
        "id": "6x4Z5OSgdvsb",
        "colab_type": "code",
        "colab": {}
      },
      "source": [
        "movie_datas['year'] = movie_datas.date.astype(str).str.split('-').str.get(0)\n",
        "#movie_datas['year'] = movie_datas['date']"
      ],
      "execution_count": 0,
      "outputs": []
    },
    {
      "cell_type": "code",
      "metadata": {
        "id": "pZh_bHBid6aQ",
        "colab_type": "code",
        "colab": {}
      },
      "source": [
        "# 컬럼 조합 후보 (순서중요)\n",
        "candidates_cols = [\n",
        " ['uid','mid','age','s','year','rating'],\n",
        " ['uid','mid', 's','year','rating'],\n",
        " ['uid','mid','age','s','rating'],\n",
        " ['uid','mid','s','age','rating'],\n",
        " ['uid','mid','rating']\n",
        "]"
      ],
      "execution_count": 0,
      "outputs": []
    },
    {
      "cell_type": "code",
      "metadata": {
        "id": "ZmBPoombTX_R",
        "colab_type": "code",
        "outputId": "c803058b-983a-4597-8c32-4368bd99872c",
        "colab": {
          "base_uri": "https://localhost:8080/",
          "height": 134
        }
      },
      "source": [
        "# 다루는 데이터\n",
        "movie_datas.head(1)"
      ],
      "execution_count": 0,
      "outputs": [
        {
          "output_type": "execute_result",
          "data": {
            "text/html": [
              "<div>\n",
              "<style scoped>\n",
              "    .dataframe tbody tr th:only-of-type {\n",
              "        vertical-align: middle;\n",
              "    }\n",
              "\n",
              "    .dataframe tbody tr th {\n",
              "        vertical-align: top;\n",
              "    }\n",
              "\n",
              "    .dataframe thead th {\n",
              "        text-align: right;\n",
              "    }\n",
              "</style>\n",
              "<table border=\"1\" class=\"dataframe\">\n",
              "  <thead>\n",
              "    <tr style=\"text-align: right;\">\n",
              "      <th></th>\n",
              "      <th>mid</th>\n",
              "      <th>title</th>\n",
              "      <th>release_date</th>\n",
              "      <th>video_release_date</th>\n",
              "      <th>url</th>\n",
              "      <th>uid</th>\n",
              "      <th>rating</th>\n",
              "      <th>date</th>\n",
              "      <th>age</th>\n",
              "      <th>s</th>\n",
              "      <th>job</th>\n",
              "      <th>zip_code</th>\n",
              "      <th>year</th>\n",
              "    </tr>\n",
              "  </thead>\n",
              "  <tbody>\n",
              "    <tr>\n",
              "      <th>0</th>\n",
              "      <td>1</td>\n",
              "      <td>Toy Story (1995)</td>\n",
              "      <td>01-Jan-1995</td>\n",
              "      <td>NaN</td>\n",
              "      <td>http://us.imdb.com/M/title-exact?Toy%20Story%2...</td>\n",
              "      <td>308</td>\n",
              "      <td>4</td>\n",
              "      <td>1998-02-17 17:28:52</td>\n",
              "      <td>60</td>\n",
              "      <td>M</td>\n",
              "      <td>retired</td>\n",
              "      <td>95076</td>\n",
              "      <td>1998</td>\n",
              "    </tr>\n",
              "  </tbody>\n",
              "</table>\n",
              "</div>"
            ],
            "text/plain": [
              "  mid             title release_date  ...      job zip_code  year\n",
              "0   1  Toy Story (1995)  01-Jan-1995  ...  retired    95076  1998\n",
              "\n",
              "[1 rows x 13 columns]"
            ]
          },
          "metadata": {
            "tags": []
          },
          "execution_count": 104
        }
      ]
    },
    {
      "cell_type": "code",
      "metadata": {
        "id": "4-4JdPZiTGOT",
        "colab_type": "code",
        "outputId": "4e29d9b7-383f-43b1-eae8-08400aa2fc04",
        "colab": {
          "base_uri": "https://localhost:8080/",
          "height": 442
        }
      },
      "source": [
        "# 1. rating을 제거\n",
        "t = movie_datas.drop( 'rating', axis=1 )\n",
        "#t.head(1)\n",
        "# 2. 형태를 [ {컬러명:값, 컬러명:값,..}, {} ]\n",
        "t.to_dict( 'records')[:2]"
      ],
      "execution_count": 0,
      "outputs": [
        {
          "output_type": "execute_result",
          "data": {
            "text/plain": [
              "[{'age': 60,\n",
              "  'date': Timestamp('1998-02-17 17:28:52'),\n",
              "  'job': 'retired',\n",
              "  'mid': '1',\n",
              "  'release_date': '01-Jan-1995',\n",
              "  's': 'M',\n",
              "  'title': 'Toy Story (1995)',\n",
              "  'uid': '308',\n",
              "  'url': 'http://us.imdb.com/M/title-exact?Toy%20Story%20(1995)',\n",
              "  'video_release_date': nan,\n",
              "  'year': '1998',\n",
              "  'zip_code': '95076'},\n",
              " {'age': 60,\n",
              "  'date': Timestamp('1998-02-17 17:51:30'),\n",
              "  'job': 'retired',\n",
              "  'mid': '4',\n",
              "  'release_date': '01-Jan-1995',\n",
              "  's': 'M',\n",
              "  'title': 'Get Shorty (1995)',\n",
              "  'uid': '308',\n",
              "  'url': 'http://us.imdb.com/M/title-exact?Get%20Shorty%20(1995)',\n",
              "  'video_release_date': nan,\n",
              "  'year': '1998',\n",
              "  'zip_code': '95076'}]"
            ]
          },
          "metadata": {
            "tags": []
          },
          "execution_count": 106
        }
      ]
    },
    {
      "cell_type": "code",
      "metadata": {
        "id": "WkrkH8B_fROx",
        "colab_type": "code",
        "outputId": "95540226-ed96-4747-a1eb-e04234ff9b05",
        "colab": {
          "base_uri": "https://localhost:8080/",
          "height": 140,
          "referenced_widgets": [
            "beb7430927d04d4499a7d5ec36cc7d35",
            "b7701056a5f04c4490676567083f1573",
            "23fe5dd070a14084bd0f71348491751f",
            "a72d19bd22b344fc9749fef2905dc147",
            "722a1a3f19b3463bb74b7da4f5361d1a",
            "384a54a8972f4f48ac3a35ee0ad6ad03",
            "4ef678ae89b74cde90a46089736b60a1",
            "c3292614690e4d58b52c21414417915e"
          ]
        }
      },
      "source": [
        "# 1. 임계값, 파라미터 초기값등 설정\n",
        "n_iter    = 500\n",
        "seed      = 123\n",
        "rank      = 8\n",
        "rmse_test = list()\n",
        "\n",
        "from tqdm import tqdm_notebook\n",
        "\n",
        "# 조합별로 반복\n",
        "for column in tqdm_notebook(candidates_cols):\n",
        "  # 누락값 제거\n",
        "  tmp = movie_datas[ column ].dropna()\n",
        "  # 입력데이터를 더미 변수(원핫인코딩, 0 or 1로 변환)\n",
        "  v = DictVectorizer()\n",
        "  # 정답을 분리 => tmp에서 rating을 제거, rating은 별도로 리스트로 보관  \n",
        "  tmp_param = tmp.drop( 'rating', axis=1 ).to_dict( 'records')\n",
        "  X_multicols_train = v.fit_transform( tmp_param )\n",
        "  # 정답 리스트만 가지고 있는 변수명\n",
        "  y_rating_train = tmp['rating'].tolist()\n",
        "\n",
        "  # 훈련데이터, 테스트 데이터로 분류\n",
        "  X_mc_train, X_mc_test, y_mc_train, y_mc_test = train_test_split( \n",
        "         X_multicols_train, y_rating_train,test_size=0.1, random_state=20)\n",
        "\n",
        "  # 평점 정규화\n",
        "  scaler = StandardScaler()\n",
        "  y_mc_train_norm = scaler.fit_transform( \n",
        "                                np.array(y_mc_train).reshape(-1,1) ).ravel()\n",
        "\n",
        "  # 알고리즘 생성\n",
        "  fm = mcmc.FMRegression( n_iter=n_iter, rank=rank, random_state=seed )\n",
        "\n",
        "  # 훈련및 예측\n",
        "  y_pred = fm.fit_predict( X_mc_train, y_mc_train_norm, X_mc_test )\n",
        "\n",
        "  # rmse 계산 \n",
        "  rmse = np.sqrt(mean_squared_error( y_mc_test, scaler.inverse_transform(y_pred) ))\n",
        "\n",
        "  # rmse을 rmse_test 추가\n",
        "  rmse_test.append( rmse )\n",
        "\n",
        "# rmse 시각화"
      ],
      "execution_count": 0,
      "outputs": [
        {
          "output_type": "stream",
          "text": [
            "/usr/local/lib/python3.6/dist-packages/ipykernel_launcher.py:9: TqdmDeprecationWarning: This function will be removed in tqdm==5.0.0\n",
            "Please use `tqdm.notebook.tqdm` instead of `tqdm.tqdm_notebook`\n",
            "  if __name__ == '__main__':\n"
          ],
          "name": "stderr"
        },
        {
          "output_type": "display_data",
          "data": {
            "application/vnd.jupyter.widget-view+json": {
              "model_id": "beb7430927d04d4499a7d5ec36cc7d35",
              "version_minor": 0,
              "version_major": 2
            },
            "text/plain": [
              "HBox(children=(IntProgress(value=0, max=5), HTML(value='')))"
            ]
          },
          "metadata": {
            "tags": []
          }
        },
        {
          "output_type": "stream",
          "text": [
            "\n"
          ],
          "name": "stdout"
        }
      ]
    },
    {
      "cell_type": "code",
      "metadata": {
        "id": "Fi4YdElwijY4",
        "colab_type": "code",
        "outputId": "5d6e4284-ffd8-4a97-e1e0-f808f45bce68",
        "colab": {
          "base_uri": "https://localhost:8080/",
          "height": 106
        }
      },
      "source": [
        "candidates_cols"
      ],
      "execution_count": 0,
      "outputs": [
        {
          "output_type": "execute_result",
          "data": {
            "text/plain": [
              "[['uid', 'mid', 'age', 's', 'year', 'rating'],\n",
              " ['uid', 'mid', 's', 'year', 'rating'],\n",
              " ['uid', 'mid', 'age', 's', 'rating'],\n",
              " ['uid', 'mid', 's', 'age', 'rating'],\n",
              " ['uid', 'mid', 'rating']]"
            ]
          },
          "metadata": {
            "tags": []
          },
          "execution_count": 117
        }
      ]
    },
    {
      "cell_type": "code",
      "metadata": {
        "id": "E4SLLv2uZiqr",
        "colab_type": "code",
        "outputId": "95394d32-72bf-4a35-8707-e708f3938cf7",
        "colab": {
          "base_uri": "https://localhost:8080/",
          "height": 287
        }
      },
      "source": [
        "# 시각화\n",
        "x = np.arange( len(rmse_test) )\n",
        "bar = plt.bar( x, height=rmse_test )\n",
        "plt.xticks( x, (\"A\",\"B\",\"C\",\"D\",\"E\") )\n",
        "plt.ylim( (0.885, 0.9))\n",
        "# 데이터 중에서 ['uid', 'mid', 's', 'year', 'rating'],를 사용하는 \n",
        "# 조합이 가장 성능이 좋게 나온다(현재 임계치 기반)\n",
        "# C와 D가 동일하다 => 2개 컬럼의 순서를 맞바꾼다고 하더라고, \n",
        "# 차이점이 발생하지 않는다 -> 변경의 수를 증가하거나, \n",
        "# 위치를 확연하게 바꿔서 실험이 필요 (실험 보완)"
      ],
      "execution_count": 0,
      "outputs": [
        {
          "output_type": "execute_result",
          "data": {
            "text/plain": [
              "(0.885, 0.9)"
            ]
          },
          "metadata": {
            "tags": []
          },
          "execution_count": 116
        },
        {
          "output_type": "display_data",
          "data": {
            "image/png": "[encoded data removed]",
            "text/plain": [
              "<Figure size 432x288 with 1 Axes>"
            ]
          },
          "metadata": {
            "tags": []
          }
        }
      ]
    },
    {
      "cell_type": "code",
      "metadata": {
        "id": "7ujvD8HniP3j",
        "colab_type": "code",
        "colab": {}
      },
      "source": [
        ""
      ],
      "execution_count": 0,
      "outputs": []
    }
  ]
}